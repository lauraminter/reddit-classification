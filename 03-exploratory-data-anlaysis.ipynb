{
 "cells": [
  {
   "cell_type": "markdown",
   "id": "c505bd2f",
   "metadata": {},
   "source": [
    "# Reddit Classification Problem"
   ]
  },
  {
   "cell_type": "markdown",
   "id": "7e262ead",
   "metadata": {},
   "source": [
    "## Laura Minter\n",
    "### November 2021"
   ]
  },
  {
   "cell_type": "markdown",
   "id": "382a11ea",
   "metadata": {},
   "source": [
    "### Notebook 03: Exploratory Data Analysis\n",
    "This notebook assumes that the previous [data cleaning notebook](./02_data_cleaning.ipynb) was succesfully run and that correct cleaned data is stored in the `./data` folder using the `<subreddit_name>_cleaned.csv` style filename. "
   ]
  },
  {
   "cell_type": "markdown",
   "id": "d0a3fea4",
   "metadata": {},
   "source": [
    "#### Problem statement\n",
    "Identify common and disparate themes in the reddit posts to for Portland and Seattle subreddits that could be useful for marketing campaigns across the Pacific Northwest.  \n"
   ]
  },
  {
   "cell_type": "code",
   "execution_count": 1,
   "id": "983f24db",
   "metadata": {},
   "outputs": [],
   "source": [
    "#imports\n",
    "import pandas as pd\n",
    "import os\n",
    "import seaborn as sns\n",
    "import numpy as np\n",
    "import matplotlib.pyplot as plt\n",
    "\n",
    "from sklearn.feature_extraction.text import CountVectorizer, TfidfVectorizer\n",
    "from sklearn.model_selection import train_test_split\n",
    "\n",
    "from nltk.sentiment.vader import SentimentIntensityAnalyzer\n"
   ]
  },
  {
   "cell_type": "code",
   "execution_count": 2,
   "id": "114e7ea3",
   "metadata": {},
   "outputs": [],
   "source": [
    "sea = pd.read_csv('./data/Seattle/seattle_cleaned.csv')\n",
    "sea['r_seattlewa'] = 0\n",
    "sea['r_portland'] = 0\n",
    "sea['from_seattle'] = 1\n",
    "sea['from_portland'] = 0"
   ]
  },
  {
   "cell_type": "code",
   "execution_count": 3,
   "id": "5285111b",
   "metadata": {},
   "outputs": [],
   "source": [
    "wa = pd.read_csv('./data/SeattleWA/seattlewa_cleaned.csv')\n",
    "wa['r_seattlewa'] = 1\n",
    "wa['r_portland'] = 0\n",
    "wa['from_seattle'] = 1\n",
    "wa['from_portland'] = 0"
   ]
  },
  {
   "cell_type": "code",
   "execution_count": 4,
   "id": "d6fd47be",
   "metadata": {},
   "outputs": [],
   "source": [
    "pdx = pd.read_csv('./data/Portland/portland_cleaned.csv')\n",
    "pdx['r_seattlewa'] = 0\n",
    "pdx['r_portland'] = 1\n",
    "pdx['from_seattle'] = 0\n",
    "pdx['from_portland'] = 1"
   ]
  },
  {
   "cell_type": "code",
   "execution_count": 5,
   "id": "15e218e9",
   "metadata": {},
   "outputs": [],
   "source": [
    "df = pd.concat([sea,wa, pdx],axis = 0)"
   ]
  },
  {
   "cell_type": "code",
   "execution_count": 6,
   "id": "246c9af4",
   "metadata": {},
   "outputs": [],
   "source": [
    "df.drop(columns = 'Unnamed: 0', inplace = True)\n",
    "\n",
    "df['fulltext'] = df['title'].map(str) + df['selftext'].map(str)"
   ]
  },
  {
   "cell_type": "code",
   "execution_count": 7,
   "id": "eaf961d5",
   "metadata": {},
   "outputs": [
    {
     "data": {
      "text/html": [
       "<div>\n",
       "<style scoped>\n",
       "    .dataframe tbody tr th:only-of-type {\n",
       "        vertical-align: middle;\n",
       "    }\n",
       "\n",
       "    .dataframe tbody tr th {\n",
       "        vertical-align: top;\n",
       "    }\n",
       "\n",
       "    .dataframe thead th {\n",
       "        text-align: right;\n",
       "    }\n",
       "</style>\n",
       "<table border=\"1\" class=\"dataframe\">\n",
       "  <thead>\n",
       "    <tr style=\"text-align: right;\">\n",
       "      <th></th>\n",
       "      <th>selftext</th>\n",
       "      <th>title</th>\n",
       "      <th>author</th>\n",
       "      <th>id</th>\n",
       "      <th>r_seattlewa</th>\n",
       "      <th>r_portland</th>\n",
       "      <th>from_seattle</th>\n",
       "      <th>from_portland</th>\n",
       "      <th>fulltext</th>\n",
       "    </tr>\n",
       "  </thead>\n",
       "  <tbody>\n",
       "    <tr>\n",
       "      <th>0</th>\n",
       "      <td>NaN</td>\n",
       "      <td>Driver in Summer Taylor vehicular homicide cas...</td>\n",
       "      <td>OnlineMemeArmy</td>\n",
       "      <td>kr0hh7</td>\n",
       "      <td>0</td>\n",
       "      <td>0</td>\n",
       "      <td>1</td>\n",
       "      <td>0</td>\n",
       "      <td>Driver in Summer Taylor vehicular homicide cas...</td>\n",
       "    </tr>\n",
       "    <tr>\n",
       "      <th>1</th>\n",
       "      <td>NaN</td>\n",
       "      <td>Another stormy day brings high winds, landslid...</td>\n",
       "      <td>OnlineMemeArmy</td>\n",
       "      <td>kr0grd</td>\n",
       "      <td>0</td>\n",
       "      <td>0</td>\n",
       "      <td>1</td>\n",
       "      <td>0</td>\n",
       "      <td>Another stormy day brings high winds, landslid...</td>\n",
       "    </tr>\n",
       "    <tr>\n",
       "      <th>2</th>\n",
       "      <td>NaN</td>\n",
       "      <td>Gender-fluid dancer breaks barriers at Pacific...</td>\n",
       "      <td>OnlineMemeArmy</td>\n",
       "      <td>kr0dx9</td>\n",
       "      <td>0</td>\n",
       "      <td>0</td>\n",
       "      <td>1</td>\n",
       "      <td>0</td>\n",
       "      <td>Gender-fluid dancer breaks barriers at Pacific...</td>\n",
       "    </tr>\n",
       "    <tr>\n",
       "      <th>3</th>\n",
       "      <td>NaN</td>\n",
       "      <td>Logistics proving to be biggest challenge for ...</td>\n",
       "      <td>OnlineMemeArmy</td>\n",
       "      <td>kr0c3t</td>\n",
       "      <td>0</td>\n",
       "      <td>0</td>\n",
       "      <td>1</td>\n",
       "      <td>0</td>\n",
       "      <td>Logistics proving to be biggest challenge for ...</td>\n",
       "    </tr>\n",
       "    <tr>\n",
       "      <th>4</th>\n",
       "      <td>NaN</td>\n",
       "      <td>Tribes, preservation societies join lawsuit to...</td>\n",
       "      <td>OnlineMemeArmy</td>\n",
       "      <td>kr0b0m</td>\n",
       "      <td>0</td>\n",
       "      <td>0</td>\n",
       "      <td>1</td>\n",
       "      <td>0</td>\n",
       "      <td>Tribes, preservation societies join lawsuit to...</td>\n",
       "    </tr>\n",
       "  </tbody>\n",
       "</table>\n",
       "</div>"
      ],
      "text/plain": [
       "  selftext                                              title          author  \\\n",
       "0      NaN  Driver in Summer Taylor vehicular homicide cas...  OnlineMemeArmy   \n",
       "1      NaN  Another stormy day brings high winds, landslid...  OnlineMemeArmy   \n",
       "2      NaN  Gender-fluid dancer breaks barriers at Pacific...  OnlineMemeArmy   \n",
       "3      NaN  Logistics proving to be biggest challenge for ...  OnlineMemeArmy   \n",
       "4      NaN  Tribes, preservation societies join lawsuit to...  OnlineMemeArmy   \n",
       "\n",
       "       id  r_seattlewa  r_portland  from_seattle  from_portland  \\\n",
       "0  kr0hh7            0           0             1              0   \n",
       "1  kr0grd            0           0             1              0   \n",
       "2  kr0dx9            0           0             1              0   \n",
       "3  kr0c3t            0           0             1              0   \n",
       "4  kr0b0m            0           0             1              0   \n",
       "\n",
       "                                            fulltext  \n",
       "0  Driver in Summer Taylor vehicular homicide cas...  \n",
       "1  Another stormy day brings high winds, landslid...  \n",
       "2  Gender-fluid dancer breaks barriers at Pacific...  \n",
       "3  Logistics proving to be biggest challenge for ...  \n",
       "4  Tribes, preservation societies join lawsuit to...  "
      ]
     },
     "execution_count": 7,
     "metadata": {},
     "output_type": "execute_result"
    }
   ],
   "source": [
    "df.head()\n"
   ]
  },
  {
   "cell_type": "code",
   "execution_count": 8,
   "id": "b3387008",
   "metadata": {
    "scrolled": true
   },
   "outputs": [
    {
     "data": {
      "text/plain": [
       "0    149895\n",
       "1    120705\n",
       "Name: from_seattle, dtype: int64"
      ]
     },
     "execution_count": 8,
     "metadata": {},
     "output_type": "execute_result"
    }
   ],
   "source": [
    "df['from_seattle'].value_counts()"
   ]
  },
  {
   "cell_type": "code",
   "execution_count": 9,
   "id": "40191faf",
   "metadata": {},
   "outputs": [
    {
     "data": {
      "text/plain": [
       "1    149895\n",
       "0    120705\n",
       "Name: r_portland, dtype: int64"
      ]
     },
     "execution_count": 9,
     "metadata": {},
     "output_type": "execute_result"
    }
   ],
   "source": [
    "df['r_portland'].value_counts()"
   ]
  },
  {
   "cell_type": "markdown",
   "id": "4b8ff0eb",
   "metadata": {},
   "source": [
    "### Looking at the length of posts"
   ]
  },
  {
   "cell_type": "code",
   "execution_count": 10,
   "id": "1bf91ef8",
   "metadata": {},
   "outputs": [],
   "source": [
    "sea['title_length'] = sea['title'].map(lambda x: len(str(x)))\n",
    "sea['text_length'] = sea['selftext'].map(lambda x: len(str(x)))\n",
    "sea['fulltext'] = sea['title'].map(str) + sea['selftext'].map(str)\n",
    "sea['total_length'] = sea['fulltext'].map(lambda x: len(str(x)))\n",
    "\n",
    "sea['title_words'] = sea['title'].map(lambda x: len(str(x).split()))\n",
    "sea['text_words'] = sea['selftext'].map(lambda x: len(str(x).split()))\n",
    "sea['fulltext_words'] = sea['title'].map(lambda x: len(str(x).split()))\n"
   ]
  },
  {
   "cell_type": "code",
   "execution_count": 11,
   "id": "3e09ec4b",
   "metadata": {},
   "outputs": [],
   "source": [
    "\n",
    "wa['title_length'] = wa['title'].map(lambda x: len(str(x)))\n",
    "wa['text_length'] = wa['selftext'].map(lambda x: len(str(x)))\n",
    "wa['fulltext'] = wa['title'].map(str) + wa['selftext'].map(str)\n",
    "wa['total_length'] = wa['fulltext'].map(lambda x: len(str(x)))\n",
    "\n",
    "wa['title_words'] = wa['title'].map(lambda x: len(str(x).split()))\n",
    "wa['text_words'] = wa['selftext'].map(lambda x: len(str(x).split()))\n",
    "wa['fulltext_words'] = wa['title'].map(lambda x: len(str(x).split()))"
   ]
  },
  {
   "cell_type": "code",
   "execution_count": 12,
   "id": "b7f19ba0",
   "metadata": {},
   "outputs": [],
   "source": [
    "pdx['title_length'] = pdx['title'].map(lambda x: len(str(x)))\n",
    "pdx['text_length'] = pdx['selftext'].map(lambda x: len(str(x)))\n",
    "pdx['fulltext'] = pdx['title'].map(str) + pdx['selftext'].map(str)\n",
    "pdx['total_length'] = pdx['fulltext'].map(lambda x: len(str(x)))\n",
    "\n",
    "pdx['title_words'] = pdx['title'].map(lambda x: len(str(x).split()))\n",
    "pdx['text_words'] = pdx['selftext'].map(lambda x: len(str(x).split()))\n",
    "pdx['fulltext_words'] = pdx['title'].map(lambda x: len(str(x).split()))"
   ]
  },
  {
   "cell_type": "code",
   "execution_count": 13,
   "id": "19cc6025",
   "metadata": {},
   "outputs": [],
   "source": [
    "df['title_length'] = df['title'].map(lambda x: len(str(x)))\n",
    "df['text_length'] = df['selftext'].map(lambda x: len(str(x)))\n",
    "df['total_length'] = df['fulltext'].map(lambda x: len(str(x)))\n",
    "\n",
    "df['title_words'] = df['title'].map(lambda x: len(str(x).split()))\n",
    "df['text_words'] = df['selftext'].map(lambda x: len(str(x).split()))\n",
    "df['fulltext_words'] = df['title'].map(lambda x: len(str(x).split()))"
   ]
  },
  {
   "cell_type": "code",
   "execution_count": 14,
   "id": "48611779",
   "metadata": {},
   "outputs": [],
   "source": [
    "#removing linebreaks, links, like in our NLPII lesson.  \n",
    "#get rid of links and line breaks\n",
    "\n",
    "df['fulltext'] = df['fulltext'].replace('http\\S+', '', regex=True).replace('www\\S+', '', regex=True).replace('\\n\\n\\S+', '', regex=True).replace('\\n|S+', '', regex = True)"
   ]
  },
  {
   "cell_type": "code",
   "execution_count": 15,
   "id": "7a0dc236",
   "metadata": {},
   "outputs": [
    {
     "data": {
      "image/png": "[encoded data removed]",
      "text/plain": [
       "<Figure size 864x576 with 1 Axes>"
      ]
     },
     "metadata": {
      "needs_background": "light"
     },
     "output_type": "display_data"
    }
   ],
   "source": [
    "plt.figure(figsize=(12,8))\n",
    "sea['title_length'].hist(bins = 50, color = 'b');\n",
    "wa['title_length'].hist(bins = 50, color = 'r');\n",
    "#pdx['title_length'].hist(bins = 50, color = 'orange');\n",
    "plt.title('Number of characters in title for r/Seattle (blue) and r/SeattleWA (red)', size = 16)\n",
    "plt.xlabel('Characters in title', size = 15);\n",
    "plt.ylabel('Counts', size = 15);"
   ]
  },
  {
   "cell_type": "code",
   "execution_count": 16,
   "id": "9fee8d5a",
   "metadata": {},
   "outputs": [
    {
     "data": {
      "image/png": "[encoded data removed]",
      "text/plain": [
       "<Figure size 864x576 with 1 Axes>"
      ]
     },
     "metadata": {
      "needs_background": "light"
     },
     "output_type": "display_data"
    }
   ],
   "source": [
    "plt.figure(figsize=(12,8))\n",
    "sea['text_length'].hist(bins = 500, color = 'b');\n",
    "wa['text_length'].hist(bins = 500, color = 'r');\n",
    "plt.title('Number of characters in submission for r/Seattle (blue) and r/SeattleWA (red)', size = 16)\n",
    "plt.xlabel('Characters in submission', size = 15);\n",
    "plt.ylabel('Counts', size = 15);\n",
    "\n"
   ]
  },
  {
   "cell_type": "code",
   "execution_count": 17,
   "id": "52013dc6",
   "metadata": {},
   "outputs": [
    {
     "data": {
      "image/png": "[encoded data removed]",
      "text/plain": [
       "<Figure size 432x864 with 3 Axes>"
      ]
     },
     "metadata": {
      "needs_background": "light"
     },
     "output_type": "display_data"
    }
   ],
   "source": [
    "plt.figure(figsize=(6,12))\n",
    "\n",
    "plt.subplot(3,1,1)\n",
    "pdx['title_words'].hist(bins = 60, color = 'g', density = True);\n",
    "plt.title('Number of words in title for r/Portland (green)')\n",
    "#plt.xlabel('Words in title');\n",
    "plt.ylabel('Counts');\n",
    "\n",
    "plt.subplot(3,1,2)\n",
    "sea['title_words'].hist(bins = 60, color = 'b', density = True);\n",
    "plt.title('Number of words in title for r/Seattle (blue)')\n",
    "#plt.xlabel('Words in title');\n",
    "plt.ylabel('Counts');\n",
    "\n",
    "plt.subplot(3,1,3)\n",
    "wa['title_words'].hist(bins = 60, color = 'r', density = True);\n",
    "\n",
    "plt.title('Number of words in title for r/SeattleWA (red)')\n",
    "plt.xlabel('Words in title');\n",
    "plt.ylabel('Counts');"
   ]
  },
  {
   "cell_type": "code",
   "execution_count": 18,
   "id": "375ee2ea",
   "metadata": {},
   "outputs": [
    {
     "data": {
      "image/png": "[encoded data removed]",
      "text/plain": [
       "<Figure size 432x864 with 3 Axes>"
      ]
     },
     "metadata": {
      "needs_background": "light"
     },
     "output_type": "display_data"
    }
   ],
   "source": [
    "plt.figure(figsize=(6,12))\n",
    "\n",
    "plt.subplot(3,1,1)\n",
    "pdx['text_words'].hist(bins = 500, color = 'g',density=True);\n",
    "plt.title('Number of words in submission for r/Portland (green)')\n",
    "plt.ylabel('Counts');\n",
    "\n",
    "plt.subplot(3,1,2)\n",
    "sea['text_words'].hist(bins = 500, color = 'b',density = True);\n",
    "plt.title('Number of words in submission for r/Seattle (blue)')\n",
    "plt.ylabel('Counts');\n",
    "\n",
    "plt.subplot(3,1,3)\n",
    "wa['text_words'].hist(bins = 500, color = 'r', density = True);\n",
    "plt.title('Number of words in submission for r/SeattleWA (red)')\n",
    "plt.xlabel('Words in submission');\n",
    "plt.ylabel('Counts');\n"
   ]
  },
  {
   "cell_type": "code",
   "execution_count": 19,
   "id": "240ecd00",
   "metadata": {},
   "outputs": [
    {
     "data": {
      "text/plain": [
       "count    149895.000000\n",
       "mean         28.943874\n",
       "std          82.578067\n",
       "min           0.000000\n",
       "25%           1.000000\n",
       "50%           1.000000\n",
       "75%          30.000000\n",
       "max        5224.000000\n",
       "Name: text_words, dtype: float64"
      ]
     },
     "execution_count": 19,
     "metadata": {},
     "output_type": "execute_result"
    }
   ],
   "source": [
    "pdx['text_words'].describe()"
   ]
  },
  {
   "cell_type": "code",
   "execution_count": 20,
   "id": "9ec2bd2d",
   "metadata": {},
   "outputs": [
    {
     "data": {
      "text/plain": [
       "count    120705.000000\n",
       "mean         27.023885\n",
       "std          77.646668\n",
       "min           0.000000\n",
       "25%           1.000000\n",
       "50%           1.000000\n",
       "75%          19.000000\n",
       "max        5527.000000\n",
       "Name: text_words, dtype: float64"
      ]
     },
     "execution_count": 20,
     "metadata": {},
     "output_type": "execute_result"
    }
   ],
   "source": [
    "pd.concat([sea,wa])['text_words'].describe()"
   ]
  },
  {
   "cell_type": "markdown",
   "id": "9bda36b2",
   "metadata": {},
   "source": [
    "There are some differences in the length of both titles and submissions between the groups. We might select some length feature to include in the initial model.   "
   ]
  },
  {
   "cell_type": "markdown",
   "id": "923c4e53",
   "metadata": {},
   "source": [
    "### Vectorizing text"
   ]
  },
  {
   "cell_type": "code",
   "execution_count": 21,
   "id": "54ae3a1f",
   "metadata": {},
   "outputs": [],
   "source": [
    "X = df['fulltext']\n",
    "y = df['from_seattle']"
   ]
  },
  {
   "cell_type": "code",
   "execution_count": 22,
   "id": "0d34665a",
   "metadata": {},
   "outputs": [],
   "source": [
    "X_train, X_test, y_train, y_test = train_test_split(X,y, stratify=y, random_state=42)"
   ]
  },
  {
   "cell_type": "code",
   "execution_count": 23,
   "id": "abd74329",
   "metadata": {
    "scrolled": true
   },
   "outputs": [
    {
     "name": "stdout",
     "output_type": "stream",
     "text": [
      "CPU times: user 6.09 s, sys: 973 ms, total: 7.06 s\n",
      "Wall time: 7.27 s\n"
     ]
    }
   ],
   "source": [
    "%%time\n",
    "\n",
    "#vectorize first with CountVectorizer\n",
    "cv = CountVectorizer(stop_words='english',max_features=3000)\n",
    "\n",
    "X_train_cv = cv.fit_transform(X_train)\n",
    "X_test_cv = cv.transform(X_test)\n",
    "\n",
    "cvdf = pd.DataFrame(X_train_cv.todense(), columns = cv.get_feature_names())"
   ]
  },
  {
   "cell_type": "code",
   "execution_count": 24,
   "id": "be87168c",
   "metadata": {},
   "outputs": [
    {
     "name": "stdout",
     "output_type": "stream",
     "text": [
      "CPU times: user 6.29 s, sys: 988 ms, total: 7.28 s\n",
      "Wall time: 7.6 s\n"
     ]
    }
   ],
   "source": [
    "%%time\n",
    "\n",
    "#vectorize next with TfidVectorizer\n",
    "tv = TfidfVectorizer(stop_words='english', max_features=3000)\n",
    "\n",
    "X_train_tv = tv.fit_transform(X_train)\n",
    "X_test_tv = tv.transform(X_test)\n",
    "tvdf = pd.DataFrame(X_train_tv.todense(), columns = tv.get_feature_names())"
   ]
  },
  {
   "cell_type": "code",
   "execution_count": 25,
   "id": "b922464a",
   "metadata": {},
   "outputs": [],
   "source": [
    "sea = df[df['from_seattle']==1]\n",
    "pdx = df[df['from_seattle']==0]\n",
    "\n",
    "sea_cv = cv.fit_transform(sea['fulltext'])\n",
    "sea_cv_df = pd.DataFrame(sea_cv.todense(), columns = cv.get_feature_names())\n",
    "\n",
    "pdx_cv = cv.fit_transform(pdx['fulltext'])\n",
    "pdx_cv_df = pd.DataFrame(pdx_cv.todense(), columns = cv.get_feature_names())\n",
    "\n"
   ]
  },
  {
   "cell_type": "code",
   "execution_count": 26,
   "id": "2f89dc97",
   "metadata": {
    "scrolled": false
   },
   "outputs": [
    {
     "data": {
      "text/plain": [
       "nan           10066.832250\n",
       "portland       6099.727508\n",
       "eattle         6032.072231\n",
       "removed        3573.415568\n",
       "deleted        2983.869821\n",
       "just           2707.883045\n",
       "know           2632.059929\n",
       "like           2500.347472\n",
       "city           2330.108880\n",
       "new            2308.175804\n",
       "looking        2095.876377\n",
       "people         2079.527698\n",
       "oregon         1905.516651\n",
       "police         1870.964188\n",
       "good           1804.961375\n",
       "time           1717.526864\n",
       "help           1612.347906\n",
       "don            1581.162952\n",
       "area           1556.492504\n",
       "going          1538.204881\n",
       "day            1477.666926\n",
       "ve             1457.469435\n",
       "need           1453.101472\n",
       "washington     1431.622223\n",
       "want           1405.580343\n",
       "dtype: float64"
      ]
     },
     "execution_count": 26,
     "metadata": {},
     "output_type": "execute_result"
    }
   ],
   "source": [
    "tvdf.sum().sort_values(ascending=False).head(25)"
   ]
  },
  {
   "cell_type": "code",
   "execution_count": 27,
   "id": "80e99770",
   "metadata": {},
   "outputs": [
    {
     "data": {
      "text/plain": [
       "eattle        53230\n",
       "nan           24600\n",
       "just          13435\n",
       "like          13320\n",
       "people        11872\n",
       "know          11633\n",
       "city          11172\n",
       "new           10146\n",
       "calendar       8510\n",
       "event          8508\n",
       "looking        8503\n",
       "area           8258\n",
       "time           8227\n",
       "don            7974\n",
       "want           7744\n",
       "hosted         7484\n",
       "ve             7300\n",
       "good           6607\n",
       "washington     6351\n",
       "amp            6228\n",
       "need           5869\n",
       "police         5856\n",
       "day            5849\n",
       "going          5844\n",
       "help           5723\n",
       "dtype: int64"
      ]
     },
     "execution_count": 27,
     "metadata": {},
     "output_type": "execute_result"
    }
   ],
   "source": [
    "sea_cv_df.sum().sort_values(ascending=False).head(25)"
   ]
  },
  {
   "cell_type": "code",
   "execution_count": 28,
   "id": "1db10d87",
   "metadata": {},
   "outputs": [
    {
     "data": {
      "text/plain": [
       "portland    49379\n",
       "nan         35824\n",
       "just        21147\n",
       "like        18965\n",
       "know        18864\n",
       "people      15523\n",
       "looking     12618\n",
       "don         11514\n",
       "time        10884\n",
       "ve          10793\n",
       "oregon      10678\n",
       "good         9851\n",
       "help         9744\n",
       "want         9704\n",
       "new          9554\n",
       "going        9269\n",
       "need         8863\n",
       "city         8786\n",
       "deleted      8755\n",
       "removed      7897\n",
       "place        7743\n",
       "car          7557\n",
       "work         7433\n",
       "area         7313\n",
       "really       7158\n",
       "dtype: int64"
      ]
     },
     "execution_count": 28,
     "metadata": {},
     "output_type": "execute_result"
    }
   ],
   "source": [
    "pdx_cv_df.sum().sort_values(ascending=False).head(25)"
   ]
  },
  {
   "cell_type": "code",
   "execution_count": 29,
   "id": "ab4db101",
   "metadata": {
    "scrolled": false
   },
   "outputs": [
    {
     "data": {
      "image/png": "[encoded data removed]",
      "text/plain": [
       "<Figure size 864x864 with 2 Axes>"
      ]
     },
     "metadata": {
      "needs_background": "light"
     },
     "output_type": "display_data"
    }
   ],
   "source": [
    "plt.figure(figsize=(12,12))\n",
    "plt.subplot(2,1,1)\n",
    "pdx_cv_df.sum().sort_values(ascending=False).head(25).plot(kind='barh')\n",
    "plt.title('Most common words for reddit Portland posts')\n",
    "plt.subplot(2,1,2)\n",
    "sea_cv_df.sum().sort_values(ascending=False).head(25).plot(kind='barh');\n",
    "plt.title('Most common words for reddit Seattle posts');"
   ]
  },
  {
   "cell_type": "markdown",
   "id": "82d1f538",
   "metadata": {},
   "source": [
    "There are common words that are related to the location like Washington and Oregon.  There are also nan, removed, and deleted that may be unusable information.  "
   ]
  },
  {
   "cell_type": "code",
   "execution_count": 30,
   "id": "052f4f02",
   "metadata": {},
   "outputs": [],
   "source": [
    "sea_100 = set(sea_cv_df.sum().sort_values(ascending=False).head(100).index)\n",
    "pdx_100 = set(pdx_cv_df.sum().sort_values(ascending=False).head(100).index)"
   ]
  },
  {
   "cell_type": "code",
   "execution_count": 31,
   "id": "add5367c",
   "metadata": {},
   "outputs": [
    {
     "data": {
      "text/plain": [
       "{'10',\n",
       " 'amp',\n",
       " 'area',\n",
       " 'best',\n",
       " 'car',\n",
       " 'city',\n",
       " 'community',\n",
       " 'covid',\n",
       " 'day',\n",
       " 'days',\n",
       " 'did',\n",
       " 'does',\n",
       " 'don',\n",
       " 'downtown',\n",
       " 'feel',\n",
       " 'food',\n",
       " 'free',\n",
       " 'getting',\n",
       " 'going',\n",
       " 'good',\n",
       " 'got',\n",
       " 'help',\n",
       " 'home',\n",
       " 'homeless',\n",
       " 'house',\n",
       " 'just',\n",
       " 'know',\n",
       " 'let',\n",
       " 'like',\n",
       " 'live',\n",
       " 'll',\n",
       " 'local',\n",
       " 'long',\n",
       " 'looking',\n",
       " 'lot',\n",
       " 'love',\n",
       " 'make',\n",
       " 'man',\n",
       " 'nan',\n",
       " 'near',\n",
       " 'need',\n",
       " 'new',\n",
       " 'night',\n",
       " 'open',\n",
       " 'park',\n",
       " 'people',\n",
       " 'place',\n",
       " 'places',\n",
       " 'police',\n",
       " 'post',\n",
       " 'really',\n",
       " 'removed',\n",
       " 'right',\n",
       " 'sure',\n",
       " 'thanks',\n",
       " 'things',\n",
       " 'think',\n",
       " 'time',\n",
       " 'today',\n",
       " 'trying',\n",
       " 'use',\n",
       " 've',\n",
       " 'want',\n",
       " 'way',\n",
       " 'week',\n",
       " 'work',\n",
       " 'year',\n",
       " 'years'}"
      ]
     },
     "execution_count": 31,
     "metadata": {},
     "output_type": "execute_result"
    }
   ],
   "source": [
    "#words that appear in both top 100 lists\n",
    "sea_100.intersection(pdx_100)"
   ]
  },
  {
   "cell_type": "code",
   "execution_count": 32,
   "id": "c2bc6886",
   "metadata": {
    "scrolled": true
   },
   "outputs": [
    {
     "data": {
      "text/plain": [
       "{'ago',\n",
       " 'away',\n",
       " 'bike',\n",
       " 'buy',\n",
       " 'come',\n",
       " 'deleted',\n",
       " 'didn',\n",
       " 'dog',\n",
       " 'doing',\n",
       " 'friends',\n",
       " 'great',\n",
       " 'job',\n",
       " 'little',\n",
       " 'look',\n",
       " 'lost',\n",
       " 'maybe',\n",
       " 'money',\n",
       " 'morning',\n",
       " 'old',\n",
       " 'oregon',\n",
       " 'pdx',\n",
       " 'person',\n",
       " 'portland',\n",
       " 'pretty',\n",
       " 'said',\n",
       " 'seen',\n",
       " 'thank',\n",
       " 'thing',\n",
       " 'tonight',\n",
       " 'town',\n",
       " 'weekend',\n",
       " 'wondering'}"
      ]
     },
     "execution_count": 32,
     "metadata": {},
     "output_type": "execute_result"
    }
   ],
   "source": [
    "#words that only appear in pdx top 100\n",
    "pdx_100-sea_100"
   ]
  },
  {
   "cell_type": "code",
   "execution_count": 33,
   "id": "3b8fb1cb",
   "metadata": {
    "scrolled": false
   },
   "outputs": [
    {
     "data": {
      "text/plain": [
       "{'30',\n",
       " 'calendar',\n",
       " 'capitol',\n",
       " 'chance',\n",
       " 'chat',\n",
       " 'cloudy',\n",
       " 'county',\n",
       " 'doesn',\n",
       " 'eattle',\n",
       " 'event',\n",
       " 'high',\n",
       " 'hill',\n",
       " 'hosted',\n",
       " 'kids',\n",
       " 'king',\n",
       " 'low',\n",
       " 'month',\n",
       " 'moving',\n",
       " 'mph',\n",
       " 'north',\n",
       " 'outh',\n",
       " 'possible',\n",
       " 'public',\n",
       " 'rain',\n",
       " 'recommendations',\n",
       " 'reddit',\n",
       " 'state',\n",
       " 'suggestions',\n",
       " 'wa',\n",
       " 'washington',\n",
       " 'west',\n",
       " 'wind'}"
      ]
     },
     "execution_count": 33,
     "metadata": {},
     "output_type": "execute_result"
    }
   ],
   "source": [
    "#words that only appear in sea top 100\n",
    "sea_100-pdx_100"
   ]
  },
  {
   "cell_type": "markdown",
   "id": "65033c21",
   "metadata": {},
   "source": [
    "We see lots of differences when we look at words that appear on the top 100 in only one of the cities.  \n",
    "\n",
    "Seattle is much more likely to use advice-related words like 'suggestion' and 'recommendations.'  \n",
    "\n",
    "Portland is much more likely to us purchase-related words like 'buy' and 'money.'  \n"
   ]
  },
  {
   "cell_type": "markdown",
   "id": "5fb10f58",
   "metadata": {},
   "source": [
    "Seattle also has more references to weather-related words like 'rain', 'cloudy' and 'wind' as well as high occurences of 'chance' and 'mph' which are not conclusively weather related but often used in that context.  \n",
    "\n"
   ]
  },
  {
   "cell_type": "markdown",
   "id": "8c4be898",
   "metadata": {},
   "source": [
    "Portland is much more likely to reference friends while Seattle is more likely to reference kids.  Experience tell us that these references may not be positive and sentiment analysis on these may provide more insight.  \n",
    "\n"
   ]
  },
  {
   "cell_type": "markdown",
   "id": "64c4790f",
   "metadata": {},
   "source": [
    "Unsurprisingly both locations are more likely to use their own location words like city and state names.  \n",
    "\n",
    "Also common in both locations are references to hotbutton issues with words like 'covid', 'police', and 'homeless' all being in the top 100 in both cities.    \n",
    "\n",
    "Both locations also use the words 'free' and 'food' at high rates as well as 'downtown' and 'community.'  "
   ]
  },
  {
   "cell_type": "markdown",
   "id": "fb24f781",
   "metadata": {},
   "source": [
    "### Sentiment analyzer"
   ]
  },
  {
   "cell_type": "code",
   "execution_count": 34,
   "id": "2129bf5a",
   "metadata": {},
   "outputs": [
    {
     "data": {
      "text/html": [
       "<div>\n",
       "<style scoped>\n",
       "    .dataframe tbody tr th:only-of-type {\n",
       "        vertical-align: middle;\n",
       "    }\n",
       "\n",
       "    .dataframe tbody tr th {\n",
       "        vertical-align: top;\n",
       "    }\n",
       "\n",
       "    .dataframe thead th {\n",
       "        text-align: right;\n",
       "    }\n",
       "</style>\n",
       "<table border=\"1\" class=\"dataframe\">\n",
       "  <thead>\n",
       "    <tr style=\"text-align: right;\">\n",
       "      <th></th>\n",
       "      <th>selftext</th>\n",
       "      <th>title</th>\n",
       "      <th>author</th>\n",
       "      <th>id</th>\n",
       "      <th>r_seattlewa</th>\n",
       "      <th>r_portland</th>\n",
       "      <th>from_seattle</th>\n",
       "      <th>from_portland</th>\n",
       "      <th>fulltext</th>\n",
       "      <th>title_length</th>\n",
       "      <th>text_length</th>\n",
       "      <th>total_length</th>\n",
       "      <th>title_words</th>\n",
       "      <th>text_words</th>\n",
       "      <th>fulltext_words</th>\n",
       "    </tr>\n",
       "  </thead>\n",
       "  <tbody>\n",
       "    <tr>\n",
       "      <th>0</th>\n",
       "      <td>NaN</td>\n",
       "      <td>Driver in Summer Taylor vehicular homicide cas...</td>\n",
       "      <td>OnlineMemeArmy</td>\n",
       "      <td>kr0hh7</td>\n",
       "      <td>0</td>\n",
       "      <td>0</td>\n",
       "      <td>1</td>\n",
       "      <td>0</td>\n",
       "      <td>Driver in ummer Taylor vehicular homicide case...</td>\n",
       "      <td>108</td>\n",
       "      <td>3</td>\n",
       "      <td>111</td>\n",
       "      <td>17</td>\n",
       "      <td>1</td>\n",
       "      <td>17</td>\n",
       "    </tr>\n",
       "    <tr>\n",
       "      <th>1</th>\n",
       "      <td>NaN</td>\n",
       "      <td>Another stormy day brings high winds, landslid...</td>\n",
       "      <td>OnlineMemeArmy</td>\n",
       "      <td>kr0grd</td>\n",
       "      <td>0</td>\n",
       "      <td>0</td>\n",
       "      <td>1</td>\n",
       "      <td>0</td>\n",
       "      <td>Another stormy day brings high winds, landslid...</td>\n",
       "      <td>70</td>\n",
       "      <td>3</td>\n",
       "      <td>73</td>\n",
       "      <td>11</td>\n",
       "      <td>1</td>\n",
       "      <td>11</td>\n",
       "    </tr>\n",
       "    <tr>\n",
       "      <th>2</th>\n",
       "      <td>NaN</td>\n",
       "      <td>Gender-fluid dancer breaks barriers at Pacific...</td>\n",
       "      <td>OnlineMemeArmy</td>\n",
       "      <td>kr0dx9</td>\n",
       "      <td>0</td>\n",
       "      <td>0</td>\n",
       "      <td>1</td>\n",
       "      <td>0</td>\n",
       "      <td>Gender-fluid dancer breaks barriers at Pacific...</td>\n",
       "      <td>74</td>\n",
       "      <td>3</td>\n",
       "      <td>77</td>\n",
       "      <td>10</td>\n",
       "      <td>1</td>\n",
       "      <td>10</td>\n",
       "    </tr>\n",
       "    <tr>\n",
       "      <th>3</th>\n",
       "      <td>NaN</td>\n",
       "      <td>Logistics proving to be biggest challenge for ...</td>\n",
       "      <td>OnlineMemeArmy</td>\n",
       "      <td>kr0c3t</td>\n",
       "      <td>0</td>\n",
       "      <td>0</td>\n",
       "      <td>1</td>\n",
       "      <td>0</td>\n",
       "      <td>Logistics proving to be biggest challenge for ...</td>\n",
       "      <td>88</td>\n",
       "      <td>3</td>\n",
       "      <td>91</td>\n",
       "      <td>11</td>\n",
       "      <td>1</td>\n",
       "      <td>11</td>\n",
       "    </tr>\n",
       "    <tr>\n",
       "      <th>4</th>\n",
       "      <td>NaN</td>\n",
       "      <td>Tribes, preservation societies join lawsuit to...</td>\n",
       "      <td>OnlineMemeArmy</td>\n",
       "      <td>kr0b0m</td>\n",
       "      <td>0</td>\n",
       "      <td>0</td>\n",
       "      <td>1</td>\n",
       "      <td>0</td>\n",
       "      <td>Tribes, preservation societies join lawsuit to...</td>\n",
       "      <td>80</td>\n",
       "      <td>3</td>\n",
       "      <td>83</td>\n",
       "      <td>11</td>\n",
       "      <td>1</td>\n",
       "      <td>11</td>\n",
       "    </tr>\n",
       "  </tbody>\n",
       "</table>\n",
       "</div>"
      ],
      "text/plain": [
       "  selftext                                              title          author  \\\n",
       "0      NaN  Driver in Summer Taylor vehicular homicide cas...  OnlineMemeArmy   \n",
       "1      NaN  Another stormy day brings high winds, landslid...  OnlineMemeArmy   \n",
       "2      NaN  Gender-fluid dancer breaks barriers at Pacific...  OnlineMemeArmy   \n",
       "3      NaN  Logistics proving to be biggest challenge for ...  OnlineMemeArmy   \n",
       "4      NaN  Tribes, preservation societies join lawsuit to...  OnlineMemeArmy   \n",
       "\n",
       "       id  r_seattlewa  r_portland  from_seattle  from_portland  \\\n",
       "0  kr0hh7            0           0             1              0   \n",
       "1  kr0grd            0           0             1              0   \n",
       "2  kr0dx9            0           0             1              0   \n",
       "3  kr0c3t            0           0             1              0   \n",
       "4  kr0b0m            0           0             1              0   \n",
       "\n",
       "                                            fulltext  title_length  \\\n",
       "0  Driver in ummer Taylor vehicular homicide case...           108   \n",
       "1  Another stormy day brings high winds, landslid...            70   \n",
       "2  Gender-fluid dancer breaks barriers at Pacific...            74   \n",
       "3  Logistics proving to be biggest challenge for ...            88   \n",
       "4  Tribes, preservation societies join lawsuit to...            80   \n",
       "\n",
       "   text_length  total_length  title_words  text_words  fulltext_words  \n",
       "0            3           111           17           1              17  \n",
       "1            3            73           11           1              11  \n",
       "2            3            77           10           1              10  \n",
       "3            3            91           11           1              11  \n",
       "4            3            83           11           1              11  "
      ]
     },
     "execution_count": 34,
     "metadata": {},
     "output_type": "execute_result"
    }
   ],
   "source": [
    "df.head()"
   ]
  },
  {
   "cell_type": "code",
   "execution_count": 35,
   "id": "5a2b649e",
   "metadata": {},
   "outputs": [
    {
     "name": "stdout",
     "output_type": "stream",
     "text": [
      "CPU times: user 34.8 s, sys: 131 ms, total: 35 s\n",
      "Wall time: 35 s\n"
     ]
    },
    {
     "data": {
      "text/html": [
       "<div>\n",
       "<style scoped>\n",
       "    .dataframe tbody tr th:only-of-type {\n",
       "        vertical-align: middle;\n",
       "    }\n",
       "\n",
       "    .dataframe tbody tr th {\n",
       "        vertical-align: top;\n",
       "    }\n",
       "\n",
       "    .dataframe thead th {\n",
       "        text-align: right;\n",
       "    }\n",
       "</style>\n",
       "<table border=\"1\" class=\"dataframe\">\n",
       "  <thead>\n",
       "    <tr style=\"text-align: right;\">\n",
       "      <th></th>\n",
       "      <th>neg</th>\n",
       "      <th>neu</th>\n",
       "      <th>pos</th>\n",
       "      <th>compound</th>\n",
       "      <th>text</th>\n",
       "    </tr>\n",
       "  </thead>\n",
       "  <tbody>\n",
       "    <tr>\n",
       "      <th>0</th>\n",
       "      <td>0.000</td>\n",
       "      <td>1.000</td>\n",
       "      <td>0.000</td>\n",
       "      <td>0.0000</td>\n",
       "      <td>Driver in ummer Taylor vehicular homicide case...</td>\n",
       "    </tr>\n",
       "    <tr>\n",
       "      <th>1</th>\n",
       "      <td>0.174</td>\n",
       "      <td>0.826</td>\n",
       "      <td>0.000</td>\n",
       "      <td>-0.2732</td>\n",
       "      <td>Another stormy day brings high winds, landslid...</td>\n",
       "    </tr>\n",
       "    <tr>\n",
       "      <th>2</th>\n",
       "      <td>0.000</td>\n",
       "      <td>1.000</td>\n",
       "      <td>0.000</td>\n",
       "      <td>0.0000</td>\n",
       "      <td>Gender-fluid dancer breaks barriers at Pacific...</td>\n",
       "    </tr>\n",
       "    <tr>\n",
       "      <th>3</th>\n",
       "      <td>0.000</td>\n",
       "      <td>0.885</td>\n",
       "      <td>0.115</td>\n",
       "      <td>0.0772</td>\n",
       "      <td>Logistics proving to be biggest challenge for ...</td>\n",
       "    </tr>\n",
       "    <tr>\n",
       "      <th>4</th>\n",
       "      <td>0.124</td>\n",
       "      <td>0.523</td>\n",
       "      <td>0.353</td>\n",
       "      <td>0.5423</td>\n",
       "      <td>Tribes, preservation societies join lawsuit to...</td>\n",
       "    </tr>\n",
       "  </tbody>\n",
       "</table>\n",
       "</div>"
      ],
      "text/plain": [
       "     neg    neu    pos  compound  \\\n",
       "0  0.000  1.000  0.000    0.0000   \n",
       "1  0.174  0.826  0.000   -0.2732   \n",
       "2  0.000  1.000  0.000    0.0000   \n",
       "3  0.000  0.885  0.115    0.0772   \n",
       "4  0.124  0.523  0.353    0.5423   \n",
       "\n",
       "                                                text  \n",
       "0  Driver in ummer Taylor vehicular homicide case...  \n",
       "1  Another stormy day brings high winds, landslid...  \n",
       "2  Gender-fluid dancer breaks barriers at Pacific...  \n",
       "3  Logistics proving to be biggest challenge for ...  \n",
       "4  Tribes, preservation societies join lawsuit to...  "
      ]
     },
     "execution_count": 35,
     "metadata": {},
     "output_type": "execute_result"
    }
   ],
   "source": [
    "%%time\n",
    "\n",
    "\n",
    "corpus = list(sea['fulltext'])\n",
    "sentiment = []\n",
    "sia = SentimentIntensityAnalyzer()  \n",
    "\n",
    "for post in corpus:\n",
    "    scores = sia.polarity_scores(post)\n",
    "    scores['text'] = post  #adding a key to the dictionary we get from polarity score\n",
    "    sentiment.append(scores)\n",
    "\n",
    "sent_df = pd.DataFrame(sentiment)  #turning the dictionary into a data frame\n",
    "sent_df.head()"
   ]
  },
  {
   "cell_type": "code",
   "execution_count": 36,
   "id": "5487f86f",
   "metadata": {
    "scrolled": true
   },
   "outputs": [
    {
     "name": "stdout",
     "output_type": "stream",
     "text": [
      "CPU times: user 16.9 s, sys: 51.3 ms, total: 17 s\n",
      "Wall time: 17 s\n"
     ]
    },
    {
     "data": {
      "text/html": [
       "<div>\n",
       "<style scoped>\n",
       "    .dataframe tbody tr th:only-of-type {\n",
       "        vertical-align: middle;\n",
       "    }\n",
       "\n",
       "    .dataframe tbody tr th {\n",
       "        vertical-align: top;\n",
       "    }\n",
       "\n",
       "    .dataframe thead th {\n",
       "        text-align: right;\n",
       "    }\n",
       "</style>\n",
       "<table border=\"1\" class=\"dataframe\">\n",
       "  <thead>\n",
       "    <tr style=\"text-align: right;\">\n",
       "      <th></th>\n",
       "      <th>neg</th>\n",
       "      <th>neu</th>\n",
       "      <th>pos</th>\n",
       "      <th>compound</th>\n",
       "      <th>text</th>\n",
       "    </tr>\n",
       "  </thead>\n",
       "  <tbody>\n",
       "    <tr>\n",
       "      <th>0</th>\n",
       "      <td>0.039</td>\n",
       "      <td>0.827</td>\n",
       "      <td>0.133</td>\n",
       "      <td>0.6966</td>\n",
       "      <td>What Stand Alone Long Term Care Insurance Opti...</td>\n",
       "    </tr>\n",
       "    <tr>\n",
       "      <th>1</th>\n",
       "      <td>0.000</td>\n",
       "      <td>0.903</td>\n",
       "      <td>0.097</td>\n",
       "      <td>0.6996</td>\n",
       "      <td>SELLING : Hasan Minhaj’s show on Nov 13th @ 7 ...</td>\n",
       "    </tr>\n",
       "    <tr>\n",
       "      <th>2</th>\n",
       "      <td>0.268</td>\n",
       "      <td>0.732</td>\n",
       "      <td>0.000</td>\n",
       "      <td>-0.2960</td>\n",
       "      <td>Still missing since September 14th quiera bill...</td>\n",
       "    </tr>\n",
       "    <tr>\n",
       "      <th>3</th>\n",
       "      <td>0.000</td>\n",
       "      <td>0.781</td>\n",
       "      <td>0.219</td>\n",
       "      <td>0.6808</td>\n",
       "      <td>21[F4A] New here. I’m a single mom looking for...</td>\n",
       "    </tr>\n",
       "    <tr>\n",
       "      <th>4</th>\n",
       "      <td>0.000</td>\n",
       "      <td>1.000</td>\n",
       "      <td>0.000</td>\n",
       "      <td>0.0000</td>\n",
       "      <td>Turn signalsnan</td>\n",
       "    </tr>\n",
       "  </tbody>\n",
       "</table>\n",
       "</div>"
      ],
      "text/plain": [
       "     neg    neu    pos  compound  \\\n",
       "0  0.039  0.827  0.133    0.6966   \n",
       "1  0.000  0.903  0.097    0.6996   \n",
       "2  0.268  0.732  0.000   -0.2960   \n",
       "3  0.000  0.781  0.219    0.6808   \n",
       "4  0.000  1.000  0.000    0.0000   \n",
       "\n",
       "                                                text  \n",
       "0  What Stand Alone Long Term Care Insurance Opti...  \n",
       "1  SELLING : Hasan Minhaj’s show on Nov 13th @ 7 ...  \n",
       "2  Still missing since September 14th quiera bill...  \n",
       "3  21[F4A] New here. I’m a single mom looking for...  \n",
       "4                                    Turn signalsnan  "
      ]
     },
     "execution_count": 36,
     "metadata": {},
     "output_type": "execute_result"
    }
   ],
   "source": [
    "%%time \n",
    "\n",
    "\n",
    "corpus2 = list(wa['fulltext'])\n",
    "sentiment2 = []\n",
    "sia = SentimentIntensityAnalyzer()  \n",
    "\n",
    "for post in corpus2:\n",
    "    scores = sia.polarity_scores(post)\n",
    "    scores['text'] = post  #adding a key to the dictionary we get from polarity score\n",
    "    sentiment2.append(scores)\n",
    "\n",
    "sent_df2 = pd.DataFrame(sentiment2)  #turning the dictionary into a data frame\n",
    "sent_df2.head()\n"
   ]
  },
  {
   "cell_type": "code",
   "execution_count": 37,
   "id": "ba123d12",
   "metadata": {},
   "outputs": [
    {
     "name": "stdout",
     "output_type": "stream",
     "text": [
      "CPU times: user 47.3 s, sys: 179 ms, total: 47.5 s\n",
      "Wall time: 47.6 s\n"
     ]
    },
    {
     "data": {
      "text/html": [
       "<div>\n",
       "<style scoped>\n",
       "    .dataframe tbody tr th:only-of-type {\n",
       "        vertical-align: middle;\n",
       "    }\n",
       "\n",
       "    .dataframe tbody tr th {\n",
       "        vertical-align: top;\n",
       "    }\n",
       "\n",
       "    .dataframe thead th {\n",
       "        text-align: right;\n",
       "    }\n",
       "</style>\n",
       "<table border=\"1\" class=\"dataframe\">\n",
       "  <thead>\n",
       "    <tr style=\"text-align: right;\">\n",
       "      <th></th>\n",
       "      <th>neg</th>\n",
       "      <th>neu</th>\n",
       "      <th>pos</th>\n",
       "      <th>compound</th>\n",
       "      <th>text</th>\n",
       "    </tr>\n",
       "  </thead>\n",
       "  <tbody>\n",
       "    <tr>\n",
       "      <th>0</th>\n",
       "      <td>0.089</td>\n",
       "      <td>0.842</td>\n",
       "      <td>0.069</td>\n",
       "      <td>0.3016</td>\n",
       "      <td>Did anyone else see the massive meteor at midn...</td>\n",
       "    </tr>\n",
       "    <tr>\n",
       "      <th>1</th>\n",
       "      <td>0.038</td>\n",
       "      <td>0.896</td>\n",
       "      <td>0.066</td>\n",
       "      <td>0.3182</td>\n",
       "      <td>WEEKLY /R/PORTLAND CLAIFIED: eptember 10, 2017...</td>\n",
       "    </tr>\n",
       "    <tr>\n",
       "      <th>2</th>\n",
       "      <td>0.000</td>\n",
       "      <td>1.000</td>\n",
       "      <td>0.000</td>\n",
       "      <td>0.0000</td>\n",
       "      <td>Columbia River Gorge - ept 2012 &amp;amp; ept 2017...</td>\n",
       "    </tr>\n",
       "    <tr>\n",
       "      <th>3</th>\n",
       "      <td>0.000</td>\n",
       "      <td>1.000</td>\n",
       "      <td>0.000</td>\n",
       "      <td>0.0000</td>\n",
       "      <td>Nickleball rules needed; literally only availa...</td>\n",
       "    </tr>\n",
       "    <tr>\n",
       "      <th>4</th>\n",
       "      <td>0.000</td>\n",
       "      <td>1.000</td>\n",
       "      <td>0.000</td>\n",
       "      <td>0.0000</td>\n",
       "      <td>Raining Megathread[removed]</td>\n",
       "    </tr>\n",
       "  </tbody>\n",
       "</table>\n",
       "</div>"
      ],
      "text/plain": [
       "     neg    neu    pos  compound  \\\n",
       "0  0.089  0.842  0.069    0.3016   \n",
       "1  0.038  0.896  0.066    0.3182   \n",
       "2  0.000  1.000  0.000    0.0000   \n",
       "3  0.000  1.000  0.000    0.0000   \n",
       "4  0.000  1.000  0.000    0.0000   \n",
       "\n",
       "                                                text  \n",
       "0  Did anyone else see the massive meteor at midn...  \n",
       "1  WEEKLY /R/PORTLAND CLAIFIED: eptember 10, 2017...  \n",
       "2  Columbia River Gorge - ept 2012 &amp; ept 2017...  \n",
       "3  Nickleball rules needed; literally only availa...  \n",
       "4                        Raining Megathread[removed]  "
      ]
     },
     "execution_count": 37,
     "metadata": {},
     "output_type": "execute_result"
    }
   ],
   "source": [
    "%%time \n",
    "\n",
    "corpus3 = list(pdx['fulltext'])\n",
    "sentiment3 = []\n",
    "sia = SentimentIntensityAnalyzer()  \n",
    "\n",
    "for post in corpus3:\n",
    "    scores = sia.polarity_scores(post)\n",
    "    scores['text'] = post  #adding a key to the dictionary we get from polarity score\n",
    "    sentiment3.append(scores)\n",
    "\n",
    "sent_df3 = pd.DataFrame(sentiment3)  #turning the dictionary into a data frame\n",
    "sent_df3.head()"
   ]
  },
  {
   "cell_type": "code",
   "execution_count": 38,
   "id": "4eeff394",
   "metadata": {},
   "outputs": [],
   "source": [
    "sent_df['from_seattle'] = 1\n",
    "sent_df2['from_seattle'] = 1\n",
    "sent_df3['from_seattle']= 0\n",
    "\n",
    "full_sent = pd.concat([sent_df,sent_df2, sent_df3])"
   ]
  },
  {
   "cell_type": "code",
   "execution_count": 39,
   "id": "b2fd1331",
   "metadata": {
    "scrolled": true
   },
   "outputs": [
    {
     "data": {
      "image/png": "[encoded data removed]",
      "text/plain": [
       "<Figure size 432x288 with 1 Axes>"
      ]
     },
     "metadata": {
      "needs_background": "light"
     },
     "output_type": "display_data"
    }
   ],
   "source": [
    "full_sent.groupby('from_seattle').mean()[['pos', 'neg', 'compound']].plot(kind='barh')\n",
    "plt.title('Average Positive, Negative & Compound Scores for Portland (0) and Seattle (1)');"
   ]
  },
  {
   "cell_type": "markdown",
   "id": "eb000599",
   "metadata": {},
   "source": [
    "Sentiment does not help us distinguish between Seattle and Portland groups.  "
   ]
  },
  {
   "cell_type": "markdown",
   "id": "b8e795b8",
   "metadata": {},
   "source": [
    "## Saving cleaned combined dataframe"
   ]
  },
  {
   "cell_type": "code",
   "execution_count": 40,
   "id": "9faa9392",
   "metadata": {},
   "outputs": [
    {
     "data": {
      "text/plain": [
       "Index(['selftext', 'title', 'author', 'id', 'r_seattlewa', 'r_portland',\n",
       "       'from_seattle', 'from_portland', 'fulltext', 'title_length',\n",
       "       'text_length', 'total_length', 'title_words', 'text_words',\n",
       "       'fulltext_words'],\n",
       "      dtype='object')"
      ]
     },
     "execution_count": 40,
     "metadata": {},
     "output_type": "execute_result"
    }
   ],
   "source": [
    "df.columns"
   ]
  },
  {
   "cell_type": "code",
   "execution_count": 41,
   "id": "eda90300",
   "metadata": {},
   "outputs": [
    {
     "data": {
      "text/plain": [
       "selftext          159459\n",
       "title                  0\n",
       "author                 0\n",
       "id                     0\n",
       "r_seattlewa            0\n",
       "r_portland             0\n",
       "from_seattle           0\n",
       "from_portland          0\n",
       "fulltext               0\n",
       "title_length           0\n",
       "text_length            0\n",
       "total_length           0\n",
       "title_words            0\n",
       "text_words             0\n",
       "fulltext_words         0\n",
       "dtype: int64"
      ]
     },
     "execution_count": 41,
     "metadata": {},
     "output_type": "execute_result"
    }
   ],
   "source": [
    "df.isna().sum()"
   ]
  },
  {
   "cell_type": "code",
   "execution_count": 42,
   "id": "950970df",
   "metadata": {},
   "outputs": [],
   "source": [
    "df.fillna(' ',inplace = True)"
   ]
  },
  {
   "cell_type": "code",
   "execution_count": 43,
   "id": "a313800e",
   "metadata": {},
   "outputs": [],
   "source": [
    "#dealing with filesize limitations so we split up the dataframe into two files\n",
    "df1 = df[df['from_seattle']==1]\n",
    "df2 = df[df['from_seattle']==0]\n",
    "df1.to_csv('./data/sea_df_cleaned.csv', index=False)\n",
    "df2.to_csv('./data/pdx_df_cleaned.csv', index=False)"
   ]
  },
  {
   "cell_type": "code",
   "execution_count": 44,
   "id": "2a1e6a42",
   "metadata": {},
   "outputs": [
    {
     "data": {
      "text/plain": [
       "from_seattle\n",
       "0    1.0\n",
       "dtype: float64"
      ]
     },
     "execution_count": 44,
     "metadata": {},
     "output_type": "execute_result"
    }
   ],
   "source": [
    "df2.value_counts('from_seattle', normalize=True)"
   ]
  },
  {
   "cell_type": "code",
   "execution_count": 45,
   "id": "8128f878",
   "metadata": {},
   "outputs": [
    {
     "data": {
      "text/plain": [
       "selftext          0\n",
       "title             0\n",
       "author            0\n",
       "id                0\n",
       "r_seattlewa       0\n",
       "r_portland        0\n",
       "from_seattle      0\n",
       "from_portland     0\n",
       "fulltext          0\n",
       "title_length      0\n",
       "text_length       0\n",
       "total_length      0\n",
       "title_words       0\n",
       "text_words        0\n",
       "fulltext_words    0\n",
       "dtype: int64"
      ]
     },
     "execution_count": 45,
     "metadata": {},
     "output_type": "execute_result"
    }
   ],
   "source": [
    "df.isna().sum()"
   ]
  },
  {
   "cell_type": "code",
   "execution_count": 47,
   "id": "afd2608c",
   "metadata": {},
   "outputs": [
    {
     "name": "stdout",
     "output_type": "stream",
     "text": [
      "<class 'pandas.core.frame.DataFrame'>\n",
      "Int64Index: 149895 entries, 0 to 149894\n",
      "Data columns (total 15 columns):\n",
      " #   Column          Non-Null Count   Dtype \n",
      "---  ------          --------------   ----- \n",
      " 0   selftext        149895 non-null  object\n",
      " 1   title           149895 non-null  object\n",
      " 2   author          149895 non-null  object\n",
      " 3   id              149895 non-null  object\n",
      " 4   r_seattlewa     149895 non-null  int64 \n",
      " 5   r_portland      149895 non-null  int64 \n",
      " 6   from_seattle    149895 non-null  int64 \n",
      " 7   from_portland   149895 non-null  int64 \n",
      " 8   fulltext        149895 non-null  object\n",
      " 9   title_length    149895 non-null  int64 \n",
      " 10  text_length     149895 non-null  int64 \n",
      " 11  total_length    149895 non-null  int64 \n",
      " 12  title_words     149895 non-null  int64 \n",
      " 13  text_words      149895 non-null  int64 \n",
      " 14  fulltext_words  149895 non-null  int64 \n",
      "dtypes: int64(10), object(5)\n",
      "memory usage: 18.3+ MB\n"
     ]
    }
   ],
   "source": [
    "df2.info()"
   ]
  },
  {
   "cell_type": "markdown",
   "id": "0600fa42",
   "metadata": {},
   "source": [
    "### Next steps\n",
    "\n",
    "Now that the data has been cleaned we can move on to our [modeling](./04-modeling.ipynb) notebook."
   ]
  },
  {
   "cell_type": "code",
   "execution_count": null,
   "id": "33e4e256",
   "metadata": {},
   "outputs": [],
   "source": []
  }
 ],
 "metadata": {
  "kernelspec": {
   "display_name": "Python 3",
   "language": "python",
   "name": "python3"
  },
  "language_info": {
   "codemirror_mode": {
    "name": "ipython",
    "version": 3
   },
   "file_extension": ".py",
   "mimetype": "text/x-python",
   "name": "python",
   "nbconvert_exporter": "python",
   "pygments_lexer": "ipython3",
   "version": "3.8.8"
  }
 },
 "nbformat": 4,
 "nbformat_minor": 5
}
