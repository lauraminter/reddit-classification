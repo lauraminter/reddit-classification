{
 "cells": [
  {
   "cell_type": "markdown",
   "id": "1af1ddc8",
   "metadata": {},
   "source": [
    "# Reddit Classification Problem"
   ]
  },
  {
   "cell_type": "markdown",
   "id": "194b8949",
   "metadata": {},
   "source": [
    "## Laura Minter\n",
    "### October 2021"
   ]
  },
  {
   "cell_type": "markdown",
   "id": "b47e9f20",
   "metadata": {},
   "source": [
    "Problem statement:"
   ]
  },
  {
   "cell_type": "markdown",
   "id": "8e6418e8",
   "metadata": {},
   "source": [
    "This notebook assumes that the previous [exploratory analysis notebook](./03-exploratory-data-anlaysis.ipynb) was succesfully run and that correct cleaned data is stored in the `./data` folder using the `<city>_df_cleaned.csv` style filename. "
   ]
  },
  {
   "cell_type": "code",
   "execution_count": 1,
   "id": "57b720f0",
   "metadata": {},
   "outputs": [],
   "source": [
    "#imports\n",
    "import pandas as pd\n",
    "import os\n",
    "import seaborn as sns\n",
    "import numpy as np\n",
    "import matplotlib.pyplot as plt\n",
    "\n",
    "from sklearn.feature_extraction.text import CountVectorizer, TfidfVectorizer\n",
    "from sklearn.model_selection import train_test_split, GridSearchCV\n",
    "from sklearn.linear_model import LogisticRegression\n",
    "from sklearn.neighbors import KNeighborsClassifier\n",
    "from sklearn.preprocessing import StandardScaler\n",
    "from sklearn import metrics\n",
    "from sklearn.pipeline import Pipeline\n",
    "from sklearn.naive_bayes import MultinomialNB\n",
    "\n",
    "from nltk.sentiment.vader import SentimentIntensityAnalyzer\n",
    "\n",
    "from sklearn.tree import DecisionTreeClassifier\n",
    "from sklearn.ensemble import BaggingClassifier, RandomForestClassifier,\\\n",
    "         GradientBoostingClassifier, AdaBoostClassifier, VotingClassifier\n",
    "from xgboost import XGBClassifier\n",
    "\n",
    "from sklearn.svm import SVC\n"
   ]
  },
  {
   "cell_type": "code",
   "execution_count": 2,
   "id": "0aad50b6",
   "metadata": {},
   "outputs": [],
   "source": [
    "df_sea = pd.read_csv('./data/sea_df_cleaned.csv')\n",
    "df_pdx = pd.read_csv('./data/pdx_df_cleaned.csv')\n",
    "\n",
    "df = pd.concat([df_sea,df_pdx])\n",
    "\n",
    "#fixing 'from_seattle' column that appears to have been corrupted in save\n",
    "df['from_seattle'] = 1-df['from_portland']\n",
    "df.dropna(inplace = True)"
   ]
  },
  {
   "cell_type": "markdown",
   "id": "29d577e7",
   "metadata": {},
   "source": [
    "### Null Model"
   ]
  },
  {
   "cell_type": "code",
   "execution_count": 3,
   "id": "8da5de76",
   "metadata": {},
   "outputs": [
    {
     "data": {
      "text/plain": [
       "from_seattle\n",
       "0.0    0.553903\n",
       "1.0    0.446097\n",
       "dtype: float64"
      ]
     },
     "execution_count": 3,
     "metadata": {},
     "output_type": "execute_result"
    }
   ],
   "source": [
    "#Null model using value_counts\n",
    "df.value_counts('from_seattle',normalize = True)"
   ]
  },
  {
   "cell_type": "markdown",
   "id": "024f60e0",
   "metadata": {},
   "source": [
    "The null model would predict the correct source 55.4% of the time.  So any model that we will build will need to beat that.  \n",
    "\n",
    "vectorizer parameters of interest:\n",
    "- TFIDF and CV\n",
    "- bi-grams in cv (CountVectorizer)\n",
    "- min number of documents it must be in (CV)\n",
    "- max number of documents it can be in (CV)\n",
    "\n",
    "Models of interest:\n",
    "LogReg,\n",
    "MNB,\n",
    "KNN,\n",
    "CART,\n",
    "Bag,\n",
    "RF,\n",
    "AdaBoost,\n",
    "GradientBoost"
   ]
  },
  {
   "cell_type": "markdown",
   "id": "fa70fe4a",
   "metadata": {},
   "source": [
    "### Logistic Regression\n"
   ]
  },
  {
   "cell_type": "code",
   "execution_count": 4,
   "id": "19885988",
   "metadata": {},
   "outputs": [],
   "source": [
    "X = df['fulltext']\n",
    "y = df['from_seattle']\n",
    "X = df['fulltext']\n",
    "y = df['from_seattle']\n",
    "X_train, X_test, y_train, y_test = train_test_split(X, y, stratify=y, random_state=42)\n"
   ]
  },
  {
   "cell_type": "code",
   "execution_count": 5,
   "id": "1f49616b",
   "metadata": {},
   "outputs": [
    {
     "name": "stdout",
     "output_type": "stream",
     "text": [
      "CPU times: user 10.8 s, sys: 169 ms, total: 11 s\n",
      "Wall time: 13.2 s\n"
     ]
    }
   ],
   "source": [
    "%%time \n",
    "\n",
    "#vectorize first with CountVectorizer\n",
    "cv = CountVectorizer(stop_words='english',max_features=3000)\n",
    "\n",
    "\n",
    "X_train_cv = cv.fit_transform(X_train)\n",
    "X_test_cv = cv.transform(X_test)\n",
    "\n"
   ]
  },
  {
   "cell_type": "code",
   "execution_count": 6,
   "id": "c6f1bc98",
   "metadata": {},
   "outputs": [
    {
     "name": "stdout",
     "output_type": "stream",
     "text": [
      "CPU times: user 10.9 s, sys: 185 ms, total: 11.1 s\n",
      "Wall time: 13.6 s\n"
     ]
    }
   ],
   "source": [
    "%%time\n",
    "\n",
    "#vectorize second with TFIDF\n",
    "tfidf = TfidfVectorizer(stop_words='english',max_features=3000)\n",
    "\n",
    "X_train_tfidf = tfidf.fit_transform(X_train)\n",
    "X_test_tfidf = tfidf.transform(X_test)\n"
   ]
  },
  {
   "cell_type": "code",
   "execution_count": 7,
   "id": "d25d64be",
   "metadata": {},
   "outputs": [],
   "source": [
    "logreg = LogisticRegression(max_iter=10_000)"
   ]
  },
  {
   "cell_type": "code",
   "execution_count": 8,
   "id": "e37a5712",
   "metadata": {},
   "outputs": [
    {
     "name": "stdout",
     "output_type": "stream",
     "text": [
      "CPU times: user 11.4 s, sys: 80.6 ms, total: 11.4 s\n",
      "Wall time: 13.8 s\n"
     ]
    },
    {
     "data": {
      "text/plain": [
       "LogisticRegression(max_iter=10000)"
      ]
     },
     "execution_count": 8,
     "metadata": {},
     "output_type": "execute_result"
    }
   ],
   "source": [
    "%%time \n",
    "logreg.fit(X_train_cv,y_train)"
   ]
  },
  {
   "cell_type": "code",
   "execution_count": 9,
   "id": "974509ef",
   "metadata": {},
   "outputs": [
    {
     "name": "stdout",
     "output_type": "stream",
     "text": [
      "Logistic Regression R2 with CountVectorizer\n",
      "0.8330991713129341 0.8233432420840913\n"
     ]
    }
   ],
   "source": [
    "print('Logistic Regression R2 with CountVectorizer')\n",
    "print(logreg.score(X_train_cv,y_train),logreg.score(X_test_cv, y_test))"
   ]
  },
  {
   "cell_type": "code",
   "execution_count": 10,
   "id": "46b5f1ca",
   "metadata": {},
   "outputs": [
    {
     "data": {
      "image/png": "[encoded data removed]",
      "text/plain": [
       "<Figure size 432x288 with 2 Axes>"
      ]
     },
     "metadata": {
      "needs_background": "light"
     },
     "output_type": "display_data"
    }
   ],
   "source": [
    "metrics.plot_confusion_matrix(logreg,X_test_cv,y_test);"
   ]
  },
  {
   "cell_type": "code",
   "execution_count": 11,
   "id": "3b6d1f6f",
   "metadata": {},
   "outputs": [],
   "source": [
    "lr_preds = logreg.predict(X_test_cv)"
   ]
  },
  {
   "cell_type": "code",
   "execution_count": 12,
   "id": "5c121762",
   "metadata": {},
   "outputs": [
    {
     "name": "stdout",
     "output_type": "stream",
     "text": [
      "Logistic regression metrics with CountVectorizer:\n",
      "accuracy 0.8233432420840913\n",
      "precision 0.858797116861633\n",
      "recall 0.7228484285903727\n"
     ]
    }
   ],
   "source": [
    "print(\"Logistic regression metrics with CountVectorizer:\")\n",
    "print('accuracy',metrics.accuracy_score(y_test,lr_preds))\n",
    "print('precision',metrics.precision_score(y_test,lr_preds))\n",
    "print('recall',metrics.recall_score(y_test,lr_preds))"
   ]
  },
  {
   "cell_type": "code",
   "execution_count": 13,
   "id": "15de20a0",
   "metadata": {},
   "outputs": [
    {
     "data": {
      "text/plain": [
       "(0.8349083810284396, 0.8245263765029505)"
      ]
     },
     "execution_count": 13,
     "metadata": {},
     "output_type": "execute_result"
    }
   ],
   "source": [
    "logreg.fit(X_train_tfidf,y_train)\n",
    "logreg.score(X_train_tfidf,y_train),logreg.score(X_test_tfidf,y_test)"
   ]
  },
  {
   "cell_type": "code",
   "execution_count": 14,
   "id": "147b890d",
   "metadata": {},
   "outputs": [],
   "source": [
    "lr_preds_tfidf = logreg.predict(X_test_tfidf)"
   ]
  },
  {
   "cell_type": "code",
   "execution_count": 15,
   "id": "6f440d43",
   "metadata": {},
   "outputs": [
    {
     "name": "stdout",
     "output_type": "stream",
     "text": [
      "Logistic regression metrics with TfidfVectorizer:\n",
      "accuracy 0.8245263765029505\n",
      "precision 0.8572209424901417\n",
      "recall 0.7278875480705477\n"
     ]
    }
   ],
   "source": [
    "print(\"Logistic regression metrics with TfidfVectorizer:\")\n",
    "print('accuracy',metrics.accuracy_score(y_test,lr_preds_tfidf))\n",
    "print('precision',metrics.precision_score(y_test,lr_preds_tfidf))\n",
    "print('recall',metrics.recall_score(y_test,lr_preds_tfidf))"
   ]
  },
  {
   "cell_type": "code",
   "execution_count": 16,
   "id": "576ca561",
   "metadata": {},
   "outputs": [
    {
     "data": {
      "text/plain": [
       "0.8151225848114466"
      ]
     },
     "execution_count": 16,
     "metadata": {},
     "output_type": "execute_result"
    }
   ],
   "source": [
    "metrics.balanced_accuracy_score(y_test,lr_preds_tfidf)"
   ]
  },
  {
   "cell_type": "markdown",
   "id": "2cb43a3b",
   "metadata": {},
   "source": [
    "From the confusion matrix it seems to give more false negatives than fals positives.  The accuracy and precision are good but the recall and specificity are not.  \n",
    "\n",
    "The null model would predict the correct source 55.4% of the time.  Our basic logistic regression model is better with an accuracy of 82.3% on the test data.  The model does shows some minor overfitting.  We can remove features and modify hyper parameters to test.  \n",
    "\n",
    "We don't see a large difference for TFIDF vs CV vectorizers\n",
    "\n",
    "parameters of interest:\n",
    "- bi-grams \n",
    "- min number of documents it must be in \n",
    "- max number of documents it can be in \n",
    "\n",
    "Prefer to move onto other more sophisticated models"
   ]
  },
  {
   "cell_type": "markdown",
   "id": "d6528d20",
   "metadata": {},
   "source": [
    "### Multinomial Naive Bayes Model"
   ]
  },
  {
   "cell_type": "code",
   "execution_count": 17,
   "id": "bfacd291",
   "metadata": {},
   "outputs": [
    {
     "data": {
      "text/plain": [
       "(0.8093477478543364, 0.8089237913542452)"
      ]
     },
     "execution_count": 17,
     "metadata": {},
     "output_type": "execute_result"
    }
   ],
   "source": [
    "mn = MultinomialNB()\n",
    "mn.fit(X_train_cv,y_train)\n",
    "mn.score(X_train_cv,y_train),mn.score(X_test_cv,y_test)"
   ]
  },
  {
   "cell_type": "code",
   "execution_count": 18,
   "id": "0be1da67",
   "metadata": {
    "scrolled": false
   },
   "outputs": [
    {
     "data": {
      "image/png": "[encoded data removed]",
      "text/plain": [
       "<Figure size 432x288 with 2 Axes>"
      ]
     },
     "metadata": {
      "needs_background": "light"
     },
     "output_type": "display_data"
    }
   ],
   "source": [
    "mn_preds = mn.predict(X_test_cv)\n",
    "metrics.plot_confusion_matrix(mn,X_test_cv,y_test);"
   ]
  },
  {
   "cell_type": "code",
   "execution_count": 19,
   "id": "87a79254",
   "metadata": {
    "scrolled": true
   },
   "outputs": [
    {
     "name": "stdout",
     "output_type": "stream",
     "text": [
      "Multinomial Naive Bayes metrics with CountVectorizer\n",
      "precision 0.8681154470156264\n",
      "recall 0.6740816867789418\n",
      "accuracy 0.8089237913542452\n"
     ]
    }
   ],
   "source": [
    "print('Multinomial Naive Bayes metrics with CountVectorizer')\n",
    "print('accuracy',metrics.accuracy_score(y_test,mn_preds))\n",
    "print('precision',metrics.precision_score(y_test,mn_preds))\n",
    "print('recall',metrics.recall_score(y_test,mn_preds))\n"
   ]
  },
  {
   "cell_type": "code",
   "execution_count": 20,
   "id": "dfc93a46",
   "metadata": {
    "scrolled": true
   },
   "outputs": [
    {
     "data": {
      "text/plain": [
       "(0.8088153373658498, 0.8070307762840706)"
      ]
     },
     "execution_count": 20,
     "metadata": {},
     "output_type": "execute_result"
    }
   ],
   "source": [
    "mn.fit(X_train_tfidf,y_train)\n",
    "mn.score(X_train_tfidf,y_train),mn.score(X_test_tfidf,y_test)"
   ]
  },
  {
   "cell_type": "markdown",
   "id": "8f319156",
   "metadata": {},
   "source": [
    "This one does better than the null model and low variance than the logistic regression but at the cost of a lower accuracy and lower recall.  MNB does slightly better with CV than TFIDF"
   ]
  },
  {
   "cell_type": "markdown",
   "id": "5cce77ee",
   "metadata": {},
   "source": [
    "#### Decision Tree"
   ]
  },
  {
   "cell_type": "code",
   "execution_count": 22,
   "id": "bc17249f",
   "metadata": {},
   "outputs": [
    {
     "name": "stdout",
     "output_type": "stream",
     "text": [
      "CPU times: user 2min 35s, sys: 887 ms, total: 2min 36s\n",
      "Wall time: 3min 2s\n"
     ]
    },
    {
     "data": {
      "text/plain": [
       "DecisionTreeClassifier()"
      ]
     },
     "execution_count": 22,
     "metadata": {},
     "output_type": "execute_result"
    }
   ],
   "source": [
    "%%time \n",
    "\n",
    "tree = DecisionTreeClassifier() \n",
    "\n",
    "tree.fit(X_train_tfidf,y_train)"
   ]
  },
  {
   "cell_type": "code",
   "execution_count": 23,
   "id": "9af1a675",
   "metadata": {},
   "outputs": [
    {
     "data": {
      "text/plain": [
       "(0.976702111401965, 0.7995622402650221)"
      ]
     },
     "execution_count": 23,
     "metadata": {},
     "output_type": "execute_result"
    }
   ],
   "source": [
    "tree.score(X_train_tfidf,y_train),tree.score(X_test_tfidf,y_test)\n"
   ]
  },
  {
   "cell_type": "markdown",
   "id": "58931936",
   "metadata": {},
   "source": [
    "#### Bagged tree model"
   ]
  },
  {
   "cell_type": "code",
   "execution_count": 24,
   "id": "614dd5ad",
   "metadata": {},
   "outputs": [
    {
     "name": "stdout",
     "output_type": "stream",
     "text": [
      "CPU times: user 93 ms, sys: 223 ms, total: 316 ms\n",
      "Wall time: 5min 5s\n"
     ]
    },
    {
     "data": {
      "text/plain": [
       "BaggingClassifier(n_jobs=-1)"
      ]
     },
     "execution_count": 24,
     "metadata": {},
     "output_type": "execute_result"
    }
   ],
   "source": [
    "%%time \n",
    "\n",
    "bag = BaggingClassifier(n_jobs=-1)\n",
    "bag.fit(X_train_tfidf,y_train)"
   ]
  },
  {
   "cell_type": "code",
   "execution_count": 25,
   "id": "a9187cc8",
   "metadata": {
    "scrolled": true
   },
   "outputs": [
    {
     "data": {
      "text/plain": [
       "(0.9645059674342251, 0.819498055222799)"
      ]
     },
     "execution_count": 25,
     "metadata": {},
     "output_type": "execute_result"
    }
   ],
   "source": [
    "bag.score(X_train_tfidf,y_train),bag.score(X_test_tfidf,y_test)"
   ]
  },
  {
   "cell_type": "markdown",
   "id": "a686ecb6",
   "metadata": {},
   "source": [
    "#### XGBoost"
   ]
  },
  {
   "cell_type": "code",
   "execution_count": 26,
   "id": "f7d0b37a",
   "metadata": {},
   "outputs": [],
   "source": [
    "from xgboost import XGBClassifier"
   ]
  },
  {
   "cell_type": "code",
   "execution_count": 27,
   "id": "b456b1c9",
   "metadata": {},
   "outputs": [
    {
     "name": "stdout",
     "output_type": "stream",
     "text": [
      "CPU times: user 53 s, sys: 1.87 s, total: 54.9 s\n",
      "Wall time: 8.09 s\n"
     ]
    },
    {
     "data": {
      "text/plain": [
       "(0.8148049553613244, 0.8152239821346703)"
      ]
     },
     "execution_count": 27,
     "metadata": {},
     "output_type": "execute_result"
    }
   ],
   "source": [
    "%%time\n",
    "\n",
    "xgbcv= XGBClassifier(eval_metric='mlogloss',use_label_encoder=False)\n",
    "xgbcv.fit(X_train_cv,y_train)\n",
    "xgbcv.score(X_train_cv,y_train),xgbcv.score(X_test_cv,y_test)"
   ]
  },
  {
   "cell_type": "code",
   "execution_count": 28,
   "id": "88184732",
   "metadata": {
    "scrolled": false
   },
   "outputs": [
    {
     "name": "stdout",
     "output_type": "stream",
     "text": [
      "CPU times: user 2min 28s, sys: 2.81 s, total: 2min 31s\n",
      "Wall time: 20.5 s\n"
     ]
    },
    {
     "data": {
      "text/plain": [
       "(0.8175409537049362, 0.8158599168848071)"
      ]
     },
     "execution_count": 28,
     "metadata": {},
     "output_type": "execute_result"
    }
   ],
   "source": [
    "%%time\n",
    "\n",
    "xgbtfidf= XGBClassifier(eval_metric='mlogloss',use_label_encoder=False)\n",
    "xgbtfidf.fit(X_train_tfidf,y_train)\n",
    "xgbtfidf.score(X_train_tfidf,y_train),xgbtfidf.score(X_test_tfidf,y_test)"
   ]
  },
  {
   "cell_type": "code",
   "execution_count": 29,
   "id": "373ad311",
   "metadata": {},
   "outputs": [],
   "source": [
    "gbpred = xgbtfidf.predict_proba(X_test_tfidf)\n",
    "ypred = [entry[1] for entry in gbpred]"
   ]
  },
  {
   "cell_type": "code",
   "execution_count": 30,
   "id": "1b350483",
   "metadata": {
    "scrolled": true
   },
   "outputs": [
    {
     "data": {
      "text/plain": [
       "0.9124772269499756"
      ]
     },
     "execution_count": 30,
     "metadata": {},
     "output_type": "execute_result"
    }
   ],
   "source": [
    "metrics.roc_auc_score(y_test,ypred)"
   ]
  },
  {
   "cell_type": "code",
   "execution_count": 31,
   "id": "30d8af78",
   "metadata": {
    "scrolled": false
   },
   "outputs": [
    {
     "data": {
      "text/plain": [
       "<sklearn.metrics._plot.confusion_matrix.ConfusionMatrixDisplay at 0x7f8c626eebe0>"
      ]
     },
     "execution_count": 31,
     "metadata": {},
     "output_type": "execute_result"
    },
    {
     "data": {
      "image/png": "[encoded data removed]",
      "text/plain": [
       "<Figure size 432x288 with 2 Axes>"
      ]
     },
     "metadata": {
      "needs_background": "light"
     },
     "output_type": "display_data"
    }
   ],
   "source": [
    "metrics.plot_confusion_matrix(xgbtfidf,X_test_tfidf,y_test)"
   ]
  },
  {
   "cell_type": "code",
   "execution_count": 32,
   "id": "2f650b12",
   "metadata": {},
   "outputs": [
    {
     "name": "stdout",
     "output_type": "stream",
     "text": [
      "XGBoost metrics with CountVectorizer\n",
      "precision 0.9530410762698859\n",
      "recall 0.6176568094417186\n",
      "accuracy 0.8158599168848071\n"
     ]
    }
   ],
   "source": [
    "print('XGBoost metrics with CountVectorizer')\n",
    "print('precision',metrics.precision_score(y_test,xgbtfidf.predict(X_test_tfidf)))\n",
    "print('recall',metrics.recall_score(y_test,xgbtfidf.predict(X_test_tfidf)))\n",
    "print('accuracy',metrics.accuracy_score(y_test,xgbtfidf.predict(X_test_tfidf)))"
   ]
  },
  {
   "cell_type": "code",
   "execution_count": null,
   "id": "4a0e402f",
   "metadata": {},
   "outputs": [],
   "source": []
  }
 ],
 "metadata": {
  "kernelspec": {
   "display_name": "Python 3",
   "language": "python",
   "name": "python3"
  },
  "language_info": {
   "codemirror_mode": {
    "name": "ipython",
    "version": 3
   },
   "file_extension": ".py",
   "mimetype": "text/x-python",
   "name": "python",
   "nbconvert_exporter": "python",
   "pygments_lexer": "ipython3",
   "version": "3.8.8"
  }
 },
 "nbformat": 4,
 "nbformat_minor": 5
}
