{
 "cells": [
  {
   "cell_type": "markdown",
   "id": "c505bd2f",
   "metadata": {},
   "source": [
    "# Reddit Classification Problem"
   ]
  },
  {
   "cell_type": "markdown",
   "id": "7e262ead",
   "metadata": {},
   "source": [
    "## Laura Minter\n",
    "### October 2021"
   ]
  },
  {
   "cell_type": "markdown",
   "id": "d0a3fea4",
   "metadata": {},
   "source": [
    "#### Problem statement\n"
   ]
  },
  {
   "cell_type": "markdown",
   "id": "382a11ea",
   "metadata": {},
   "source": [
    "This notebook assumes that the previous [exploratory analysis notebook](./03-exploratory-data-anlaysis.ipynb) was succesfully run and that correct cleaned data is stored in the `./data` folder using the `<city>_df_cleaned.csv` style filename. "
   ]
  },
  {
   "cell_type": "code",
   "execution_count": 2,
   "id": "983f24db",
   "metadata": {},
   "outputs": [],
   "source": [
    "#imports\n",
    "import pandas as pd\n",
    "import os\n",
    "import seaborn as sns\n",
    "import numpy as np\n",
    "import matplotlib.pyplot as plt\n",
    "\n",
    "from sklearn.feature_extraction.text import CountVectorizer, TfidfVectorizer\n",
    "from sklearn.model_selection import train_test_split, GridSearchCV\n",
    "from sklearn.linear_model import LogisticRegression\n",
    "from sklearn.neighbors import KNeighborsClassifier\n",
    "from sklearn.preprocessing import StandardScaler\n",
    "from sklearn import metrics\n",
    "from sklearn.pipeline import Pipeline\n",
    "from sklearn.naive_bayes import MultinomialNB\n",
    "\n",
    "from nltk.sentiment.vader import SentimentIntensityAnalyzer\n",
    "\n",
    "from sklearn.tree import DecisionTreeClassifier\n",
    "from sklearn.ensemble import BaggingClassifier, RandomForestClassifier,\\\n",
    "         GradientBoostingClassifier, AdaBoostClassifier, VotingClassifier\n",
    "from xgboost import XGBClassifier\n",
    "\n",
    "from sklearn.svm import SVC\n"
   ]
  },
  {
   "cell_type": "code",
   "execution_count": 3,
   "id": "cc4cda53",
   "metadata": {},
   "outputs": [],
   "source": [
    "df_sea = pd.read_csv('./data/sea_df_cleaned.csv')\n",
    "df_pdx = pd.read_csv('./data/pdx_df_cleaned.csv')\n",
    "\n",
    "df = pd.concat([df_sea,df_pdx])\n",
    "\n",
    "#fixing 'from_seattle' column that appears to have been corrupted in save\n",
    "df['from_seattle'] = 1-df['from_portland']\n",
    "df.dropna(inplace = True)"
   ]
  },
  {
   "cell_type": "markdown",
   "id": "306ed2a3",
   "metadata": {},
   "source": [
    "## Null Model"
   ]
  },
  {
   "cell_type": "code",
   "execution_count": 4,
   "id": "b58c602e",
   "metadata": {
    "scrolled": false
   },
   "outputs": [
    {
     "data": {
      "text/plain": [
       "from_seattle\n",
       "0.0    0.553903\n",
       "1.0    0.446097\n",
       "dtype: float64"
      ]
     },
     "execution_count": 4,
     "metadata": {},
     "output_type": "execute_result"
    }
   ],
   "source": [
    "#Null model using value_counts\n",
    "df.value_counts('from_seattle',normalize = True)\n",
    "\n"
   ]
  },
  {
   "cell_type": "markdown",
   "id": "459fbeef",
   "metadata": {},
   "source": [
    "The null model would predict the correct source 55.4% of the time.  So any model that we will build will need to beat that.  \n",
    "\n",
    "vectorizer parameters of interest:\n",
    "- bi-grams in cv (CountVectorizer)\n",
    "- min number of documents it must be in (CV)\n",
    "- max number of documents it can be in (CV)\n",
    "\n",
    "Models of interest:\n",
    "LogReg,\n",
    "MNB,\n",
    "KNN,\n",
    "CART,\n",
    "Bag,\n",
    "RF,\n",
    "AdaBoost,\n",
    "GradientBoost"
   ]
  },
  {
   "cell_type": "code",
   "execution_count": 5,
   "id": "a49fb610",
   "metadata": {
    "scrolled": true
   },
   "outputs": [
    {
     "data": {
      "text/plain": [
       "Index(['selftext', 'title', 'author', 'id', 'r_seattlewa', 'r_portland',\n",
       "       'from_seattle', 'from_portland', 'fulltext', 'title_length',\n",
       "       'text_length', 'total_length', 'title_words', 'text_words',\n",
       "       'fulltext_words'],\n",
       "      dtype='object')"
      ]
     },
     "execution_count": 5,
     "metadata": {},
     "output_type": "execute_result"
    }
   ],
   "source": [
    "df.columns"
   ]
  },
  {
   "cell_type": "code",
   "execution_count": 6,
   "id": "aabd8b45",
   "metadata": {},
   "outputs": [],
   "source": [
    "nonvector_features = ['title_length','text_length','total_length']"
   ]
  },
  {
   "cell_type": "markdown",
   "id": "923c4e53",
   "metadata": {},
   "source": [
    "### Basic Logistic Regression"
   ]
  },
  {
   "cell_type": "code",
   "execution_count": 7,
   "id": "54ae3a1f",
   "metadata": {},
   "outputs": [],
   "source": [
    "X = df['fulltext']\n",
    "y = df['from_seattle']"
   ]
  },
  {
   "cell_type": "code",
   "execution_count": 8,
   "id": "0d34665a",
   "metadata": {
    "scrolled": false
   },
   "outputs": [],
   "source": [
    "X_train, X_test, y_train, y_test = train_test_split(X, y, stratify=y, random_state=42)"
   ]
  },
  {
   "cell_type": "code",
   "execution_count": null,
   "id": "abd74329",
   "metadata": {
    "scrolled": true
   },
   "outputs": [],
   "source": [
    "%%time\n",
    "\n",
    "#vectorize first with CountVectorizer\n",
    "cv = CountVectorizer(stop_words='english',max_features=3000)\n",
    "\n",
    "X_train_cv = cv.fit_transform(X_train)\n",
    "X_test_cv = cv.transform(X_test)"
   ]
  },
  {
   "cell_type": "code",
   "execution_count": null,
   "id": "a8226198",
   "metadata": {},
   "outputs": [],
   "source": [
    "%%time\n",
    "\n",
    "#vectorize second with TFIDF\n",
    "tfidf = TfidfVectorizer(stop_words='english',max_features=3000)\n",
    "\n",
    "X_train_tfidf = tfidf.fit_transform(X_train)\n",
    "X_test_tfidf = tfidf.transform(X_test)"
   ]
  },
  {
   "cell_type": "code",
   "execution_count": null,
   "id": "1216a2dd",
   "metadata": {},
   "outputs": [],
   "source": [
    "logreg = LogisticRegression(max_iter=10_000)"
   ]
  },
  {
   "cell_type": "code",
   "execution_count": null,
   "id": "fb30530f",
   "metadata": {
    "scrolled": true
   },
   "outputs": [],
   "source": [
    "logreg.fit(X_train_cv,y_train)"
   ]
  },
  {
   "cell_type": "code",
   "execution_count": null,
   "id": "4c44da18",
   "metadata": {},
   "outputs": [],
   "source": [
    "print('Logistic Regression R2 with CountVectorizer')\n",
    "print(logreg.score(X_train_cv,y_train),logreg.score(X_test_cv, y_test))"
   ]
  },
  {
   "cell_type": "code",
   "execution_count": null,
   "id": "09b50d2e",
   "metadata": {
    "scrolled": true
   },
   "outputs": [],
   "source": [
    "metrics.plot_confusion_matrix(logreg,X_test_cv,y_test);"
   ]
  },
  {
   "cell_type": "code",
   "execution_count": null,
   "id": "8ae0feb1",
   "metadata": {},
   "outputs": [],
   "source": [
    "lr_preds = logreg.predict(X_test_cv)"
   ]
  },
  {
   "cell_type": "code",
   "execution_count": null,
   "id": "67c6d67b",
   "metadata": {
    "scrolled": false
   },
   "outputs": [],
   "source": [
    "print(\"Logistic regression metrics with CountVectorizer:\")\n",
    "print('accuracy',metrics.accuracy_score(y_test,lr_preds))\n",
    "print('precision',metrics.precision_score(y_test,lr_preds))\n",
    "print('recall',metrics.recall_score(y_test,lr_preds))\n"
   ]
  },
  {
   "cell_type": "code",
   "execution_count": null,
   "id": "8459c3b2",
   "metadata": {},
   "outputs": [],
   "source": [
    "metrics.balanced_accuracy_score(y_test,lr_preds)"
   ]
  },
  {
   "cell_type": "code",
   "execution_count": null,
   "id": "cc986a3c",
   "metadata": {},
   "outputs": [],
   "source": [
    "logreg.fit(X_train_tfidf,y_train)\n",
    "logreg.score(X_train_tfidf,y_train),logreg.score(X_test_tfidf,y_test)"
   ]
  },
  {
   "cell_type": "code",
   "execution_count": null,
   "id": "2d5d0c8b",
   "metadata": {},
   "outputs": [],
   "source": [
    "lr_preds_tfidf = logreg.predict(X_test_tfidf)"
   ]
  },
  {
   "cell_type": "code",
   "execution_count": null,
   "id": "f15fea32",
   "metadata": {},
   "outputs": [],
   "source": [
    "print(\"Logistic regression metrics with TfidfVectorizer:\")\n",
    "print('accuracy',metrics.accuracy_score(y_test,lr_preds_tfidf))\n",
    "print('precision',metrics.precision_score(y_test,lr_preds_tfidf))\n",
    "print('recall',metrics.recall_score(y_test,lr_preds_tfidf))"
   ]
  },
  {
   "cell_type": "code",
   "execution_count": 22,
   "id": "ba847b95",
   "metadata": {},
   "outputs": [
    {
     "data": {
      "text/plain": [
       "0.8151225848114466"
      ]
     },
     "execution_count": 22,
     "metadata": {},
     "output_type": "execute_result"
    }
   ],
   "source": [
    "metrics.balanced_accuracy_score(y_test,lr_preds_tfidf)"
   ]
  },
  {
   "cell_type": "markdown",
   "id": "0303ab6b",
   "metadata": {},
   "source": [
    "From the confusion matrix it seems to give more false negatives than fals positives.  The accuracy and precision are good but the recall and specificity are not.  \n",
    "\n",
    "The null model would predict the correct source 55.4% of the time.  Our basic logistic regression model is better with an accuracy of 82.3% on the test data.  The model does shows some minor overfitting.  We can remove features and modify hyper parameters to test.  \n",
    "\n",
    "We don't see a large difference for TFIDF vs CV vectorizers\n",
    "\n",
    "parameters of interest:\n",
    "- bi-grams \n",
    "- min number of documents it must be in \n",
    "- max number of documents it can be in \n",
    "\n",
    "Prefer to move onto other more sophisticated models\n"
   ]
  },
  {
   "cell_type": "markdown",
   "id": "d6528d20",
   "metadata": {},
   "source": [
    "### Multinomial Naive Bayes Model"
   ]
  },
  {
   "cell_type": "code",
   "execution_count": 20,
   "id": "bfacd291",
   "metadata": {},
   "outputs": [
    {
     "data": {
      "text/plain": [
       "(0.8093477478543364, 0.8089237913542452)"
      ]
     },
     "execution_count": 20,
     "metadata": {},
     "output_type": "execute_result"
    }
   ],
   "source": [
    "mn = MultinomialNB()\n",
    "mn.fit(X_train_cv,y_train)\n",
    "mn.score(X_train_cv,y_train),mn.score(X_test_cv,y_test)"
   ]
  },
  {
   "cell_type": "code",
   "execution_count": 21,
   "id": "0be1da67",
   "metadata": {
    "scrolled": false
   },
   "outputs": [
    {
     "data": {
      "image/png": "[encoded data removed]",
      "text/plain": [
       "<Figure size 432x288 with 2 Axes>"
      ]
     },
     "metadata": {
      "needs_background": "light"
     },
     "output_type": "display_data"
    }
   ],
   "source": [
    "mn_preds = mn.predict(X_test_cv)\n",
    "metrics.plot_confusion_matrix(mn,X_test_cv,y_test);"
   ]
  },
  {
   "cell_type": "code",
   "execution_count": 22,
   "id": "87a79254",
   "metadata": {
    "scrolled": true
   },
   "outputs": [
    {
     "name": "stdout",
     "output_type": "stream",
     "text": [
      "Multinomial Naive Bayes metrics with CountVectorizer\n",
      "precision 0.8681154470156264\n",
      "recall 0.6740816867789418\n",
      "accuracy 0.8089237913542452\n"
     ]
    }
   ],
   "source": [
    "print('Multinomial Naive Bayes metrics with CountVectorizer')\n",
    "print('precision',metrics.precision_score(y_test,mn_preds))\n",
    "print('recall',metrics.recall_score(y_test,mn_preds))\n",
    "print('accuracy',metrics.accuracy_score(y_test,mn_preds))"
   ]
  },
  {
   "cell_type": "code",
   "execution_count": 23,
   "id": "dfc93a46",
   "metadata": {},
   "outputs": [
    {
     "data": {
      "text/plain": [
       "(0.8088153373658498, 0.8070307762840706)"
      ]
     },
     "execution_count": 23,
     "metadata": {},
     "output_type": "execute_result"
    }
   ],
   "source": [
    "mn.fit(X_train_tfidf,y_train)\n",
    "mn.score(X_train_tfidf,y_train),mn.score(X_test_tfidf,y_test)"
   ]
  },
  {
   "cell_type": "markdown",
   "id": "8f319156",
   "metadata": {},
   "source": [
    "This one does better than the null model and shows slightly lower variance than the logistic regression but at the cost of a little bit of accuracy and lower recall.  MNB does better with CV than TFIDF"
   ]
  },
  {
   "cell_type": "markdown",
   "id": "5cce77ee",
   "metadata": {},
   "source": [
    "#### Decision Tree"
   ]
  },
  {
   "cell_type": "code",
   "execution_count": 23,
   "id": "e5698016",
   "metadata": {},
   "outputs": [
    {
     "data": {
      "text/plain": [
       "(202851, 3000)"
      ]
     },
     "execution_count": 23,
     "metadata": {},
     "output_type": "execute_result"
    }
   ],
   "source": [
    "X_train_tfidf.shape"
   ]
  },
  {
   "cell_type": "code",
   "execution_count": null,
   "id": "bc17249f",
   "metadata": {},
   "outputs": [],
   "source": [
    "%%time \n",
    "\n",
    "tree = DecisionTreeClassifier() #adjusting max_depth \n",
    "\n",
    "tree.fit(X_train_tfidf,y_train)"
   ]
  },
  {
   "cell_type": "code",
   "execution_count": null,
   "id": "9af1a675",
   "metadata": {},
   "outputs": [],
   "source": [
    "tree.score(X_train_tfidf,y_train),tree.score(X_test_tfidf,y_test)\n"
   ]
  },
  {
   "cell_type": "markdown",
   "id": "58931936",
   "metadata": {},
   "source": [
    "#### Bagged tree model"
   ]
  },
  {
   "cell_type": "code",
   "execution_count": null,
   "id": "614dd5ad",
   "metadata": {},
   "outputs": [],
   "source": [
    "%%time \n",
    "\n",
    "bag = BaggingClassifier(n_jobs=-1)\n",
    "bag.fit(X_train_tfidf,y_train)"
   ]
  },
  {
   "cell_type": "code",
   "execution_count": null,
   "id": "a9187cc8",
   "metadata": {
    "scrolled": true
   },
   "outputs": [],
   "source": [
    "bag.score(X_train_tfidf,y_train),bag.score(X_test_tfidf,y_test)"
   ]
  },
  {
   "cell_type": "markdown",
   "id": "a686ecb6",
   "metadata": {},
   "source": [
    "#### XGBoost"
   ]
  },
  {
   "cell_type": "code",
   "execution_count": 23,
   "id": "f7d0b37a",
   "metadata": {},
   "outputs": [],
   "source": [
    "from xgboost import XGBClassifier"
   ]
  },
  {
   "cell_type": "code",
   "execution_count": 24,
   "id": "b456b1c9",
   "metadata": {},
   "outputs": [
    {
     "name": "stdout",
     "output_type": "stream",
     "text": [
      "CPU times: user 42.2 s, sys: 2.24 s, total: 44.4 s\n",
      "Wall time: 7.28 s\n"
     ]
    },
    {
     "data": {
      "text/plain": [
       "(0.8148049553613244, 0.8152239821346703)"
      ]
     },
     "execution_count": 24,
     "metadata": {},
     "output_type": "execute_result"
    }
   ],
   "source": [
    "%%time\n",
    "\n",
    "xgbcv= XGBClassifier(eval_metric='mlogloss',use_label_encoder=False)\n",
    "xgbcv.fit(X_train_cv,y_train)\n",
    "xgbcv.score(X_train_cv,y_train),xgbcv.score(X_test_cv,y_test)"
   ]
  },
  {
   "cell_type": "code",
   "execution_count": 26,
   "id": "88184732",
   "metadata": {
    "scrolled": false
   },
   "outputs": [
    {
     "name": "stdout",
     "output_type": "stream",
     "text": [
      "CPU times: user 2min 9s, sys: 3.48 s, total: 2min 12s\n",
      "Wall time: 21.8 s\n"
     ]
    },
    {
     "data": {
      "text/plain": [
       "(0.8175409537049362, 0.8158599168848071)"
      ]
     },
     "execution_count": 26,
     "metadata": {},
     "output_type": "execute_result"
    }
   ],
   "source": [
    "%%time\n",
    "\n",
    "\n",
    "xgbtfidf= XGBClassifier(eval_metric='mlogloss',use_label_encoder=False)\n",
    "xgbtfidf.fit(X_train_tfidf,y_train)\n",
    "xgbtfidf.score(X_train_tfidf,y_train),xgbtfidf.score(X_test_tfidf,y_test)"
   ]
  },
  {
   "cell_type": "code",
   "execution_count": 29,
   "id": "373ad311",
   "metadata": {},
   "outputs": [],
   "source": [
    "gbpred = xgbcv.predict_proba(X_test_cv)\n",
    "ypred = [entry[1] for entry in gbpred]"
   ]
  },
  {
   "cell_type": "code",
   "execution_count": 26,
   "id": "1b350483",
   "metadata": {
    "scrolled": true
   },
   "outputs": [
    {
     "data": {
      "text/plain": [
       "0.9127822053970287"
      ]
     },
     "execution_count": 26,
     "metadata": {},
     "output_type": "execute_result"
    }
   ],
   "source": [
    "metrics.roc_auc_score(y_test,ypred)"
   ]
  },
  {
   "cell_type": "code",
   "execution_count": 27,
   "id": "30d8af78",
   "metadata": {
    "scrolled": true
   },
   "outputs": [
    {
     "data": {
      "text/plain": [
       "<sklearn.metrics._plot.confusion_matrix.ConfusionMatrixDisplay at 0x7feaf1f70430>"
      ]
     },
     "execution_count": 27,
     "metadata": {},
     "output_type": "execute_result"
    },
    {
     "data": {
      "image/png": "[encoded data removed]",
      "text/plain": [
       "<Figure size 432x288 with 2 Axes>"
      ]
     },
     "metadata": {
      "needs_background": "light"
     },
     "output_type": "display_data"
    }
   ],
   "source": [
    "metrics.plot_confusion_matrix(xgbcv,X_test_cv,y_test)"
   ]
  },
  {
   "cell_type": "code",
   "execution_count": 33,
   "id": "2f650b12",
   "metadata": {},
   "outputs": [
    {
     "name": "stdout",
     "output_type": "stream",
     "text": [
      "XGBoost metrics with CountVectorizer\n",
      "precision 0.9553184910327768\n",
      "recall 0.6145405118684525\n",
      "accuracy 0.8152239821346703\n"
     ]
    }
   ],
   "source": [
    "print('XGBoost metrics with CountVectorizer')\n",
    "print('precision',metrics.precision_score(y_test,xgbcv.predict(X_test_cv)))\n",
    "print('recall',metrics.recall_score(y_test,xgbcv.predict(X_test_cv)))\n",
    "print('accuracy',metrics.accuracy_score(y_test,xgbcv.predict(X_test_cv)))"
   ]
  },
  {
   "cell_type": "markdown",
   "id": "2b0e7e1a",
   "metadata": {},
   "source": [
    "#### Grid search with XGBClassifier"
   ]
  },
  {
   "cell_type": "code",
   "execution_count": null,
   "id": "b1d3e278",
   "metadata": {},
   "outputs": [],
   "source": []
  },
  {
   "cell_type": "code",
   "execution_count": null,
   "id": "0c14bd85",
   "metadata": {},
   "outputs": [],
   "source": [
    "params = {\n",
    "    'n_estimators' : [100, 150],\n",
    "    'max_depth':[10, 15],\n",
    "    #'min_child_weight': [1, 10],\n",
    "    'eval_metric':['mlogloss'], #fixes error messages for deprecated usage\n",
    "    'use_label_encoder': [False]  #fixes error messages for label encoder issue\n",
    "}  \n",
    "\n",
    "\n",
    "gs = GridSearchCV(XGBClassifier(), param_grid=params)"
   ]
  },
  {
   "cell_type": "code",
   "execution_count": null,
   "id": "67973f27",
   "metadata": {
    "scrolled": true
   },
   "outputs": [],
   "source": [
    "%%time\n",
    "\n",
    "gs.fit(X_train_tfidf,y_train)"
   ]
  },
  {
   "cell_type": "code",
   "execution_count": null,
   "id": "6cc69e80",
   "metadata": {
    "scrolled": true
   },
   "outputs": [],
   "source": [
    "gs.best_params_"
   ]
  },
  {
   "cell_type": "code",
   "execution_count": null,
   "id": "9e7fd86e",
   "metadata": {},
   "outputs": [],
   "source": [
    "gs.best_score_"
   ]
  },
  {
   "cell_type": "code",
   "execution_count": null,
   "id": "49529ebb",
   "metadata": {},
   "outputs": [],
   "source": [
    "gs.score(X_train_tfidf,y_train),gs.score(X_test_tfidf,y_test)"
   ]
  },
  {
   "cell_type": "markdown",
   "id": "834e6b7b",
   "metadata": {},
   "source": [
    "#### SVC"
   ]
  },
  {
   "cell_type": "code",
   "execution_count": null,
   "id": "ec86b7d8",
   "metadata": {},
   "outputs": [],
   "source": [
    "%%time \n",
    "\n",
    "svc = SVC()\n",
    "svc.fit(X_train_tfidf,y_train)"
   ]
  },
  {
   "cell_type": "code",
   "execution_count": null,
   "id": "0394dab5",
   "metadata": {},
   "outputs": [],
   "source": [
    "svc.score(X_train_tfidf,y_train),svc.score(X_test_tfidf,y_test)"
   ]
  },
  {
   "cell_type": "code",
   "execution_count": null,
   "id": "f244e0db",
   "metadata": {},
   "outputs": [],
   "source": [
    "svc.predict(X_test_tfidf)"
   ]
  },
  {
   "cell_type": "code",
   "execution_count": null,
   "id": "6aa19c87",
   "metadata": {},
   "outputs": [],
   "source": [
    "%%time \n",
    "\n",
    "svcbest = SVC()\n",
    "svcbest.fit(X_train_cv,y_train)"
   ]
  },
  {
   "cell_type": "code",
   "execution_count": null,
   "id": "7c3ba127",
   "metadata": {},
   "outputs": [],
   "source": [
    "svcbest.score(X_train_cv,y_train),svcbest.score(X_test_cv,y_test)"
   ]
  },
  {
   "cell_type": "code",
   "execution_count": null,
   "id": "dc2ef32e",
   "metadata": {},
   "outputs": [],
   "source": [
    "svc_pred = svcbest.predict_proba(X_test_cv)"
   ]
  },
  {
   "cell_type": "code",
   "execution_count": null,
   "id": "4e6cb47d",
   "metadata": {},
   "outputs": [],
   "source": [
    "metrics.roc_auc_score()"
   ]
  },
  {
   "cell_type": "code",
   "execution_count": null,
   "id": "73f1cbf3",
   "metadata": {},
   "outputs": [],
   "source": [
    "%%time \n",
    "\n",
    "svc = SVC(C=3)\n",
    "svc.fit(X_train_cv,y_train)\n"
   ]
  },
  {
   "cell_type": "code",
   "execution_count": null,
   "id": "3cefdf2a",
   "metadata": {},
   "outputs": [],
   "source": [
    "svc.score(X_train_cv,y_train),svc.score(X_test_cv,y_test)"
   ]
  },
  {
   "cell_type": "markdown",
   "id": "4f4956d8",
   "metadata": {},
   "source": [
    "### Voting classifier?\n"
   ]
  },
  {
   "cell_type": "code",
   "execution_count": null,
   "id": "8ac2c7fc",
   "metadata": {},
   "outputs": [],
   "source": [
    "vote = VotingClassifier([\n",
    "    ('ada', AdaBoostClassifier()),\n",
    "    ('gb', GradientBoostingClassifier()),\n",
    "    ('dt', DecisionTreeClassifier()),\n",
    "    ('rf', RandomForestClassifier())\n",
    "])"
   ]
  },
  {
   "cell_type": "code",
   "execution_count": null,
   "id": "70c878db",
   "metadata": {},
   "outputs": [],
   "source": [
    "params = {\n",
    "    'ada__base_estimator' : [DecisionTreeClassifier(max_depth=2), None],\n",
    "    #'ada__n_estimators' : [95, 100],\n",
    "    'gb__n_estimators' : [20, 50],\n",
    "    #'dt__max_depth' : [4, 5],\n",
    "    #'rf__max_depth' : [5, 6],\n",
    "    'rf__min_samples_split' : [3, 4]\n",
    "}  \n",
    "\n"
   ]
  },
  {
   "cell_type": "code",
   "execution_count": null,
   "id": "c2c535ec",
   "metadata": {},
   "outputs": [],
   "source": [
    "%%time\n",
    "\n",
    "gridcv = GridSearchCV(vote,\n",
    "                   param_grid=params,\n",
    "                   cv=5,\n",
    "                   n_jobs=8)\n",
    "\n",
    "gridcv.fit(X_train_cv, y_train)\n"
   ]
  },
  {
   "cell_type": "code",
   "execution_count": null,
   "id": "ef021911",
   "metadata": {},
   "outputs": [],
   "source": [
    "print(gridcv.best_score_)\n",
    "print(gridcv.best_params_)\n",
    "\n",
    "print(gridcv.best_estimator_)\n",
    "\n"
   ]
  },
  {
   "cell_type": "code",
   "execution_count": null,
   "id": "fd09d2b7",
   "metadata": {},
   "outputs": [],
   "source": [
    "gridcv.score(X_test_cv, y_test)\n",
    "\n",
    "\n"
   ]
  },
  {
   "cell_type": "code",
   "execution_count": null,
   "id": "854cc69a",
   "metadata": {},
   "outputs": [],
   "source": [
    "%%time\n",
    "\n",
    "gridtfidf = GridSearchCV(vote,\n",
    "                   param_grid=params,\n",
    "                   cv=5,\n",
    "                   n_jobs=8)\n",
    "\n",
    "gridtfidf.fit(X_train_tfidf, y_train)"
   ]
  },
  {
   "cell_type": "code",
   "execution_count": null,
   "id": "bf988df6",
   "metadata": {},
   "outputs": [],
   "source": [
    "print(gridtfidf.best_score_)\n",
    "print(gridtfidf.best_params_)\n",
    "\n",
    "print(gridtfidf.best_estimator_)"
   ]
  },
  {
   "cell_type": "markdown",
   "id": "8e683130",
   "metadata": {},
   "source": [
    "# To Do\n",
    "- work on logreg gridsearch\n",
    "- cut data down so that fits are faster?\n",
    "\n",
    "- random forest\n",
    "- adaboost\n",
    "\n"
   ]
  },
  {
   "cell_type": "code",
   "execution_count": 35,
   "id": "51e520f1",
   "metadata": {},
   "outputs": [],
   "source": [
    "logreg2 = LogisticRegression(max_iter=10_000)"
   ]
  },
  {
   "cell_type": "code",
   "execution_count": 36,
   "id": "da7ecc35",
   "metadata": {
    "scrolled": true
   },
   "outputs": [
    {
     "data": {
      "text/plain": [
       "LogisticRegression(max_iter=10000)"
      ]
     },
     "execution_count": 36,
     "metadata": {},
     "output_type": "execute_result"
    }
   ],
   "source": [
    "logreg2.fit(X_train_cv,y_train)"
   ]
  },
  {
   "cell_type": "code",
   "execution_count": 37,
   "id": "eeb5f947",
   "metadata": {},
   "outputs": [
    {
     "name": "stdout",
     "output_type": "stream",
     "text": [
      "Logistic Regression R2 with CountVectorizer\n",
      "0.8330991713129341 0.8233432420840913\n"
     ]
    }
   ],
   "source": [
    "print('Logistic Regression R2 with CountVectorizer')\n",
    "print(logreg2.score(X_train_cv,y_train),logreg2.score(X_test_cv, y_test))"
   ]
  },
  {
   "cell_type": "code",
   "execution_count": 38,
   "id": "75003bb2",
   "metadata": {},
   "outputs": [
    {
     "data": {
      "image/png": "[encoded data removed]",
      "text/plain": [
       "<Figure size 432x288 with 2 Axes>"
      ]
     },
     "metadata": {
      "needs_background": "light"
     },
     "output_type": "display_data"
    }
   ],
   "source": [
    "metrics.plot_confusion_matrix(logreg2,X_test_cv,y_test);"
   ]
  },
  {
   "cell_type": "code",
   "execution_count": null,
   "id": "c7f065e9",
   "metadata": {},
   "outputs": [],
   "source": []
  },
  {
   "cell_type": "code",
   "execution_count": 28,
   "id": "329122ca",
   "metadata": {
    "scrolled": true
   },
   "outputs": [
    {
     "name": "stdout",
     "output_type": "stream",
     "text": [
      "Logistic regression metrics with CountVectorizer:\n",
      "accuracy 0.8237277607702205\n",
      "precision 0.8672356185338754\n",
      "recall 0.7141957300092826\n"
     ]
    }
   ],
   "source": [
    "lr_preds2 = logreg2.predict(X_test_cv)\n",
    "\n",
    "print(\"Logistic regression metrics with CountVectorizer:\")\n",
    "print('accuracy',metrics.accuracy_score(y_test,lr_preds2))\n",
    "print('precision',metrics.precision_score(y_test,lr_preds2))\n",
    "print('recall',metrics.recall_score(y_test,lr_preds2))\n"
   ]
  },
  {
   "cell_type": "code",
   "execution_count": null,
   "id": "45dd3d32",
   "metadata": {},
   "outputs": [],
   "source": [
    "gs = GridSearchCV(LogisticRegression(),\n",
    "                 )"
   ]
  },
  {
   "cell_type": "code",
   "execution_count": null,
   "id": "f646f5f0",
   "metadata": {},
   "outputs": [],
   "source": []
  }
 ],
 "metadata": {
  "kernelspec": {
   "display_name": "Python 3",
   "language": "python",
   "name": "python3"
  },
  "language_info": {
   "codemirror_mode": {
    "name": "ipython",
    "version": 3
   },
   "file_extension": ".py",
   "mimetype": "text/x-python",
   "name": "python",
   "nbconvert_exporter": "python",
   "pygments_lexer": "ipython3",
   "version": "3.8.8"
  }
 },
 "nbformat": 4,
 "nbformat_minor": 5
}
