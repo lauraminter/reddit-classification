{
 "cells": [
  {
   "cell_type": "markdown",
   "id": "c505bd2f",
   "metadata": {},
   "source": [
    "# Reddit Classification Problem"
   ]
  },
  {
   "cell_type": "markdown",
   "id": "7e262ead",
   "metadata": {},
   "source": [
    "## Laura Minter\n",
    "### October 2021"
   ]
  },
  {
   "cell_type": "markdown",
   "id": "d0a3fea4",
   "metadata": {},
   "source": [
    "#### Problem statement\n"
   ]
  },
  {
   "cell_type": "markdown",
   "id": "382a11ea",
   "metadata": {},
   "source": [
    "This notebook assumes that the previous [data cleaning notebook](./02_data_cleaning.ipynb) was succesfully run and that correct cleaned data is stored in the `./data` folder using the `<subreddit_name>_cleaned.csv` style filename. "
   ]
  },
  {
   "cell_type": "code",
   "execution_count": 1,
   "id": "983f24db",
   "metadata": {},
   "outputs": [],
   "source": [
    "#imports\n",
    "import pandas as pd\n",
    "import os\n",
    "import seaborn as sns\n",
    "import numpy as np\n",
    "import matplotlib.pyplot as plt\n",
    "\n",
    "from sklearn.feature_extraction.text import CountVectorizer, TfidfVectorizer\n",
    "from sklearn.model_selection import train_test_split, GridSearchCV\n",
    "from sklearn.linear_model import LogisticRegression\n",
    "from sklearn.neighbors import KNeighborsClassifier\n",
    "from sklearn.preprocessing import StandardScaler\n",
    "from sklearn import metrics\n",
    "from sklearn.pipeline import Pipeline\n",
    "from sklearn.naive_bayes import MultinomialNB\n",
    "\n",
    "from nltk.sentiment.vader import SentimentIntensityAnalyzer\n"
   ]
  },
  {
   "cell_type": "code",
   "execution_count": 2,
   "id": "114e7ea3",
   "metadata": {},
   "outputs": [],
   "source": [
    "sea = pd.read_csv('./data/Seattle/seattle_cleaned.csv')\n",
    "sea['r_seattlewa'] = 0\n",
    "sea['r_portland'] = 0\n",
    "sea['from_seattle'] = 1"
   ]
  },
  {
   "cell_type": "code",
   "execution_count": 3,
   "id": "5285111b",
   "metadata": {},
   "outputs": [],
   "source": [
    "wa = pd.read_csv('./data/SeattleWA/seattlewa_cleaned.csv')\n",
    "wa['r_seattlewa'] = 1\n",
    "wa['r_portland'] = 0\n",
    "wa['from_seattle'] = 1"
   ]
  },
  {
   "cell_type": "code",
   "execution_count": 4,
   "id": "c2a825dd",
   "metadata": {},
   "outputs": [],
   "source": [
    "pdx = pd.read_csv('./data/Portland/portland_cleaned.csv')\n",
    "pdx['r_seattlewa'] = 0\n",
    "pdx['r_portland'] = 1\n",
    "pdx['from_seattle'] = 0"
   ]
  },
  {
   "cell_type": "code",
   "execution_count": 5,
   "id": "eb4b322d",
   "metadata": {},
   "outputs": [],
   "source": [
    "#pdx = pd.read('./data/Portland/Portland_cleaned.csv'"
   ]
  },
  {
   "cell_type": "code",
   "execution_count": 6,
   "id": "15e218e9",
   "metadata": {},
   "outputs": [],
   "source": [
    "df = pd.concat([sea,wa, pdx],axis = 0)"
   ]
  },
  {
   "cell_type": "code",
   "execution_count": 7,
   "id": "246c9af4",
   "metadata": {},
   "outputs": [],
   "source": [
    "df.drop(columns = 'Unnamed: 0', inplace = True)\n",
    "\n",
    "df['fulltext'] = df['title'].map(str) + df['selftext'].map(str)"
   ]
  },
  {
   "cell_type": "code",
   "execution_count": 8,
   "id": "eaf961d5",
   "metadata": {},
   "outputs": [
    {
     "data": {
      "text/html": [
       "<div>\n",
       "<style scoped>\n",
       "    .dataframe tbody tr th:only-of-type {\n",
       "        vertical-align: middle;\n",
       "    }\n",
       "\n",
       "    .dataframe tbody tr th {\n",
       "        vertical-align: top;\n",
       "    }\n",
       "\n",
       "    .dataframe thead th {\n",
       "        text-align: right;\n",
       "    }\n",
       "</style>\n",
       "<table border=\"1\" class=\"dataframe\">\n",
       "  <thead>\n",
       "    <tr style=\"text-align: right;\">\n",
       "      <th></th>\n",
       "      <th>selftext</th>\n",
       "      <th>title</th>\n",
       "      <th>author</th>\n",
       "      <th>id</th>\n",
       "      <th>r_seattlewa</th>\n",
       "      <th>r_portland</th>\n",
       "      <th>from_seattle</th>\n",
       "      <th>fulltext</th>\n",
       "    </tr>\n",
       "  </thead>\n",
       "  <tbody>\n",
       "    <tr>\n",
       "      <th>0</th>\n",
       "      <td>NaN</td>\n",
       "      <td>Driver in Summer Taylor vehicular homicide cas...</td>\n",
       "      <td>OnlineMemeArmy</td>\n",
       "      <td>kr0hh7</td>\n",
       "      <td>0</td>\n",
       "      <td>0</td>\n",
       "      <td>1</td>\n",
       "      <td>Driver in Summer Taylor vehicular homicide cas...</td>\n",
       "    </tr>\n",
       "    <tr>\n",
       "      <th>1</th>\n",
       "      <td>NaN</td>\n",
       "      <td>Another stormy day brings high winds, landslid...</td>\n",
       "      <td>OnlineMemeArmy</td>\n",
       "      <td>kr0grd</td>\n",
       "      <td>0</td>\n",
       "      <td>0</td>\n",
       "      <td>1</td>\n",
       "      <td>Another stormy day brings high winds, landslid...</td>\n",
       "    </tr>\n",
       "    <tr>\n",
       "      <th>2</th>\n",
       "      <td>NaN</td>\n",
       "      <td>Gender-fluid dancer breaks barriers at Pacific...</td>\n",
       "      <td>OnlineMemeArmy</td>\n",
       "      <td>kr0dx9</td>\n",
       "      <td>0</td>\n",
       "      <td>0</td>\n",
       "      <td>1</td>\n",
       "      <td>Gender-fluid dancer breaks barriers at Pacific...</td>\n",
       "    </tr>\n",
       "    <tr>\n",
       "      <th>3</th>\n",
       "      <td>NaN</td>\n",
       "      <td>Logistics proving to be biggest challenge for ...</td>\n",
       "      <td>OnlineMemeArmy</td>\n",
       "      <td>kr0c3t</td>\n",
       "      <td>0</td>\n",
       "      <td>0</td>\n",
       "      <td>1</td>\n",
       "      <td>Logistics proving to be biggest challenge for ...</td>\n",
       "    </tr>\n",
       "    <tr>\n",
       "      <th>4</th>\n",
       "      <td>NaN</td>\n",
       "      <td>Tribes, preservation societies join lawsuit to...</td>\n",
       "      <td>OnlineMemeArmy</td>\n",
       "      <td>kr0b0m</td>\n",
       "      <td>0</td>\n",
       "      <td>0</td>\n",
       "      <td>1</td>\n",
       "      <td>Tribes, preservation societies join lawsuit to...</td>\n",
       "    </tr>\n",
       "  </tbody>\n",
       "</table>\n",
       "</div>"
      ],
      "text/plain": [
       "  selftext                                              title          author  \\\n",
       "0      NaN  Driver in Summer Taylor vehicular homicide cas...  OnlineMemeArmy   \n",
       "1      NaN  Another stormy day brings high winds, landslid...  OnlineMemeArmy   \n",
       "2      NaN  Gender-fluid dancer breaks barriers at Pacific...  OnlineMemeArmy   \n",
       "3      NaN  Logistics proving to be biggest challenge for ...  OnlineMemeArmy   \n",
       "4      NaN  Tribes, preservation societies join lawsuit to...  OnlineMemeArmy   \n",
       "\n",
       "       id  r_seattlewa  r_portland  from_seattle  \\\n",
       "0  kr0hh7            0           0             1   \n",
       "1  kr0grd            0           0             1   \n",
       "2  kr0dx9            0           0             1   \n",
       "3  kr0c3t            0           0             1   \n",
       "4  kr0b0m            0           0             1   \n",
       "\n",
       "                                            fulltext  \n",
       "0  Driver in Summer Taylor vehicular homicide cas...  \n",
       "1  Another stormy day brings high winds, landslid...  \n",
       "2  Gender-fluid dancer breaks barriers at Pacific...  \n",
       "3  Logistics proving to be biggest challenge for ...  \n",
       "4  Tribes, preservation societies join lawsuit to...  "
      ]
     },
     "execution_count": 8,
     "metadata": {},
     "output_type": "execute_result"
    }
   ],
   "source": [
    "df.head()\n"
   ]
  },
  {
   "cell_type": "code",
   "execution_count": 9,
   "id": "b219597d",
   "metadata": {},
   "outputs": [
    {
     "data": {
      "text/plain": [
       "0    211076\n",
       "1     59524\n",
       "Name: r_seattlewa, dtype: int64"
      ]
     },
     "execution_count": 9,
     "metadata": {},
     "output_type": "execute_result"
    }
   ],
   "source": [
    "df['r_seattlewa'].value_counts()"
   ]
  },
  {
   "cell_type": "markdown",
   "id": "923c4e53",
   "metadata": {},
   "source": [
    "### Basic Logistic Regression"
   ]
  },
  {
   "cell_type": "code",
   "execution_count": 10,
   "id": "54ae3a1f",
   "metadata": {},
   "outputs": [],
   "source": [
    "X = df['fulltext']\n",
    "y = df['r_seattlewa']"
   ]
  },
  {
   "cell_type": "code",
   "execution_count": 11,
   "id": "0d34665a",
   "metadata": {},
   "outputs": [],
   "source": [
    "X_train, X_test, y_train, y_test = train_test_split(X,y, stratify=y, random_state=42)"
   ]
  },
  {
   "cell_type": "code",
   "execution_count": 12,
   "id": "abd74329",
   "metadata": {
    "scrolled": true
   },
   "outputs": [],
   "source": [
    "#vectorize first with CountVectorizer\n",
    "cv = CountVectorizer(stop_words='english',max_features=3000)\n",
    "\n",
    "X_train_cv = cv.fit_transform(X_train)\n",
    "X_test_cv = cv.transform(X_test)"
   ]
  },
  {
   "cell_type": "code",
   "execution_count": 13,
   "id": "46977328",
   "metadata": {},
   "outputs": [],
   "source": [
    "#vectorize again with TFIDF\n",
    "tfidf = TfidfVectorizer(max_features=3000)\n",
    "\n",
    "X_train_tfidf = tfidf.fit_transform(X_train)\n",
    "X_test_tfidf = tfidf.transform(X_test)"
   ]
  },
  {
   "cell_type": "code",
   "execution_count": 14,
   "id": "1216a2dd",
   "metadata": {},
   "outputs": [],
   "source": [
    "logreg = LogisticRegression(max_iter=10_000)"
   ]
  },
  {
   "cell_type": "code",
   "execution_count": 15,
   "id": "fb30530f",
   "metadata": {
    "scrolled": true
   },
   "outputs": [
    {
     "data": {
      "text/plain": [
       "LogisticRegression(max_iter=10000)"
      ]
     },
     "execution_count": 15,
     "metadata": {},
     "output_type": "execute_result"
    }
   ],
   "source": [
    "logreg.fit(X_train_cv,y_train)"
   ]
  },
  {
   "cell_type": "code",
   "execution_count": 16,
   "id": "4c44da18",
   "metadata": {},
   "outputs": [
    {
     "name": "stdout",
     "output_type": "stream",
     "text": [
      "Logistic Regression Metrics with CountVectorizer\n",
      "0.8056023651145602 0.7984774575018477\n"
     ]
    }
   ],
   "source": [
    "print(\"Logistic Regression Metrics with CountVectorizer\")\n",
    "print(logreg.score(X_train_cv,y_train),logreg.score(X_test_cv, y_test))"
   ]
  },
  {
   "cell_type": "code",
   "execution_count": 17,
   "id": "09b50d2e",
   "metadata": {
    "scrolled": false
   },
   "outputs": [
    {
     "data": {
      "image/png": "[encoded data removed]",
      "text/plain": [
       "<Figure size 432x288 with 2 Axes>"
      ]
     },
     "metadata": {
      "needs_background": "light"
     },
     "output_type": "display_data"
    }
   ],
   "source": [
    "metrics.plot_confusion_matrix(logreg,X_test_cv,y_test);"
   ]
  },
  {
   "cell_type": "markdown",
   "id": "0303ab6b",
   "metadata": {},
   "source": [
    "From the confusion matrix it doesn't seem particuarly off in one direction (roughly even false positives and false negatives)"
   ]
  },
  {
   "cell_type": "code",
   "execution_count": 18,
   "id": "fcae5164",
   "metadata": {},
   "outputs": [
    {
     "name": "stdout",
     "output_type": "stream",
     "text": [
      "Logistic Regression Metrics with TFIDF\n",
      "0.8146932742054693 0.8073762010347376\n"
     ]
    }
   ],
   "source": [
    "logreg.fit(X_train_tfidf,y_train)\n",
    "print(\"Logistic Regression Metrics with TFIDF\")\n",
    "print(logreg.score(X_train_tfidf,y_train),logreg.score(X_test_tfidf,y_test))"
   ]
  },
  {
   "cell_type": "code",
   "execution_count": 19,
   "id": "f4615f86",
   "metadata": {},
   "outputs": [
    {
     "data": {
      "image/png": "[encoded data removed]",
      "text/plain": [
       "<Figure size 432x288 with 2 Axes>"
      ]
     },
     "metadata": {
      "needs_background": "light"
     },
     "output_type": "display_data"
    }
   ],
   "source": [
    "metrics.plot_confusion_matrix(logreg,X_test_tfidf,y_test);"
   ]
  },
  {
   "cell_type": "markdown",
   "id": "a413cdff",
   "metadata": {},
   "source": [
    "Using LogisticRegression with TfdifVectorizer has an overall better accuracy than using it with CountVectorizer.  We see reasonable accuracy at 80% even before optimization when using TFIDF.  "
   ]
  },
  {
   "cell_type": "markdown",
   "id": "154d3486",
   "metadata": {},
   "source": [
    "### Compare to null model"
   ]
  },
  {
   "cell_type": "code",
   "execution_count": 20,
   "id": "b3ca4334",
   "metadata": {},
   "outputs": [
    {
     "data": {
      "text/plain": [
       "from_seattle\n",
       "0    0.553936\n",
       "1    0.446064\n",
       "dtype: float64"
      ]
     },
     "execution_count": 20,
     "metadata": {},
     "output_type": "execute_result"
    }
   ],
   "source": [
    "df.value_counts('from_seattle',normalize = True)"
   ]
  },
  {
   "cell_type": "markdown",
   "id": "339b9454",
   "metadata": {},
   "source": [
    "The null model would predict the correct source 55.4% of the time.  Our basic logistic regression model is better at 80.7% accuracy on unseen text.  The model does show some overfitting.  We can remove features and modify hyper parameters to test.    \n",
    "\n",
    "parameters of interest:\n",
    "- bi-grams in cv (CountVectorizer)\n",
    "- min number of documents it must be in (CV)\n",
    "- max number of documents it can be in (CV)\n",
    "\n",
    "Long term we will probably just fit other models."
   ]
  },
  {
   "cell_type": "markdown",
   "id": "ac356883",
   "metadata": {},
   "source": [
    "### kNN model"
   ]
  },
  {
   "cell_type": "markdown",
   "id": "8aca11db",
   "metadata": {},
   "source": []
  },
  {
   "cell_type": "code",
   "execution_count": 21,
   "id": "bf8b68c0",
   "metadata": {},
   "outputs": [],
   "source": [
    "knn = KNeighborsClassifier(n_neighbors=5)"
   ]
  },
  {
   "cell_type": "code",
   "execution_count": 22,
   "id": "3308e6ce",
   "metadata": {},
   "outputs": [
    {
     "data": {
      "text/plain": [
       "KNeighborsClassifier()"
      ]
     },
     "execution_count": 22,
     "metadata": {},
     "output_type": "execute_result"
    }
   ],
   "source": [
    "knn.fit(X_train_cv,y_train)"
   ]
  },
  {
   "cell_type": "code",
   "execution_count": 23,
   "id": "cc3ffc18",
   "metadata": {},
   "outputs": [],
   "source": [
    "#knn.score(X_train_cv,y_train),knn.score(X_test_cv,y_test)"
   ]
  },
  {
   "cell_type": "markdown",
   "id": "0553e596",
   "metadata": {},
   "source": [
    "With this many entries KNN takes a really long time.  Probably best to use something else.  This kNN with 5 neighbors shows overfitting.  Has low bias for training set but does not better than the null with the test set and shows high variance.  "
   ]
  },
  {
   "cell_type": "markdown",
   "id": "d6528d20",
   "metadata": {},
   "source": [
    "### Multinomial Naive Bayes Model with pipeline for grid search"
   ]
  },
  {
   "cell_type": "code",
   "execution_count": 24,
   "id": "538f9f13",
   "metadata": {},
   "outputs": [],
   "source": [
    "# Using Count Vectorizer and Multinomial Naive Bayes model\n",
    "pipe = Pipeline([\n",
    "    ('cv', CountVectorizer(stop_words = 'english') ),  #vary max_features within grid search\n",
    "    ('mnb', MultinomialNB() )\n",
    "])"
   ]
  },
  {
   "cell_type": "code",
   "execution_count": 36,
   "id": "94424707",
   "metadata": {},
   "outputs": [],
   "source": [
    "pipe_params = {\n",
    "    'cv__max_features': [ 3000, 4000, 5000], #double underscore (AKA dunder) \n",
    "    'cv__min_df': [10, 100, 1000], #excluding words that do not appear often enough\n",
    "    'cv__max_df': [.9, .95], #excluding words that are universal, probably like Seattle\n",
    "    'cv__ngram_range': [(1,1), (1,2)] #looking at bigrams as well as words\n",
    "}"
   ]
  },
  {
   "cell_type": "code",
   "execution_count": 37,
   "id": "98ad5795",
   "metadata": {},
   "outputs": [],
   "source": [
    "gs = GridSearchCV(pipe, \n",
    "                  pipe_params,\n",
    "                  cv = 5) "
   ]
  },
  {
   "cell_type": "code",
   "execution_count": null,
   "id": "d6099654",
   "metadata": {},
   "outputs": [],
   "source": [
    "#%%time \n",
    "\n",
    "#gs.fit(X_train,y_train)"
   ]
  },
  {
   "cell_type": "code",
   "execution_count": 28,
   "id": "110349b7",
   "metadata": {},
   "outputs": [],
   "source": [
    "#gs.score(X_train,y_train),gs.score(X_test,y_test)"
   ]
  },
  {
   "cell_type": "code",
   "execution_count": 29,
   "id": "1e1eb11e",
   "metadata": {},
   "outputs": [],
   "source": [
    "#gs.best_params_"
   ]
  },
  {
   "cell_type": "code",
   "execution_count": 30,
   "id": "332bd686",
   "metadata": {},
   "outputs": [],
   "source": [
    "#metrics.plot_confusion_matrix(gs,X_train,y_train)"
   ]
  },
  {
   "cell_type": "code",
   "execution_count": 39,
   "id": "bfacd291",
   "metadata": {},
   "outputs": [
    {
     "name": "stdout",
     "output_type": "stream",
     "text": [
      "MNB with CV\n",
      "0.7960679970436068 0.7930376940133038\n"
     ]
    }
   ],
   "source": [
    "mn = MultinomialNB()\n",
    "mn.fit(X_train_cv,y_train)\n",
    "print(\"MNB with CV\")\n",
    "print(mn.score(X_train_cv,y_train),mn.score(X_test_cv,y_test))"
   ]
  },
  {
   "cell_type": "code",
   "execution_count": 40,
   "id": "6e21ee3a",
   "metadata": {},
   "outputs": [
    {
     "name": "stdout",
     "output_type": "stream",
     "text": [
      "MNB with TFIDF\n",
      "0.7960926336536093 0.7946341463414635\n"
     ]
    }
   ],
   "source": [
    "mn = MultinomialNB()\n",
    "mn.fit(X_train_tfidf,y_train)\n",
    "print(\"MNB with TFIDF\")\n",
    "print(mn.score(X_train_tfidf,y_train),mn.score(X_test_tfidf,y_test))"
   ]
  },
  {
   "cell_type": "markdown",
   "id": "8f319156",
   "metadata": {},
   "source": [
    "This one does slightly better than the null model and shows much less variance than the others.  But we are still not getting a good accuracy.  "
   ]
  },
  {
   "cell_type": "code",
   "execution_count": null,
   "id": "22842a1b",
   "metadata": {},
   "outputs": [],
   "source": [
    "\n"
   ]
  },
  {
   "cell_type": "code",
   "execution_count": 41,
   "id": "b81d0d14",
   "metadata": {},
   "outputs": [
    {
     "ename": "NameError",
     "evalue": "name 'X_train_tfdf' is not defined",
     "output_type": "error",
     "traceback": [
      "\u001b[0;31m---------------------------------------------------------------------------\u001b[0m",
      "\u001b[0;31mNameError\u001b[0m                                 Traceback (most recent call last)",
      "\u001b[0;32m<ipython-input-41-220814a8d71c>\u001b[0m in \u001b[0;36m<module>\u001b[0;34m\u001b[0m\n\u001b[1;32m      1\u001b[0m \u001b[0;31m# Multinomial Naive Bayes\u001b[0m\u001b[0;34m\u001b[0m\u001b[0;34m\u001b[0m\u001b[0;34m\u001b[0m\u001b[0m\n\u001b[1;32m      2\u001b[0m \u001b[0mmn\u001b[0m \u001b[0;34m=\u001b[0m \u001b[0mMultinomialNB\u001b[0m\u001b[0;34m(\u001b[0m\u001b[0;34m)\u001b[0m\u001b[0;34m\u001b[0m\u001b[0;34m\u001b[0m\u001b[0m\n\u001b[0;32m----> 3\u001b[0;31m \u001b[0mmn\u001b[0m\u001b[0;34m.\u001b[0m\u001b[0mfit\u001b[0m\u001b[0;34m(\u001b[0m\u001b[0mX_train_tfdf\u001b[0m\u001b[0;34m,\u001b[0m\u001b[0my_train\u001b[0m\u001b[0;34m)\u001b[0m\u001b[0;34m\u001b[0m\u001b[0;34m\u001b[0m\u001b[0m\n\u001b[0m\u001b[1;32m      4\u001b[0m \u001b[0mmn\u001b[0m\u001b[0;34m.\u001b[0m\u001b[0mscore\u001b[0m\u001b[0;34m(\u001b[0m\u001b[0mX_train_tfdf\u001b[0m\u001b[0;34m,\u001b[0m\u001b[0my_train\u001b[0m\u001b[0;34m)\u001b[0m\u001b[0;34m,\u001b[0m\u001b[0mmn\u001b[0m\u001b[0;34m.\u001b[0m\u001b[0mscore\u001b[0m\u001b[0;34m(\u001b[0m\u001b[0mX_test_tfdf\u001b[0m\u001b[0;34m,\u001b[0m\u001b[0my_test\u001b[0m\u001b[0;34m)\u001b[0m\u001b[0;34m\u001b[0m\u001b[0;34m\u001b[0m\u001b[0m\n",
      "\u001b[0;31mNameError\u001b[0m: name 'X_train_tfdf' is not defined"
     ]
    }
   ],
   "source": [
    "# Multinomial Naive Bayes\n",
    "mn = MultinomialNB()\n",
    "mn.fit(X_train_tfdf,y_train)\n",
    "mn.score(X_train_tfidf,y_train),mn.score(X_test_tfidf,y_test)"
   ]
  },
  {
   "cell_type": "markdown",
   "id": "2687cfee",
   "metadata": {},
   "source": [
    "TFIDF improves the"
   ]
  },
  {
   "cell_type": "markdown",
   "id": "4b8ff0eb",
   "metadata": {},
   "source": [
    "### Looking at the length of posts"
   ]
  },
  {
   "cell_type": "code",
   "execution_count": null,
   "id": "1bf91ef8",
   "metadata": {},
   "outputs": [],
   "source": [
    "sea['title_length'] = sea['title'].map(lambda x: len(str(x)))\n",
    "sea['text_length'] = sea['selftext'].map(lambda x: len(str(x)))\n",
    "sea['fulltext'] = sea['title'].map(str) + sea['selftext'].map(str)\n",
    "sea['total_length'] = sea['fulltext'].map(lambda x: len(str(x)))\n",
    "\n",
    "sea['title_words'] = sea['title'].map(lambda x: len(str(x).split()))\n",
    "sea['text_words'] = sea['selftext'].map(lambda x: len(str(x).split()))\n",
    "sea['fulltext_words'] = sea['title'].map(lambda x: len(str(x).split()))"
   ]
  },
  {
   "cell_type": "code",
   "execution_count": null,
   "id": "3e09ec4b",
   "metadata": {},
   "outputs": [],
   "source": [
    "\n",
    "wa['title_length'] = wa['title'].map(lambda x: len(str(x)))\n",
    "wa['text_length'] = wa['selftext'].map(lambda x: len(str(x)))\n",
    "wa['fulltext'] = wa['title'].map(str) + wa['selftext'].map(str)\n",
    "wa['total_length'] = wa['fulltext'].map(lambda x: len(str(x)))\n",
    "\n",
    "wa['title_words'] = wa['title'].map(lambda x: len(str(x).split()))\n",
    "wa['text_words'] = wa['selftext'].map(lambda x: len(str(x).split()))\n",
    "wa['fulltext_words'] = wa['title'].map(lambda x: len(str(x).split()))"
   ]
  },
  {
   "cell_type": "code",
   "execution_count": null,
   "id": "19cc6025",
   "metadata": {},
   "outputs": [],
   "source": [
    "df['title_length'] = df['title'].map(lambda x: len(str(x)))\n",
    "df['text_length'] = df['selftext'].map(lambda x: len(str(x)))\n",
    "df['total_length'] = df['fulltext'].map(lambda x: len(str(x)))\n",
    "\n",
    "df['title_words'] = df['title'].map(lambda x: len(str(x).split()))\n",
    "df['text_words'] = df['selftext'].map(lambda x: len(str(x).split()))\n",
    "df['fulltext_words'] = df['title'].map(lambda x: len(str(x).split()))"
   ]
  },
  {
   "cell_type": "code",
   "execution_count": null,
   "id": "48611779",
   "metadata": {},
   "outputs": [],
   "source": [
    "#removing linebreaks, links, etc.  \n",
    "#get rid of links and line breaks\n",
    "\n",
    "df['fulltext'] = df['fulltext'].replace('http\\S+', '', regex=True).replace('www\\S+', '', regex=True).replace('\\n\\n\\S+', '', regex=True).replace('\\n|S+', '', regex = True)"
   ]
  },
  {
   "cell_type": "code",
   "execution_count": null,
   "id": "7a0dc236",
   "metadata": {},
   "outputs": [],
   "source": [
    "plt.figure(figsize=(12,8))\n",
    "sea['title_length'].hist(bins = 50, color = 'b');\n",
    "wa['title_length'].hist(bins = 50, color = 'r');\n",
    "plt.title('Number of characters in title for r/Seattle (blue) and r/SeattleWA (red)', size = 16)\n",
    "plt.xlabel('Characters in title', size = 15);\n",
    "plt.ylabel('Counts', size = 15);"
   ]
  },
  {
   "cell_type": "code",
   "execution_count": null,
   "id": "9fee8d5a",
   "metadata": {},
   "outputs": [],
   "source": [
    "plt.figure(figsize=(12,8))\n",
    "sea['text_length'].hist(bins = 500, color = 'b');\n",
    "wa['text_length'].hist(bins = 500, color = 'r');\n",
    "plt.title('Number of characters in submission for r/Seattle (blue) and r/SeattleWA (red)', size = 16)\n",
    "plt.xlabel('Characters in submission', size = 15);\n",
    "plt.ylabel('Counts', size = 15);\n",
    "\n"
   ]
  },
  {
   "cell_type": "code",
   "execution_count": null,
   "id": "52013dc6",
   "metadata": {},
   "outputs": [],
   "source": [
    "plt.figure(figsize=(12,8))\n",
    "sea['title_words'].hist(bins = 60, color = 'b');\n",
    "wa['title_words'].hist(bins = 60, color = 'r');\n",
    "plt.title('Number of words in title for r/Seattle (blue) and r/SeattleWA (red)', size = 16)\n",
    "plt.xlabel('Words in title', size = 15);\n",
    "plt.ylabel('Counts', size = 15);"
   ]
  },
  {
   "cell_type": "code",
   "execution_count": null,
   "id": "375ee2ea",
   "metadata": {},
   "outputs": [],
   "source": [
    "plt.figure(figsize=(12,8))\n",
    "sea['text_words'].hist(bins = 500, color = 'b');\n",
    "wa['text_words'].hist(bins = 500, color = 'r');\n",
    "plt.title('Number of words in submission for r/Seattle (blue) and r/SeattleWA (red)', size = 16)\n",
    "plt.xlabel('Words in submission', size = 15);\n",
    "plt.ylabel('Counts', size = 15);\n"
   ]
  },
  {
   "cell_type": "markdown",
   "id": "9bda36b2",
   "metadata": {},
   "source": [
    "There are clear differences in the length of titles and submissions between the two groups. We will select some length feature to include in the mdoel.  "
   ]
  },
  {
   "cell_type": "markdown",
   "id": "fb24f781",
   "metadata": {},
   "source": [
    "### Sentiment analyzer"
   ]
  },
  {
   "cell_type": "code",
   "execution_count": null,
   "id": "2129bf5a",
   "metadata": {},
   "outputs": [],
   "source": [
    "df.head()"
   ]
  },
  {
   "cell_type": "code",
   "execution_count": null,
   "id": "5a2b649e",
   "metadata": {},
   "outputs": [],
   "source": [
    "corpus = list(sea['fulltext'])\n",
    "sentiment = []\n",
    "sia = SentimentIntensityAnalyzer()  \n",
    "\n",
    "for post in corpus:\n",
    "    scores = sia.polarity_scores(post)\n",
    "    scores['text'] = post  #adding a key to the dictionary we get from polarity score\n",
    "    sentiment.append(scores)\n",
    "\n",
    "sent_df = pd.DataFrame(sentiment)  #turning the dictionary into a data frame\n",
    "sent_df.head()"
   ]
  },
  {
   "cell_type": "code",
   "execution_count": null,
   "id": "5487f86f",
   "metadata": {},
   "outputs": [],
   "source": [
    "corpus2 = list(wa['fulltext'])\n",
    "sentiment2 = []\n",
    "sia = SentimentIntensityAnalyzer()  \n",
    "\n",
    "for post in corpus2:\n",
    "    scores = sia.polarity_scores(post)\n",
    "    scores['text'] = post  #adding a key to the dictionary we get from polarity score\n",
    "    sentiment2.append(scores)\n",
    "\n",
    "sent_df2 = pd.DataFrame(sentiment2)  #turning the dictionary into a data frame\n",
    "sent_df2.head()\n"
   ]
  },
  {
   "cell_type": "code",
   "execution_count": null,
   "id": "4eeff394",
   "metadata": {},
   "outputs": [],
   "source": [
    "sent_df['r_seattlewa'] = 0\n",
    "sent_df2['r_seattlewa'] = 1\n",
    "\n",
    "full_sent = pd.concat([sent_df,sent_df2])"
   ]
  },
  {
   "cell_type": "code",
   "execution_count": null,
   "id": "cee419ad",
   "metadata": {},
   "outputs": [],
   "source": [
    "full_sent.groupby('r_seattlewa').mean()[['pos', 'neg', 'compound']].plot(kind='barh')\n",
    "plt.title('Average Positive, Negative & Compound Scores for Seattle posts');"
   ]
  },
  {
   "cell_type": "code",
   "execution_count": null,
   "id": "b03d5b86",
   "metadata": {
    "scrolled": true
   },
   "outputs": [],
   "source": [
    "full_sent[full_sent['r_seattlewa']==0]['neg'].hist(bins = 50);\n",
    "full_sent[full_sent['r_seattlewa']==1]['neg'].hist(bins = 50);\n",
    "\n"
   ]
  },
  {
   "cell_type": "code",
   "execution_count": null,
   "id": "e11d353c",
   "metadata": {
    "scrolled": true
   },
   "outputs": [],
   "source": [
    "full_sent[full_sent['r_seattlewa']==0]['pos'].hist(bins = 50);\n",
    "full_sent[full_sent['r_seattlewa']==1]['pos'].hist(bins = 50);"
   ]
  },
  {
   "cell_type": "code",
   "execution_count": null,
   "id": "57b25467",
   "metadata": {
    "scrolled": true
   },
   "outputs": [],
   "source": [
    "full_sent[full_sent['r_seattlewa']==0]['neu'].hist(bins = 50);\n",
    "full_sent[full_sent['r_seattlewa']==1]['neu'].hist(bins = 50);"
   ]
  },
  {
   "cell_type": "code",
   "execution_count": null,
   "id": "68c0a45a",
   "metadata": {},
   "outputs": [],
   "source": [
    "full_sent[full_sent['r_seattlewa']==0]['compound'].hist(bins = 50);\n",
    "full_sent[full_sent['r_seattlewa']==1]['compound'].hist(bins = 50);"
   ]
  },
  {
   "cell_type": "code",
   "execution_count": null,
   "id": "dfd60da2",
   "metadata": {},
   "outputs": [],
   "source": [
    "sent_types = ['neg','neu','pos','compound']\n",
    "colors = ['red','blue','green','grey']\n",
    "# Share a X axis with each column of subplots\n",
    "fig,axs = plt.subplots(4, 2, sharex='all')\n",
    "\n",
    "for i in range(len(sent_types)):\n",
    "    axs[i,0].hist(full_sent[full_sent['r_seattlewa']==1][sent_types[i]], bins = 50, color = 'red')\n",
    "    axs[i,1].hist(full_sent[full_sent['r_seattlewa']==0][sent_types[i]], bins = 50, color = 'blue')\n",
    "    #full_sent[sent_types[i]].hist(bins = 50);\n",
    "    \n"
   ]
  },
  {
   "cell_type": "code",
   "execution_count": null,
   "id": "cb5c7477",
   "metadata": {},
   "outputs": [],
   "source": []
  },
  {
   "cell_type": "markdown",
   "id": "7e14356e",
   "metadata": {},
   "source": [
    "# To Do: \n",
    "- fix the axes on the text_length plot\n",
    "- zero suppress the characters per submission \n",
    "- do words instead of characters\n",
    "- sentiment analyzer\n",
    "- TFDF vectorizer\n",
    "- remove hyperlinks/urls?  Removed other symbols?  \n",
    "\n"
   ]
  },
  {
   "cell_type": "code",
   "execution_count": null,
   "id": "259e84a7",
   "metadata": {},
   "outputs": [],
   "source": []
  }
 ],
 "metadata": {
  "kernelspec": {
   "display_name": "Python 3",
   "language": "python",
   "name": "python3"
  },
  "language_info": {
   "codemirror_mode": {
    "name": "ipython",
    "version": 3
   },
   "file_extension": ".py",
   "mimetype": "text/x-python",
   "name": "python",
   "nbconvert_exporter": "python",
   "pygments_lexer": "ipython3",
   "version": "3.8.8"
  }
 },
 "nbformat": 4,
 "nbformat_minor": 5
}
