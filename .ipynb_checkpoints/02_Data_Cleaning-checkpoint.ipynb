{
 "cells": [
  {
   "cell_type": "markdown",
   "id": "1efb4e9e",
   "metadata": {},
   "source": [
    "# Reddit Classification Project"
   ]
  },
  {
   "cell_type": "markdown",
   "id": "646b177f",
   "metadata": {},
   "source": [
    "## L. Minter\n",
    "### November 2021"
   ]
  },
  {
   "cell_type": "markdown",
   "id": "8db701db",
   "metadata": {},
   "source": [
    "### Notebook 02: Data Cleaning \n",
    "\n",
    "This notebook assumes [data collection notebook](./01_data_collection.ipynb) has been run and data files exist in the `data/<subreddit_name>/` folders.  "
   ]
  },
  {
   "cell_type": "markdown",
   "id": "d45ecc72",
   "metadata": {},
   "source": [
    "#### Problem statement\n",
    "Identify common and disparate themes in the reddit posts to for Portland and Seattle subreddits that could be useful for marketing campaigns across the Pacific Northwest.  "
   ]
  },
  {
   "cell_type": "code",
   "execution_count": 1,
   "id": "769303ce",
   "metadata": {},
   "outputs": [],
   "source": [
    "#imports\n",
    "import pandas as pd\n",
    "import os\n",
    "import seaborn as sns\n",
    "import numpy as np\n",
    "import matplotlib.pyplot as plt\n",
    "\n",
    "from sklearn.feature_extraction.text import CountVectorizer"
   ]
  },
  {
   "cell_type": "code",
   "execution_count": 2,
   "id": "0b17b2af",
   "metadata": {},
   "outputs": [],
   "source": [
    "# Function to gather up files into a dataframe based on subreddit name\n",
    "def combine_files(subreddit):\n",
    "    filenames = os.listdir(f\"./data/{subreddit}\") #get list of files\n",
    "    filenames = [filename for filename in filenames if 'cleaned' not in filename] \n",
    "    dataframes = [pd.DataFrame(pd.read_csv(f'./data/{subreddit}/{file}')) for file in filenames]\n",
    "    \n",
    "    return pd.concat(dataframes)"
   ]
  },
  {
   "cell_type": "markdown",
   "id": "641c204a",
   "metadata": {},
   "source": [
    "Writing function to collect data files into dataframes based on `subreddit_name`.  "
   ]
  },
  {
   "cell_type": "code",
   "execution_count": 3,
   "id": "38cae00b",
   "metadata": {},
   "outputs": [],
   "source": [
    "seattlewa = combine_files('SeattleWA')"
   ]
  },
  {
   "cell_type": "code",
   "execution_count": 4,
   "id": "04a0103e",
   "metadata": {},
   "outputs": [],
   "source": [
    "seattle = combine_files('Seattle')"
   ]
  },
  {
   "cell_type": "code",
   "execution_count": 5,
   "id": "9a5f33c8",
   "metadata": {},
   "outputs": [],
   "source": [
    "pdx = combine_files('Portland')"
   ]
  },
  {
   "cell_type": "code",
   "execution_count": 6,
   "id": "198ca609",
   "metadata": {},
   "outputs": [
    {
     "data": {
      "text/plain": [
       "(59524, 106)"
      ]
     },
     "execution_count": 6,
     "metadata": {},
     "output_type": "execute_result"
    }
   ],
   "source": [
    "seattlewa.shape"
   ]
  },
  {
   "cell_type": "code",
   "execution_count": 7,
   "id": "a72816b9",
   "metadata": {
    "scrolled": true
   },
   "outputs": [
    {
     "data": {
      "text/plain": [
       "(61181, 96)"
      ]
     },
     "execution_count": 7,
     "metadata": {},
     "output_type": "execute_result"
    }
   ],
   "source": [
    "seattle.shape"
   ]
  },
  {
   "cell_type": "code",
   "execution_count": 8,
   "id": "bee4fab2",
   "metadata": {},
   "outputs": [
    {
     "data": {
      "text/plain": [
       "(149899, 108)"
      ]
     },
     "execution_count": 8,
     "metadata": {},
     "output_type": "execute_result"
    }
   ],
   "source": [
    "pdx.shape"
   ]
  },
  {
   "cell_type": "markdown",
   "id": "d7ce6392",
   "metadata": {},
   "source": [
    "We start with approximately 60k entries for each of the two Seattle subreddit and 150k for Portland"
   ]
  },
  {
   "cell_type": "code",
   "execution_count": 9,
   "id": "89a4e82f",
   "metadata": {
    "scrolled": true
   },
   "outputs": [
    {
     "name": "stdout",
     "output_type": "stream",
     "text": [
      "['all_awardings', 'allow_live_comments', 'author', 'author_flair_css_class', 'author_flair_richtext', 'author_flair_template_id', 'author_flair_text', 'author_flair_text_color', 'author_flair_type', 'author_fullname', 'author_is_blocked', 'author_patreon_flair', 'author_premium', 'awarders', 'can_mod_post', 'contest_mode', 'created_utc', 'domain', 'full_link', 'gildings', 'id', 'is_created_from_ads_ui', 'is_crosspostable', 'is_meta', 'is_original_content', 'is_reddit_media_domain', 'is_robot_indexable', 'is_self', 'is_video', 'link_flair_background_color', 'link_flair_richtext', 'link_flair_text_color', 'link_flair_type', 'locked', 'media_only', 'no_follow', 'num_comments', 'num_crossposts', 'over_18', 'parent_whitelist_status', 'permalink', 'pinned', 'pwls', 'retrieved_on', 'score', 'selftext', 'send_replies', 'spoiler', 'stickied', 'subreddit', 'subreddit_id', 'subreddit_subscribers', 'subreddit_type', 'suggested_sort', 'thumbnail', 'title', 'total_awards_received', 'treatment_tags', 'upvote_ratio', 'url', 'whitelist_status', 'wls', 'link_flair_css_class', 'link_flair_template_id', 'link_flair_text', 'removed_by_category', 'url_overridden_by_dest', 'is_gallery', 'thumbnail_height', 'thumbnail_width', 'post_hint', 'preview', 'author_flair_background_color', 'media_metadata', 'gallery_data', 'media', 'media_embed', 'secure_media', 'secure_media_embed', 'poll_data', 'crosspost_parent', 'crosspost_parent_list', 'author_cakeday', 'gilded', 'rte_mode', 'edited', 'brand_safe', 'previous_visits', 'steward_reports', 'banned_by', 'updated_utc', 'author_id', 'removed_by', 'og_description', 'og_title', 'archived', 'author_created_utc', 'can_gild', 'category', 'content_categories', 'distinguished', 'hidden', 'quarantine', 'removal_reason', 'subreddit_name_prefixed', 'top_awarded_type']\n"
     ]
    }
   ],
   "source": [
    "print(list(seattlewa.columns))"
   ]
  },
  {
   "cell_type": "code",
   "execution_count": 10,
   "id": "32a0729d",
   "metadata": {},
   "outputs": [
    {
     "data": {
      "text/plain": [
       "Index(['all_awardings', 'allow_live_comments', 'author',\n",
       "       'author_flair_css_class', 'author_flair_richtext', 'author_flair_text',\n",
       "       'author_flair_type', 'author_fullname', 'author_patreon_flair',\n",
       "       'author_premium', 'awarders', 'can_mod_post', 'contest_mode',\n",
       "       'created_utc', 'domain', 'full_link', 'gildings', 'id',\n",
       "       'is_crosspostable', 'is_meta', 'is_original_content',\n",
       "       'is_reddit_media_domain', 'is_robot_indexable', 'is_self', 'is_video',\n",
       "       'link_flair_background_color', 'link_flair_css_class',\n",
       "       'link_flair_richtext', 'link_flair_template_id', 'link_flair_text',\n",
       "       'link_flair_text_color', 'link_flair_type', 'locked', 'media_only',\n",
       "       'no_follow', 'num_comments', 'num_crossposts', 'over_18',\n",
       "       'parent_whitelist_status', 'permalink', 'pinned', 'post_hint',\n",
       "       'preview', 'pwls', 'retrieved_on', 'score', 'selftext', 'send_replies',\n",
       "       'spoiler', 'stickied', 'subreddit', 'subreddit_id',\n",
       "       'subreddit_subscribers', 'subreddit_type', 'thumbnail',\n",
       "       'thumbnail_height', 'thumbnail_width', 'title', 'total_awards_received',\n",
       "       'treatment_tags', 'upvote_ratio', 'url', 'url_overridden_by_dest',\n",
       "       'whitelist_status', 'wls', 'removed_by_category', 'crosspost_parent',\n",
       "       'crosspost_parent_list', 'author_flair_template_id',\n",
       "       'author_flair_text_color', 'author_cakeday',\n",
       "       'author_flair_background_color', 'media', 'media_embed', 'secure_media',\n",
       "       'secure_media_embed', 'gallery_data', 'is_gallery', 'media_metadata',\n",
       "       'collections', 'author_is_blocked', 'is_created_from_ads_ui',\n",
       "       'updated_utc', 'gilded', 'edited', 'banned_by', 'distinguished',\n",
       "       'steward_reports', 'og_description', 'og_title', 'event_end',\n",
       "       'event_is_live', 'event_start', 'poll_data', 'removed_by',\n",
       "       'Unnamed: 0'],\n",
       "      dtype='object')"
      ]
     },
     "execution_count": 10,
     "metadata": {},
     "output_type": "execute_result"
    }
   ],
   "source": [
    "seattle.columns"
   ]
  },
  {
   "cell_type": "code",
   "execution_count": 11,
   "id": "46d56577",
   "metadata": {},
   "outputs": [],
   "source": [
    "features = ['title','selftext','author','num_comments','score',\n",
    "                       'created_utc','id','upvote_ratio']"
   ]
  },
  {
   "cell_type": "code",
   "execution_count": 12,
   "id": "eae14f88",
   "metadata": {},
   "outputs": [],
   "source": [
    "seattlewa = seattlewa[features]"
   ]
  },
  {
   "cell_type": "code",
   "execution_count": 13,
   "id": "9804331b",
   "metadata": {},
   "outputs": [],
   "source": [
    "seattle = seattle[features]"
   ]
  },
  {
   "cell_type": "code",
   "execution_count": 14,
   "id": "6c181aef",
   "metadata": {},
   "outputs": [],
   "source": [
    "pdx = pdx[features]"
   ]
  },
  {
   "cell_type": "code",
   "execution_count": 15,
   "id": "aeb7fcdd",
   "metadata": {},
   "outputs": [
    {
     "data": {
      "text/plain": [
       "title               0\n",
       "selftext        43077\n",
       "author              0\n",
       "num_comments        0\n",
       "score               0\n",
       "created_utc         0\n",
       "id                  0\n",
       "upvote_ratio    37176\n",
       "dtype: int64"
      ]
     },
     "execution_count": 15,
     "metadata": {},
     "output_type": "execute_result"
    }
   ],
   "source": [
    "seattlewa.isna().sum()"
   ]
  },
  {
   "cell_type": "code",
   "execution_count": 16,
   "id": "3cc4d587",
   "metadata": {
    "scrolled": false
   },
   "outputs": [
    {
     "data": {
      "text/plain": [
       "title               0\n",
       "selftext        35834\n",
       "author              0\n",
       "num_comments        0\n",
       "score               0\n",
       "created_utc         0\n",
       "id                  0\n",
       "upvote_ratio    21648\n",
       "dtype: int64"
      ]
     },
     "execution_count": 16,
     "metadata": {},
     "output_type": "execute_result"
    }
   ],
   "source": [
    "seattle.isna().sum()"
   ]
  },
  {
   "cell_type": "code",
   "execution_count": 17,
   "id": "18d3731a",
   "metadata": {},
   "outputs": [
    {
     "data": {
      "text/plain": [
       "title               4\n",
       "selftext        80551\n",
       "author              1\n",
       "num_comments        3\n",
       "score               3\n",
       "created_utc         2\n",
       "id                  2\n",
       "upvote_ratio    96918\n",
       "dtype: int64"
      ]
     },
     "execution_count": 17,
     "metadata": {},
     "output_type": "execute_result"
    }
   ],
   "source": [
    "pdx.isna().sum()"
   ]
  },
  {
   "cell_type": "markdown",
   "id": "7fd336f3",
   "metadata": {},
   "source": [
    "Lots of null values to look at.  "
   ]
  },
  {
   "cell_type": "code",
   "execution_count": 18,
   "id": "aacbdcff",
   "metadata": {},
   "outputs": [
    {
     "data": {
      "text/html": [
       "<div>\n",
       "<style scoped>\n",
       "    .dataframe tbody tr th:only-of-type {\n",
       "        vertical-align: middle;\n",
       "    }\n",
       "\n",
       "    .dataframe tbody tr th {\n",
       "        vertical-align: top;\n",
       "    }\n",
       "\n",
       "    .dataframe thead th {\n",
       "        text-align: right;\n",
       "    }\n",
       "</style>\n",
       "<table border=\"1\" class=\"dataframe\">\n",
       "  <thead>\n",
       "    <tr style=\"text-align: right;\">\n",
       "      <th></th>\n",
       "      <th>num_comments</th>\n",
       "      <th>score</th>\n",
       "      <th>created_utc</th>\n",
       "      <th>upvote_ratio</th>\n",
       "    </tr>\n",
       "  </thead>\n",
       "  <tbody>\n",
       "    <tr>\n",
       "      <th>count</th>\n",
       "      <td>16447.000000</td>\n",
       "      <td>16447.000000</td>\n",
       "      <td>1.644700e+04</td>\n",
       "      <td>7040.000000</td>\n",
       "    </tr>\n",
       "    <tr>\n",
       "      <th>mean</th>\n",
       "      <td>31.771204</td>\n",
       "      <td>7.597799</td>\n",
       "      <td>1.575033e+09</td>\n",
       "      <td>0.938420</td>\n",
       "    </tr>\n",
       "    <tr>\n",
       "      <th>std</th>\n",
       "      <td>70.093163</td>\n",
       "      <td>53.131296</td>\n",
       "      <td>3.792769e+07</td>\n",
       "      <td>0.170595</td>\n",
       "    </tr>\n",
       "    <tr>\n",
       "      <th>min</th>\n",
       "      <td>0.000000</td>\n",
       "      <td>0.000000</td>\n",
       "      <td>1.508439e+09</td>\n",
       "      <td>0.070000</td>\n",
       "    </tr>\n",
       "    <tr>\n",
       "      <th>25%</th>\n",
       "      <td>3.000000</td>\n",
       "      <td>1.000000</td>\n",
       "      <td>1.540513e+09</td>\n",
       "      <td>1.000000</td>\n",
       "    </tr>\n",
       "    <tr>\n",
       "      <th>50%</th>\n",
       "      <td>11.000000</td>\n",
       "      <td>1.000000</td>\n",
       "      <td>1.580414e+09</td>\n",
       "      <td>1.000000</td>\n",
       "    </tr>\n",
       "    <tr>\n",
       "      <th>75%</th>\n",
       "      <td>28.000000</td>\n",
       "      <td>1.000000</td>\n",
       "      <td>1.606980e+09</td>\n",
       "      <td>1.000000</td>\n",
       "    </tr>\n",
       "    <tr>\n",
       "      <th>max</th>\n",
       "      <td>1482.000000</td>\n",
       "      <td>2478.000000</td>\n",
       "      <td>1.635276e+09</td>\n",
       "      <td>1.000000</td>\n",
       "    </tr>\n",
       "  </tbody>\n",
       "</table>\n",
       "</div>"
      ],
      "text/plain": [
       "       num_comments         score   created_utc  upvote_ratio\n",
       "count  16447.000000  16447.000000  1.644700e+04   7040.000000\n",
       "mean      31.771204      7.597799  1.575033e+09      0.938420\n",
       "std       70.093163     53.131296  3.792769e+07      0.170595\n",
       "min        0.000000      0.000000  1.508439e+09      0.070000\n",
       "25%        3.000000      1.000000  1.540513e+09      1.000000\n",
       "50%       11.000000      1.000000  1.580414e+09      1.000000\n",
       "75%       28.000000      1.000000  1.606980e+09      1.000000\n",
       "max     1482.000000   2478.000000  1.635276e+09      1.000000"
      ]
     },
     "execution_count": 18,
     "metadata": {},
     "output_type": "execute_result"
    }
   ],
   "source": [
    "seattlewa[seattlewa['selftext'].notnull()].describe()"
   ]
  },
  {
   "cell_type": "code",
   "execution_count": 19,
   "id": "a626d8a6",
   "metadata": {},
   "outputs": [
    {
     "data": {
      "text/html": [
       "<div>\n",
       "<style scoped>\n",
       "    .dataframe tbody tr th:only-of-type {\n",
       "        vertical-align: middle;\n",
       "    }\n",
       "\n",
       "    .dataframe tbody tr th {\n",
       "        vertical-align: top;\n",
       "    }\n",
       "\n",
       "    .dataframe thead th {\n",
       "        text-align: right;\n",
       "    }\n",
       "</style>\n",
       "<table border=\"1\" class=\"dataframe\">\n",
       "  <thead>\n",
       "    <tr style=\"text-align: right;\">\n",
       "      <th></th>\n",
       "      <th>num_comments</th>\n",
       "      <th>score</th>\n",
       "      <th>created_utc</th>\n",
       "      <th>upvote_ratio</th>\n",
       "    </tr>\n",
       "  </thead>\n",
       "  <tbody>\n",
       "    <tr>\n",
       "      <th>count</th>\n",
       "      <td>25347.000000</td>\n",
       "      <td>25347.000000</td>\n",
       "      <td>2.534700e+04</td>\n",
       "      <td>16100.000000</td>\n",
       "    </tr>\n",
       "    <tr>\n",
       "      <th>mean</th>\n",
       "      <td>17.607725</td>\n",
       "      <td>3.265554</td>\n",
       "      <td>1.595690e+09</td>\n",
       "      <td>0.930622</td>\n",
       "    </tr>\n",
       "    <tr>\n",
       "      <th>std</th>\n",
       "      <td>46.984633</td>\n",
       "      <td>36.617136</td>\n",
       "      <td>2.784150e+07</td>\n",
       "      <td>0.186675</td>\n",
       "    </tr>\n",
       "    <tr>\n",
       "      <th>min</th>\n",
       "      <td>0.000000</td>\n",
       "      <td>0.000000</td>\n",
       "      <td>1.536136e+09</td>\n",
       "      <td>0.050000</td>\n",
       "    </tr>\n",
       "    <tr>\n",
       "      <th>25%</th>\n",
       "      <td>2.000000</td>\n",
       "      <td>1.000000</td>\n",
       "      <td>1.574734e+09</td>\n",
       "      <td>1.000000</td>\n",
       "    </tr>\n",
       "    <tr>\n",
       "      <th>50%</th>\n",
       "      <td>8.000000</td>\n",
       "      <td>1.000000</td>\n",
       "      <td>1.597345e+09</td>\n",
       "      <td>1.000000</td>\n",
       "    </tr>\n",
       "    <tr>\n",
       "      <th>75%</th>\n",
       "      <td>17.000000</td>\n",
       "      <td>1.000000</td>\n",
       "      <td>1.621401e+09</td>\n",
       "      <td>1.000000</td>\n",
       "    </tr>\n",
       "    <tr>\n",
       "      <th>max</th>\n",
       "      <td>1481.000000</td>\n",
       "      <td>2855.000000</td>\n",
       "      <td>1.635438e+09</td>\n",
       "      <td>1.000000</td>\n",
       "    </tr>\n",
       "  </tbody>\n",
       "</table>\n",
       "</div>"
      ],
      "text/plain": [
       "       num_comments         score   created_utc  upvote_ratio\n",
       "count  25347.000000  25347.000000  2.534700e+04  16100.000000\n",
       "mean      17.607725      3.265554  1.595690e+09      0.930622\n",
       "std       46.984633     36.617136  2.784150e+07      0.186675\n",
       "min        0.000000      0.000000  1.536136e+09      0.050000\n",
       "25%        2.000000      1.000000  1.574734e+09      1.000000\n",
       "50%        8.000000      1.000000  1.597345e+09      1.000000\n",
       "75%       17.000000      1.000000  1.621401e+09      1.000000\n",
       "max     1481.000000   2855.000000  1.635438e+09      1.000000"
      ]
     },
     "execution_count": 19,
     "metadata": {},
     "output_type": "execute_result"
    }
   ],
   "source": [
    "seattle[seattle['selftext'].notnull()].describe()"
   ]
  },
  {
   "cell_type": "code",
   "execution_count": 20,
   "id": "d52b7b29",
   "metadata": {},
   "outputs": [
    {
     "data": {
      "text/html": [
       "<div>\n",
       "<style scoped>\n",
       "    .dataframe tbody tr th:only-of-type {\n",
       "        vertical-align: middle;\n",
       "    }\n",
       "\n",
       "    .dataframe tbody tr th {\n",
       "        vertical-align: top;\n",
       "    }\n",
       "\n",
       "    .dataframe thead th {\n",
       "        text-align: right;\n",
       "    }\n",
       "</style>\n",
       "<table border=\"1\" class=\"dataframe\">\n",
       "  <thead>\n",
       "    <tr style=\"text-align: right;\">\n",
       "      <th></th>\n",
       "      <th>num_comments</th>\n",
       "      <th>score</th>\n",
       "      <th>upvote_ratio</th>\n",
       "    </tr>\n",
       "  </thead>\n",
       "  <tbody>\n",
       "    <tr>\n",
       "      <th>count</th>\n",
       "      <td>69348.000000</td>\n",
       "      <td>69348.000000</td>\n",
       "      <td>23477.000000</td>\n",
       "    </tr>\n",
       "    <tr>\n",
       "      <th>mean</th>\n",
       "      <td>21.507340</td>\n",
       "      <td>9.161922</td>\n",
       "      <td>0.928565</td>\n",
       "    </tr>\n",
       "    <tr>\n",
       "      <th>std</th>\n",
       "      <td>58.420872</td>\n",
       "      <td>47.090829</td>\n",
       "      <td>0.181303</td>\n",
       "    </tr>\n",
       "    <tr>\n",
       "      <th>min</th>\n",
       "      <td>0.000000</td>\n",
       "      <td>0.000000</td>\n",
       "      <td>0.050000</td>\n",
       "    </tr>\n",
       "    <tr>\n",
       "      <th>25%</th>\n",
       "      <td>3.000000</td>\n",
       "      <td>1.000000</td>\n",
       "      <td>1.000000</td>\n",
       "    </tr>\n",
       "    <tr>\n",
       "      <th>50%</th>\n",
       "      <td>9.000000</td>\n",
       "      <td>1.000000</td>\n",
       "      <td>1.000000</td>\n",
       "    </tr>\n",
       "    <tr>\n",
       "      <th>75%</th>\n",
       "      <td>22.000000</td>\n",
       "      <td>3.000000</td>\n",
       "      <td>1.000000</td>\n",
       "    </tr>\n",
       "    <tr>\n",
       "      <th>max</th>\n",
       "      <td>5564.000000</td>\n",
       "      <td>2600.000000</td>\n",
       "      <td>1.000000</td>\n",
       "    </tr>\n",
       "  </tbody>\n",
       "</table>\n",
       "</div>"
      ],
      "text/plain": [
       "       num_comments         score  upvote_ratio\n",
       "count  69348.000000  69348.000000  23477.000000\n",
       "mean      21.507340      9.161922      0.928565\n",
       "std       58.420872     47.090829      0.181303\n",
       "min        0.000000      0.000000      0.050000\n",
       "25%        3.000000      1.000000      1.000000\n",
       "50%        9.000000      1.000000      1.000000\n",
       "75%       22.000000      3.000000      1.000000\n",
       "max     5564.000000   2600.000000      1.000000"
      ]
     },
     "execution_count": 20,
     "metadata": {},
     "output_type": "execute_result"
    }
   ],
   "source": [
    "pdx[pdx['selftext'].notnull()].describe()"
   ]
  },
  {
   "cell_type": "markdown",
   "id": "3b00287f",
   "metadata": {},
   "source": [
    "We have a lot of entries with nulls in the `selftext` field but these may be related to picture/media content where only a `title` is required.  We need to decide if we are going to combine `title` and `selftext`, use them separately, or only use one of them.  \n",
    "\n",
    "For our purposes we can use combine them before vectorizing and also keep a flag about whether the comment field was empty.  \n"
   ]
  },
  {
   "cell_type": "code",
   "execution_count": 21,
   "id": "52523b99",
   "metadata": {},
   "outputs": [
    {
     "data": {
      "text/html": [
       "<div>\n",
       "<style scoped>\n",
       "    .dataframe tbody tr th:only-of-type {\n",
       "        vertical-align: middle;\n",
       "    }\n",
       "\n",
       "    .dataframe tbody tr th {\n",
       "        vertical-align: top;\n",
       "    }\n",
       "\n",
       "    .dataframe thead th {\n",
       "        text-align: right;\n",
       "    }\n",
       "</style>\n",
       "<table border=\"1\" class=\"dataframe\">\n",
       "  <thead>\n",
       "    <tr style=\"text-align: right;\">\n",
       "      <th></th>\n",
       "      <th>title</th>\n",
       "      <th>selftext</th>\n",
       "      <th>author</th>\n",
       "      <th>num_comments</th>\n",
       "      <th>score</th>\n",
       "      <th>created_utc</th>\n",
       "      <th>id</th>\n",
       "      <th>upvote_ratio</th>\n",
       "    </tr>\n",
       "  </thead>\n",
       "  <tbody>\n",
       "    <tr>\n",
       "      <th>28</th>\n",
       "      <td>Living in Seattle</td>\n",
       "      <td>[removed]</td>\n",
       "      <td>dontlookitsbrooke</td>\n",
       "      <td>2</td>\n",
       "      <td>1</td>\n",
       "      <td>1609814928</td>\n",
       "      <td>kqoqgm</td>\n",
       "      <td>1.0</td>\n",
       "    </tr>\n",
       "    <tr>\n",
       "      <th>29</th>\n",
       "      <td>Zoom Rally - Reject the Recall against Kshama ...</td>\n",
       "      <td>[removed]</td>\n",
       "      <td>mnd-dsgn</td>\n",
       "      <td>2</td>\n",
       "      <td>1</td>\n",
       "      <td>1609813714</td>\n",
       "      <td>kqod4d</td>\n",
       "      <td>1.0</td>\n",
       "    </tr>\n",
       "    <tr>\n",
       "      <th>37</th>\n",
       "      <td>Neon Boots is closing</td>\n",
       "      <td>[removed]</td>\n",
       "      <td>SeatownBreeze</td>\n",
       "      <td>2</td>\n",
       "      <td>1</td>\n",
       "      <td>1609804879</td>\n",
       "      <td>kqll6l</td>\n",
       "      <td>1.0</td>\n",
       "    </tr>\n",
       "    <tr>\n",
       "      <th>43</th>\n",
       "      <td>Native Returning Home: What changes from the p...</td>\n",
       "      <td>[removed]</td>\n",
       "      <td>shouldisea</td>\n",
       "      <td>2</td>\n",
       "      <td>1</td>\n",
       "      <td>1609800782</td>\n",
       "      <td>kqk702</td>\n",
       "      <td>1.0</td>\n",
       "    </tr>\n",
       "    <tr>\n",
       "      <th>7</th>\n",
       "      <td>30(F4M) It's seem you're bored i which to be y...</td>\n",
       "      <td>[removed]</td>\n",
       "      <td>ericadonald</td>\n",
       "      <td>0</td>\n",
       "      <td>1</td>\n",
       "      <td>1619282756</td>\n",
       "      <td>mxnqdt</td>\n",
       "      <td>1.0</td>\n",
       "    </tr>\n",
       "  </tbody>\n",
       "</table>\n",
       "</div>"
      ],
      "text/plain": [
       "                                                title   selftext  \\\n",
       "28                                  Living in Seattle  [removed]   \n",
       "29  Zoom Rally - Reject the Recall against Kshama ...  [removed]   \n",
       "37                              Neon Boots is closing  [removed]   \n",
       "43  Native Returning Home: What changes from the p...  [removed]   \n",
       "7   30(F4M) It's seem you're bored i which to be y...  [removed]   \n",
       "\n",
       "               author  num_comments  score  created_utc      id  upvote_ratio  \n",
       "28  dontlookitsbrooke             2      1   1609814928  kqoqgm           1.0  \n",
       "29           mnd-dsgn             2      1   1609813714  kqod4d           1.0  \n",
       "37      SeatownBreeze             2      1   1609804879  kqll6l           1.0  \n",
       "43         shouldisea             2      1   1609800782  kqk702           1.0  \n",
       "7         ericadonald             0      1   1619282756  mxnqdt           1.0  "
      ]
     },
     "execution_count": 21,
     "metadata": {},
     "output_type": "execute_result"
    }
   ],
   "source": [
    "seattle[seattle['selftext'].str.contains('removed')==True].head()"
   ]
  },
  {
   "cell_type": "code",
   "execution_count": 22,
   "id": "b29b2163",
   "metadata": {
    "scrolled": true
   },
   "outputs": [
    {
     "data": {
      "text/html": [
       "<div>\n",
       "<style scoped>\n",
       "    .dataframe tbody tr th:only-of-type {\n",
       "        vertical-align: middle;\n",
       "    }\n",
       "\n",
       "    .dataframe tbody tr th {\n",
       "        vertical-align: top;\n",
       "    }\n",
       "\n",
       "    .dataframe thead th {\n",
       "        text-align: right;\n",
       "    }\n",
       "</style>\n",
       "<table border=\"1\" class=\"dataframe\">\n",
       "  <thead>\n",
       "    <tr style=\"text-align: right;\">\n",
       "      <th></th>\n",
       "      <th>title</th>\n",
       "      <th>selftext</th>\n",
       "      <th>author</th>\n",
       "      <th>num_comments</th>\n",
       "      <th>score</th>\n",
       "      <th>created_utc</th>\n",
       "      <th>id</th>\n",
       "      <th>upvote_ratio</th>\n",
       "    </tr>\n",
       "  </thead>\n",
       "  <tbody>\n",
       "    <tr>\n",
       "      <th>28</th>\n",
       "      <td>Living in Seattle</td>\n",
       "      <td>[removed]</td>\n",
       "      <td>dontlookitsbrooke</td>\n",
       "      <td>2</td>\n",
       "      <td>1</td>\n",
       "      <td>1609814928</td>\n",
       "      <td>kqoqgm</td>\n",
       "      <td>1.00</td>\n",
       "    </tr>\n",
       "    <tr>\n",
       "      <th>29</th>\n",
       "      <td>Zoom Rally - Reject the Recall against Kshama ...</td>\n",
       "      <td>[removed]</td>\n",
       "      <td>mnd-dsgn</td>\n",
       "      <td>2</td>\n",
       "      <td>1</td>\n",
       "      <td>1609813714</td>\n",
       "      <td>kqod4d</td>\n",
       "      <td>1.00</td>\n",
       "    </tr>\n",
       "    <tr>\n",
       "      <th>37</th>\n",
       "      <td>Neon Boots is closing</td>\n",
       "      <td>[removed]</td>\n",
       "      <td>SeatownBreeze</td>\n",
       "      <td>2</td>\n",
       "      <td>1</td>\n",
       "      <td>1609804879</td>\n",
       "      <td>kqll6l</td>\n",
       "      <td>1.00</td>\n",
       "    </tr>\n",
       "    <tr>\n",
       "      <th>43</th>\n",
       "      <td>Native Returning Home: What changes from the p...</td>\n",
       "      <td>[removed]</td>\n",
       "      <td>shouldisea</td>\n",
       "      <td>2</td>\n",
       "      <td>1</td>\n",
       "      <td>1609800782</td>\n",
       "      <td>kqk702</td>\n",
       "      <td>1.00</td>\n",
       "    </tr>\n",
       "    <tr>\n",
       "      <th>7</th>\n",
       "      <td>30(F4M) It's seem you're bored i which to be y...</td>\n",
       "      <td>[removed]</td>\n",
       "      <td>ericadonald</td>\n",
       "      <td>0</td>\n",
       "      <td>1</td>\n",
       "      <td>1619282756</td>\n",
       "      <td>mxnqdt</td>\n",
       "      <td>1.00</td>\n",
       "    </tr>\n",
       "    <tr>\n",
       "      <th>...</th>\n",
       "      <td>...</td>\n",
       "      <td>...</td>\n",
       "      <td>...</td>\n",
       "      <td>...</td>\n",
       "      <td>...</td>\n",
       "      <td>...</td>\n",
       "      <td>...</td>\n",
       "      <td>...</td>\n",
       "    </tr>\n",
       "    <tr>\n",
       "      <th>6</th>\n",
       "      <td>Last week in Seattle... what should I do?</td>\n",
       "      <td>[removed]</td>\n",
       "      <td>Snoo-43500</td>\n",
       "      <td>2</td>\n",
       "      <td>1</td>\n",
       "      <td>1593210113</td>\n",
       "      <td>hghg9s</td>\n",
       "      <td>1.00</td>\n",
       "    </tr>\n",
       "    <tr>\n",
       "      <th>9</th>\n",
       "      <td>Things to do in Seattle during COVID-19</td>\n",
       "      <td>[removed]</td>\n",
       "      <td>Snoo-43500</td>\n",
       "      <td>2</td>\n",
       "      <td>1</td>\n",
       "      <td>1593205051</td>\n",
       "      <td>hgfw4t</td>\n",
       "      <td>1.00</td>\n",
       "    </tr>\n",
       "    <tr>\n",
       "      <th>12</th>\n",
       "      <td>Space Age Apartments</td>\n",
       "      <td>[removed]</td>\n",
       "      <td>mewashjetsam</td>\n",
       "      <td>2</td>\n",
       "      <td>1</td>\n",
       "      <td>1593204175</td>\n",
       "      <td>hgfm9y</td>\n",
       "      <td>1.00</td>\n",
       "    </tr>\n",
       "    <tr>\n",
       "      <th>13</th>\n",
       "      <td>B. Fuller's Mortar and Pestle in Fremont calls...</td>\n",
       "      <td>[removed]</td>\n",
       "      <td>GigiThunders</td>\n",
       "      <td>4</td>\n",
       "      <td>1</td>\n",
       "      <td>1593203946</td>\n",
       "      <td>hgfjr9</td>\n",
       "      <td>0.67</td>\n",
       "    </tr>\n",
       "    <tr>\n",
       "      <th>25</th>\n",
       "      <td>Rally to Support Local Law Enforcement 6/27 2-...</td>\n",
       "      <td>[removed]</td>\n",
       "      <td>Qryx</td>\n",
       "      <td>6</td>\n",
       "      <td>0</td>\n",
       "      <td>1593194282</td>\n",
       "      <td>hgchrv</td>\n",
       "      <td>0.20</td>\n",
       "    </tr>\n",
       "  </tbody>\n",
       "</table>\n",
       "<p>2707 rows × 8 columns</p>\n",
       "</div>"
      ],
      "text/plain": [
       "                                                title   selftext  \\\n",
       "28                                  Living in Seattle  [removed]   \n",
       "29  Zoom Rally - Reject the Recall against Kshama ...  [removed]   \n",
       "37                              Neon Boots is closing  [removed]   \n",
       "43  Native Returning Home: What changes from the p...  [removed]   \n",
       "7   30(F4M) It's seem you're bored i which to be y...  [removed]   \n",
       "..                                                ...        ...   \n",
       "6           Last week in Seattle... what should I do?  [removed]   \n",
       "9             Things to do in Seattle during COVID-19  [removed]   \n",
       "12                               Space Age Apartments  [removed]   \n",
       "13  B. Fuller's Mortar and Pestle in Fremont calls...  [removed]   \n",
       "25  Rally to Support Local Law Enforcement 6/27 2-...  [removed]   \n",
       "\n",
       "               author  num_comments  score  created_utc      id  upvote_ratio  \n",
       "28  dontlookitsbrooke             2      1   1609814928  kqoqgm          1.00  \n",
       "29           mnd-dsgn             2      1   1609813714  kqod4d          1.00  \n",
       "37      SeatownBreeze             2      1   1609804879  kqll6l          1.00  \n",
       "43         shouldisea             2      1   1609800782  kqk702          1.00  \n",
       "7         ericadonald             0      1   1619282756  mxnqdt          1.00  \n",
       "..                ...           ...    ...          ...     ...           ...  \n",
       "6          Snoo-43500             2      1   1593210113  hghg9s          1.00  \n",
       "9          Snoo-43500             2      1   1593205051  hgfw4t          1.00  \n",
       "12       mewashjetsam             2      1   1593204175  hgfm9y          1.00  \n",
       "13       GigiThunders             4      1   1593203946  hgfjr9          0.67  \n",
       "25               Qryx             6      0   1593194282  hgchrv          0.20  \n",
       "\n",
       "[2707 rows x 8 columns]"
      ]
     },
     "execution_count": 22,
     "metadata": {},
     "output_type": "execute_result"
    }
   ],
   "source": [
    "seattle[seattle['selftext']=='[removed]']"
   ]
  },
  {
   "cell_type": "code",
   "execution_count": 23,
   "id": "14500f10",
   "metadata": {},
   "outputs": [
    {
     "data": {
      "text/html": [
       "<div>\n",
       "<style scoped>\n",
       "    .dataframe tbody tr th:only-of-type {\n",
       "        vertical-align: middle;\n",
       "    }\n",
       "\n",
       "    .dataframe tbody tr th {\n",
       "        vertical-align: top;\n",
       "    }\n",
       "\n",
       "    .dataframe thead th {\n",
       "        text-align: right;\n",
       "    }\n",
       "</style>\n",
       "<table border=\"1\" class=\"dataframe\">\n",
       "  <thead>\n",
       "    <tr style=\"text-align: right;\">\n",
       "      <th></th>\n",
       "      <th>title</th>\n",
       "      <th>selftext</th>\n",
       "      <th>author</th>\n",
       "      <th>num_comments</th>\n",
       "      <th>score</th>\n",
       "      <th>created_utc</th>\n",
       "      <th>id</th>\n",
       "      <th>upvote_ratio</th>\n",
       "    </tr>\n",
       "  </thead>\n",
       "  <tbody>\n",
       "    <tr>\n",
       "      <th>14</th>\n",
       "      <td>Homelessness authority has a $27M vision for d...</td>\n",
       "      <td>[removed]</td>\n",
       "      <td>maskirovnik</td>\n",
       "      <td>70</td>\n",
       "      <td>1</td>\n",
       "      <td>1635262716</td>\n",
       "      <td>qg94ns</td>\n",
       "      <td>1.0</td>\n",
       "    </tr>\n",
       "    <tr>\n",
       "      <th>26</th>\n",
       "      <td>Semi-Urgent Request: Video of Encampment Fires...</td>\n",
       "      <td>[removed]</td>\n",
       "      <td>everythingisnotawsom</td>\n",
       "      <td>1</td>\n",
       "      <td>1</td>\n",
       "      <td>1635218656</td>\n",
       "      <td>qfxjmu</td>\n",
       "      <td>1.0</td>\n",
       "    </tr>\n",
       "    <tr>\n",
       "      <th>27</th>\n",
       "      <td>Need a dental cleaning?</td>\n",
       "      <td>[removed]</td>\n",
       "      <td>Lena_Y</td>\n",
       "      <td>3</td>\n",
       "      <td>1</td>\n",
       "      <td>1635216997</td>\n",
       "      <td>qfx1yd</td>\n",
       "      <td>1.0</td>\n",
       "    </tr>\n",
       "    <tr>\n",
       "      <th>37</th>\n",
       "      <td>Transfer to UW</td>\n",
       "      <td>[removed]</td>\n",
       "      <td>Raven_idk</td>\n",
       "      <td>0</td>\n",
       "      <td>1</td>\n",
       "      <td>1635205172</td>\n",
       "      <td>qfti4l</td>\n",
       "      <td>1.0</td>\n",
       "    </tr>\n",
       "    <tr>\n",
       "      <th>89</th>\n",
       "      <td>Long term health care (WA) - unemployed reject...</td>\n",
       "      <td>[removed]</td>\n",
       "      <td>Odd_City_2111</td>\n",
       "      <td>0</td>\n",
       "      <td>1</td>\n",
       "      <td>1635120793</td>\n",
       "      <td>qf4p8n</td>\n",
       "      <td>1.0</td>\n",
       "    </tr>\n",
       "    <tr>\n",
       "      <th>...</th>\n",
       "      <td>...</td>\n",
       "      <td>...</td>\n",
       "      <td>...</td>\n",
       "      <td>...</td>\n",
       "      <td>...</td>\n",
       "      <td>...</td>\n",
       "      <td>...</td>\n",
       "      <td>...</td>\n",
       "    </tr>\n",
       "    <tr>\n",
       "      <th>60</th>\n",
       "      <td>Radio host mocks Trump by claiming Seattle is ...</td>\n",
       "      <td>[removed]</td>\n",
       "      <td>pprima</td>\n",
       "      <td>0</td>\n",
       "      <td>1</td>\n",
       "      <td>1595817308</td>\n",
       "      <td>hyjzvf</td>\n",
       "      <td>1.0</td>\n",
       "    </tr>\n",
       "    <tr>\n",
       "      <th>66</th>\n",
       "      <td>but let's look at the big picture first</td>\n",
       "      <td>[removed]</td>\n",
       "      <td>sleepygardener</td>\n",
       "      <td>0</td>\n",
       "      <td>1</td>\n",
       "      <td>1595812436</td>\n",
       "      <td>hyisn0</td>\n",
       "      <td>1.0</td>\n",
       "    </tr>\n",
       "    <tr>\n",
       "      <th>68</th>\n",
       "      <td>Just moved without any decorations. Any tips o...</td>\n",
       "      <td>[removed]</td>\n",
       "      <td>SpiderTechnitian</td>\n",
       "      <td>9</td>\n",
       "      <td>1</td>\n",
       "      <td>1595806557</td>\n",
       "      <td>hyhady</td>\n",
       "      <td>1.0</td>\n",
       "    </tr>\n",
       "    <tr>\n",
       "      <th>75</th>\n",
       "      <td>With the protests, is 99 safe for driving thro...</td>\n",
       "      <td>[removed]</td>\n",
       "      <td>feelthebenn</td>\n",
       "      <td>13</td>\n",
       "      <td>1</td>\n",
       "      <td>1595800142</td>\n",
       "      <td>hyfk1f</td>\n",
       "      <td>1.0</td>\n",
       "    </tr>\n",
       "    <tr>\n",
       "      <th>80</th>\n",
       "      <td>In the mood to clean</td>\n",
       "      <td>[removed]</td>\n",
       "      <td>okonkwos_gun</td>\n",
       "      <td>0</td>\n",
       "      <td>1</td>\n",
       "      <td>1595794609</td>\n",
       "      <td>hydx5l</td>\n",
       "      <td>1.0</td>\n",
       "    </tr>\n",
       "  </tbody>\n",
       "</table>\n",
       "<p>1641 rows × 8 columns</p>\n",
       "</div>"
      ],
      "text/plain": [
       "                                                title   selftext  \\\n",
       "14  Homelessness authority has a $27M vision for d...  [removed]   \n",
       "26  Semi-Urgent Request: Video of Encampment Fires...  [removed]   \n",
       "27                            Need a dental cleaning?  [removed]   \n",
       "37                                     Transfer to UW  [removed]   \n",
       "89  Long term health care (WA) - unemployed reject...  [removed]   \n",
       "..                                                ...        ...   \n",
       "60  Radio host mocks Trump by claiming Seattle is ...  [removed]   \n",
       "66            but let's look at the big picture first  [removed]   \n",
       "68  Just moved without any decorations. Any tips o...  [removed]   \n",
       "75  With the protests, is 99 safe for driving thro...  [removed]   \n",
       "80                               In the mood to clean  [removed]   \n",
       "\n",
       "                  author  num_comments  score  created_utc      id  \\\n",
       "14           maskirovnik            70      1   1635262716  qg94ns   \n",
       "26  everythingisnotawsom             1      1   1635218656  qfxjmu   \n",
       "27                Lena_Y             3      1   1635216997  qfx1yd   \n",
       "37             Raven_idk             0      1   1635205172  qfti4l   \n",
       "89         Odd_City_2111             0      1   1635120793  qf4p8n   \n",
       "..                   ...           ...    ...          ...     ...   \n",
       "60                pprima             0      1   1595817308  hyjzvf   \n",
       "66        sleepygardener             0      1   1595812436  hyisn0   \n",
       "68      SpiderTechnitian             9      1   1595806557  hyhady   \n",
       "75           feelthebenn            13      1   1595800142  hyfk1f   \n",
       "80          okonkwos_gun             0      1   1595794609  hydx5l   \n",
       "\n",
       "    upvote_ratio  \n",
       "14           1.0  \n",
       "26           1.0  \n",
       "27           1.0  \n",
       "37           1.0  \n",
       "89           1.0  \n",
       "..           ...  \n",
       "60           1.0  \n",
       "66           1.0  \n",
       "68           1.0  \n",
       "75           1.0  \n",
       "80           1.0  \n",
       "\n",
       "[1641 rows x 8 columns]"
      ]
     },
     "execution_count": 23,
     "metadata": {},
     "output_type": "execute_result"
    }
   ],
   "source": [
    "seattlewa[seattlewa['selftext']=='[removed]']"
   ]
  },
  {
   "cell_type": "code",
   "execution_count": 24,
   "id": "8788977a",
   "metadata": {},
   "outputs": [
    {
     "data": {
      "text/html": [
       "<div>\n",
       "<style scoped>\n",
       "    .dataframe tbody tr th:only-of-type {\n",
       "        vertical-align: middle;\n",
       "    }\n",
       "\n",
       "    .dataframe tbody tr th {\n",
       "        vertical-align: top;\n",
       "    }\n",
       "\n",
       "    .dataframe thead th {\n",
       "        text-align: right;\n",
       "    }\n",
       "</style>\n",
       "<table border=\"1\" class=\"dataframe\">\n",
       "  <thead>\n",
       "    <tr style=\"text-align: right;\">\n",
       "      <th></th>\n",
       "      <th>title</th>\n",
       "      <th>selftext</th>\n",
       "      <th>author</th>\n",
       "      <th>num_comments</th>\n",
       "      <th>score</th>\n",
       "      <th>created_utc</th>\n",
       "      <th>id</th>\n",
       "      <th>upvote_ratio</th>\n",
       "    </tr>\n",
       "  </thead>\n",
       "  <tbody>\n",
       "    <tr>\n",
       "      <th>12</th>\n",
       "      <td>snowcat</td>\n",
       "      <td>[deleted]</td>\n",
       "      <td>[deleted]</td>\n",
       "      <td>0</td>\n",
       "      <td>1</td>\n",
       "      <td>1613280158</td>\n",
       "      <td>lji5a7</td>\n",
       "      <td>1.00</td>\n",
       "    </tr>\n",
       "    <tr>\n",
       "      <th>29</th>\n",
       "      <td>A foggy Bainbridge during sunset</td>\n",
       "      <td>[deleted]</td>\n",
       "      <td>[deleted]</td>\n",
       "      <td>0</td>\n",
       "      <td>8</td>\n",
       "      <td>1623771238</td>\n",
       "      <td>o0h55q</td>\n",
       "      <td>0.79</td>\n",
       "    </tr>\n",
       "    <tr>\n",
       "      <th>35</th>\n",
       "      <td>What’s with the honking?</td>\n",
       "      <td>[deleted]</td>\n",
       "      <td>[deleted]</td>\n",
       "      <td>4</td>\n",
       "      <td>0</td>\n",
       "      <td>1623768596</td>\n",
       "      <td>o0g4zd</td>\n",
       "      <td>0.50</td>\n",
       "    </tr>\n",
       "    <tr>\n",
       "      <th>46</th>\n",
       "      <td>Nobody wants to look at CHAZ/CHOP for what it ...</td>\n",
       "      <td>[deleted]</td>\n",
       "      <td>[deleted]</td>\n",
       "      <td>5</td>\n",
       "      <td>0</td>\n",
       "      <td>1623763641</td>\n",
       "      <td>o0ecbo</td>\n",
       "      <td>0.40</td>\n",
       "    </tr>\n",
       "    <tr>\n",
       "      <th>49</th>\n",
       "      <td>Dick’s Pay Discussion Xpost</td>\n",
       "      <td>[deleted]</td>\n",
       "      <td>[deleted]</td>\n",
       "      <td>0</td>\n",
       "      <td>1</td>\n",
       "      <td>1623744305</td>\n",
       "      <td>o093ju</td>\n",
       "      <td>0.67</td>\n",
       "    </tr>\n",
       "    <tr>\n",
       "      <th>...</th>\n",
       "      <td>...</td>\n",
       "      <td>...</td>\n",
       "      <td>...</td>\n",
       "      <td>...</td>\n",
       "      <td>...</td>\n",
       "      <td>...</td>\n",
       "      <td>...</td>\n",
       "      <td>...</td>\n",
       "    </tr>\n",
       "    <tr>\n",
       "      <th>45</th>\n",
       "      <td>Health leaders concerned as COVID-19 case decl...</td>\n",
       "      <td>[deleted]</td>\n",
       "      <td>[deleted]</td>\n",
       "      <td>18</td>\n",
       "      <td>12</td>\n",
       "      <td>1614744709</td>\n",
       "      <td>lwkukr</td>\n",
       "      <td>0.78</td>\n",
       "    </tr>\n",
       "    <tr>\n",
       "      <th>89</th>\n",
       "      <td>Cloudy Night Timelapse</td>\n",
       "      <td>[deleted]</td>\n",
       "      <td>[deleted]</td>\n",
       "      <td>0</td>\n",
       "      <td>1</td>\n",
       "      <td>1614477026</td>\n",
       "      <td>lu2lst</td>\n",
       "      <td>1.00</td>\n",
       "    </tr>\n",
       "    <tr>\n",
       "      <th>97</th>\n",
       "      <td>Indoor swimming. Anyone try it?</td>\n",
       "      <td>[deleted]</td>\n",
       "      <td>[deleted]</td>\n",
       "      <td>1</td>\n",
       "      <td>1</td>\n",
       "      <td>1614472023</td>\n",
       "      <td>lu139e</td>\n",
       "      <td>1.00</td>\n",
       "    </tr>\n",
       "    <tr>\n",
       "      <th>18</th>\n",
       "      <td>Nonprofit computer search</td>\n",
       "      <td>[deleted]</td>\n",
       "      <td>[deleted]</td>\n",
       "      <td>0</td>\n",
       "      <td>1</td>\n",
       "      <td>1569160781</td>\n",
       "      <td>d7qruw</td>\n",
       "      <td>NaN</td>\n",
       "    </tr>\n",
       "    <tr>\n",
       "      <th>30</th>\n",
       "      <td>All In WA</td>\n",
       "      <td>[deleted]</td>\n",
       "      <td>[deleted]</td>\n",
       "      <td>0</td>\n",
       "      <td>1</td>\n",
       "      <td>1593188498</td>\n",
       "      <td>hgany2</td>\n",
       "      <td>1.00</td>\n",
       "    </tr>\n",
       "  </tbody>\n",
       "</table>\n",
       "<p>885 rows × 8 columns</p>\n",
       "</div>"
      ],
      "text/plain": [
       "                                                title   selftext     author  \\\n",
       "12                                            snowcat  [deleted]  [deleted]   \n",
       "29                   A foggy Bainbridge during sunset  [deleted]  [deleted]   \n",
       "35                           What’s with the honking?  [deleted]  [deleted]   \n",
       "46  Nobody wants to look at CHAZ/CHOP for what it ...  [deleted]  [deleted]   \n",
       "49                        Dick’s Pay Discussion Xpost  [deleted]  [deleted]   \n",
       "..                                                ...        ...        ...   \n",
       "45  Health leaders concerned as COVID-19 case decl...  [deleted]  [deleted]   \n",
       "89                             Cloudy Night Timelapse  [deleted]  [deleted]   \n",
       "97                    Indoor swimming. Anyone try it?  [deleted]  [deleted]   \n",
       "18                          Nonprofit computer search  [deleted]  [deleted]   \n",
       "30                                          All In WA  [deleted]  [deleted]   \n",
       "\n",
       "    num_comments  score  created_utc      id  upvote_ratio  \n",
       "12             0      1   1613280158  lji5a7          1.00  \n",
       "29             0      8   1623771238  o0h55q          0.79  \n",
       "35             4      0   1623768596  o0g4zd          0.50  \n",
       "46             5      0   1623763641  o0ecbo          0.40  \n",
       "49             0      1   1623744305  o093ju          0.67  \n",
       "..           ...    ...          ...     ...           ...  \n",
       "45            18     12   1614744709  lwkukr          0.78  \n",
       "89             0      1   1614477026  lu2lst          1.00  \n",
       "97             1      1   1614472023  lu139e          1.00  \n",
       "18             0      1   1569160781  d7qruw           NaN  \n",
       "30             0      1   1593188498  hgany2          1.00  \n",
       "\n",
       "[885 rows x 8 columns]"
      ]
     },
     "execution_count": 24,
     "metadata": {},
     "output_type": "execute_result"
    }
   ],
   "source": [
    "seattle[seattle['selftext']=='[deleted]']"
   ]
  },
  {
   "cell_type": "code",
   "execution_count": 25,
   "id": "138c52e8",
   "metadata": {},
   "outputs": [
    {
     "data": {
      "text/html": [
       "<div>\n",
       "<style scoped>\n",
       "    .dataframe tbody tr th:only-of-type {\n",
       "        vertical-align: middle;\n",
       "    }\n",
       "\n",
       "    .dataframe tbody tr th {\n",
       "        vertical-align: top;\n",
       "    }\n",
       "\n",
       "    .dataframe thead th {\n",
       "        text-align: right;\n",
       "    }\n",
       "</style>\n",
       "<table border=\"1\" class=\"dataframe\">\n",
       "  <thead>\n",
       "    <tr style=\"text-align: right;\">\n",
       "      <th></th>\n",
       "      <th>title</th>\n",
       "      <th>selftext</th>\n",
       "      <th>author</th>\n",
       "      <th>num_comments</th>\n",
       "      <th>score</th>\n",
       "      <th>created_utc</th>\n",
       "      <th>id</th>\n",
       "      <th>upvote_ratio</th>\n",
       "    </tr>\n",
       "  </thead>\n",
       "  <tbody>\n",
       "    <tr>\n",
       "      <th>30</th>\n",
       "      <td>Found Hidden Camera in AirBnb (Seattle, WA)</td>\n",
       "      <td>[deleted]</td>\n",
       "      <td>[deleted]</td>\n",
       "      <td>0</td>\n",
       "      <td>1</td>\n",
       "      <td>1524771938</td>\n",
       "      <td>8f5jtb</td>\n",
       "      <td>NaN</td>\n",
       "    </tr>\n",
       "    <tr>\n",
       "      <th>76</th>\n",
       "      <td>Gaswprks Park from Aurora Bridge this evening</td>\n",
       "      <td>[deleted]</td>\n",
       "      <td>[deleted]</td>\n",
       "      <td>0</td>\n",
       "      <td>1</td>\n",
       "      <td>1524721557</td>\n",
       "      <td>8f0df1</td>\n",
       "      <td>NaN</td>\n",
       "    </tr>\n",
       "    <tr>\n",
       "      <th>77</th>\n",
       "      <td>U.S. officials drill out locks at former Russi...</td>\n",
       "      <td>[deleted]</td>\n",
       "      <td>[deleted]</td>\n",
       "      <td>1</td>\n",
       "      <td>0</td>\n",
       "      <td>1524720692</td>\n",
       "      <td>8f0ax7</td>\n",
       "      <td>NaN</td>\n",
       "    </tr>\n",
       "    <tr>\n",
       "      <th>81</th>\n",
       "      <td>As Seattle considers spending more Seattle RTA...</td>\n",
       "      <td>[deleted]</td>\n",
       "      <td>[deleted]</td>\n",
       "      <td>0</td>\n",
       "      <td>1</td>\n",
       "      <td>1524714940</td>\n",
       "      <td>8ezsym</td>\n",
       "      <td>NaN</td>\n",
       "    </tr>\n",
       "    <tr>\n",
       "      <th>87</th>\n",
       "      <td>This weekend's 'Revive I-5' lane closures are ...</td>\n",
       "      <td>[deleted]</td>\n",
       "      <td>[deleted]</td>\n",
       "      <td>0</td>\n",
       "      <td>1</td>\n",
       "      <td>1524701551</td>\n",
       "      <td>8eyfdn</td>\n",
       "      <td>NaN</td>\n",
       "    </tr>\n",
       "    <tr>\n",
       "      <th>...</th>\n",
       "      <td>...</td>\n",
       "      <td>...</td>\n",
       "      <td>...</td>\n",
       "      <td>...</td>\n",
       "      <td>...</td>\n",
       "      <td>...</td>\n",
       "      <td>...</td>\n",
       "      <td>...</td>\n",
       "    </tr>\n",
       "    <tr>\n",
       "      <th>52</th>\n",
       "      <td>Halfway across the world in Saigon and I still...</td>\n",
       "      <td>[deleted]</td>\n",
       "      <td>[deleted]</td>\n",
       "      <td>0</td>\n",
       "      <td>1</td>\n",
       "      <td>1511233047</td>\n",
       "      <td>7eem6e</td>\n",
       "      <td>NaN</td>\n",
       "    </tr>\n",
       "    <tr>\n",
       "      <th>62</th>\n",
       "      <td>New indoor playground coming to Seattle!</td>\n",
       "      <td>[deleted]</td>\n",
       "      <td>[deleted]</td>\n",
       "      <td>6</td>\n",
       "      <td>0</td>\n",
       "      <td>1511210913</td>\n",
       "      <td>7ec1cw</td>\n",
       "      <td>NaN</td>\n",
       "    </tr>\n",
       "    <tr>\n",
       "      <th>66</th>\n",
       "      <td>A Time Capsule, Long Forgotten at the Space Ne...</td>\n",
       "      <td>[deleted]</td>\n",
       "      <td>[deleted]</td>\n",
       "      <td>1</td>\n",
       "      <td>1</td>\n",
       "      <td>1511206566</td>\n",
       "      <td>7ebh96</td>\n",
       "      <td>NaN</td>\n",
       "    </tr>\n",
       "    <tr>\n",
       "      <th>85</th>\n",
       "      <td>Seattle Democrats to show and quiet about Ed M...</td>\n",
       "      <td>[deleted]</td>\n",
       "      <td>[deleted]</td>\n",
       "      <td>0</td>\n",
       "      <td>1</td>\n",
       "      <td>1511149666</td>\n",
       "      <td>7e627j</td>\n",
       "      <td>NaN</td>\n",
       "    </tr>\n",
       "    <tr>\n",
       "      <th>84</th>\n",
       "      <td>Not in Seattle, but a reminder that sometimes ...</td>\n",
       "      <td>[deleted]</td>\n",
       "      <td>[deleted]</td>\n",
       "      <td>0</td>\n",
       "      <td>1</td>\n",
       "      <td>1559989656</td>\n",
       "      <td>by6n79</td>\n",
       "      <td>NaN</td>\n",
       "    </tr>\n",
       "  </tbody>\n",
       "</table>\n",
       "<p>967 rows × 8 columns</p>\n",
       "</div>"
      ],
      "text/plain": [
       "                                                title   selftext     author  \\\n",
       "30        Found Hidden Camera in AirBnb (Seattle, WA)  [deleted]  [deleted]   \n",
       "76      Gaswprks Park from Aurora Bridge this evening  [deleted]  [deleted]   \n",
       "77  U.S. officials drill out locks at former Russi...  [deleted]  [deleted]   \n",
       "81  As Seattle considers spending more Seattle RTA...  [deleted]  [deleted]   \n",
       "87  This weekend's 'Revive I-5' lane closures are ...  [deleted]  [deleted]   \n",
       "..                                                ...        ...        ...   \n",
       "52  Halfway across the world in Saigon and I still...  [deleted]  [deleted]   \n",
       "62           New indoor playground coming to Seattle!  [deleted]  [deleted]   \n",
       "66  A Time Capsule, Long Forgotten at the Space Ne...  [deleted]  [deleted]   \n",
       "85  Seattle Democrats to show and quiet about Ed M...  [deleted]  [deleted]   \n",
       "84  Not in Seattle, but a reminder that sometimes ...  [deleted]  [deleted]   \n",
       "\n",
       "    num_comments  score  created_utc      id  upvote_ratio  \n",
       "30             0      1   1524771938  8f5jtb           NaN  \n",
       "76             0      1   1524721557  8f0df1           NaN  \n",
       "77             1      0   1524720692  8f0ax7           NaN  \n",
       "81             0      1   1524714940  8ezsym           NaN  \n",
       "87             0      1   1524701551  8eyfdn           NaN  \n",
       "..           ...    ...          ...     ...           ...  \n",
       "52             0      1   1511233047  7eem6e           NaN  \n",
       "62             6      0   1511210913  7ec1cw           NaN  \n",
       "66             1      1   1511206566  7ebh96           NaN  \n",
       "85             0      1   1511149666  7e627j           NaN  \n",
       "84             0      1   1559989656  by6n79           NaN  \n",
       "\n",
       "[967 rows x 8 columns]"
      ]
     },
     "execution_count": 25,
     "metadata": {},
     "output_type": "execute_result"
    }
   ],
   "source": [
    "seattlewa[seattlewa['selftext']=='[deleted]']"
   ]
  },
  {
   "cell_type": "code",
   "execution_count": 26,
   "id": "e913847d",
   "metadata": {},
   "outputs": [
    {
     "data": {
      "text/html": [
       "<div>\n",
       "<style scoped>\n",
       "    .dataframe tbody tr th:only-of-type {\n",
       "        vertical-align: middle;\n",
       "    }\n",
       "\n",
       "    .dataframe tbody tr th {\n",
       "        vertical-align: top;\n",
       "    }\n",
       "\n",
       "    .dataframe thead th {\n",
       "        text-align: right;\n",
       "    }\n",
       "</style>\n",
       "<table border=\"1\" class=\"dataframe\">\n",
       "  <thead>\n",
       "    <tr style=\"text-align: right;\">\n",
       "      <th></th>\n",
       "      <th>title</th>\n",
       "      <th>selftext</th>\n",
       "      <th>author</th>\n",
       "      <th>num_comments</th>\n",
       "      <th>score</th>\n",
       "      <th>created_utc</th>\n",
       "      <th>id</th>\n",
       "      <th>upvote_ratio</th>\n",
       "    </tr>\n",
       "  </thead>\n",
       "  <tbody>\n",
       "    <tr>\n",
       "      <th>4</th>\n",
       "      <td>Raining Megathread</td>\n",
       "      <td>[removed]</td>\n",
       "      <td>[deleted]</td>\n",
       "      <td>5.0</td>\n",
       "      <td>4.0</td>\n",
       "      <td>1505019907</td>\n",
       "      <td>6z6j9x</td>\n",
       "      <td>NaN</td>\n",
       "    </tr>\n",
       "    <tr>\n",
       "      <th>9</th>\n",
       "      <td>O</td>\n",
       "      <td>[removed]</td>\n",
       "      <td>imbellish2</td>\n",
       "      <td>0.0</td>\n",
       "      <td>0.0</td>\n",
       "      <td>1505016522</td>\n",
       "      <td>6z6b2n</td>\n",
       "      <td>NaN</td>\n",
       "    </tr>\n",
       "    <tr>\n",
       "      <th>10</th>\n",
       "      <td>H</td>\n",
       "      <td>[removed]</td>\n",
       "      <td>imbellish2</td>\n",
       "      <td>0.0</td>\n",
       "      <td>0.0</td>\n",
       "      <td>1505016498</td>\n",
       "      <td>6z6b0g</td>\n",
       "      <td>NaN</td>\n",
       "    </tr>\n",
       "    <tr>\n",
       "      <th>11</th>\n",
       "      <td>C</td>\n",
       "      <td>[removed]</td>\n",
       "      <td>imbellish2</td>\n",
       "      <td>0.0</td>\n",
       "      <td>0.0</td>\n",
       "      <td>1505016487</td>\n",
       "      <td>6z6azc</td>\n",
       "      <td>NaN</td>\n",
       "    </tr>\n",
       "    <tr>\n",
       "      <th>12</th>\n",
       "      <td>I</td>\n",
       "      <td>[removed]</td>\n",
       "      <td>imbellish2</td>\n",
       "      <td>0.0</td>\n",
       "      <td>0.0</td>\n",
       "      <td>1505016477</td>\n",
       "      <td>6z6ayb</td>\n",
       "      <td>NaN</td>\n",
       "    </tr>\n",
       "  </tbody>\n",
       "</table>\n",
       "</div>"
      ],
      "text/plain": [
       "                 title   selftext      author  num_comments  score  \\\n",
       "4   Raining Megathread  [removed]   [deleted]           5.0    4.0   \n",
       "9                    O  [removed]  imbellish2           0.0    0.0   \n",
       "10                   H  [removed]  imbellish2           0.0    0.0   \n",
       "11                   C  [removed]  imbellish2           0.0    0.0   \n",
       "12                   I  [removed]  imbellish2           0.0    0.0   \n",
       "\n",
       "   created_utc      id  upvote_ratio  \n",
       "4   1505019907  6z6j9x           NaN  \n",
       "9   1505016522  6z6b2n           NaN  \n",
       "10  1505016498  6z6b0g           NaN  \n",
       "11  1505016487  6z6azc           NaN  \n",
       "12  1505016477  6z6ayb           NaN  "
      ]
     },
     "execution_count": 26,
     "metadata": {},
     "output_type": "execute_result"
    }
   ],
   "source": [
    "pdx[pdx['selftext'].str.contains('removed')==True].head()"
   ]
  },
  {
   "cell_type": "code",
   "execution_count": 27,
   "id": "bf5c6b59",
   "metadata": {},
   "outputs": [
    {
     "data": {
      "text/html": [
       "<div>\n",
       "<style scoped>\n",
       "    .dataframe tbody tr th:only-of-type {\n",
       "        vertical-align: middle;\n",
       "    }\n",
       "\n",
       "    .dataframe tbody tr th {\n",
       "        vertical-align: top;\n",
       "    }\n",
       "\n",
       "    .dataframe thead th {\n",
       "        text-align: right;\n",
       "    }\n",
       "</style>\n",
       "<table border=\"1\" class=\"dataframe\">\n",
       "  <thead>\n",
       "    <tr style=\"text-align: right;\">\n",
       "      <th></th>\n",
       "      <th>title</th>\n",
       "      <th>selftext</th>\n",
       "      <th>author</th>\n",
       "      <th>num_comments</th>\n",
       "      <th>score</th>\n",
       "      <th>created_utc</th>\n",
       "      <th>id</th>\n",
       "      <th>upvote_ratio</th>\n",
       "    </tr>\n",
       "  </thead>\n",
       "  <tbody>\n",
       "    <tr>\n",
       "      <th>2</th>\n",
       "      <td>Columbia River Gorge - Sept 2012 &amp;amp; Sept 2017</td>\n",
       "      <td>[deleted]</td>\n",
       "      <td>[deleted]</td>\n",
       "      <td>0.0</td>\n",
       "      <td>1.0</td>\n",
       "      <td>1505027081</td>\n",
       "      <td>6z6y6r</td>\n",
       "      <td>NaN</td>\n",
       "    </tr>\n",
       "    <tr>\n",
       "      <th>5</th>\n",
       "      <td>Hey!! Visiting Portland for a dance event! Our...</td>\n",
       "      <td>[deleted]</td>\n",
       "      <td>[deleted]</td>\n",
       "      <td>1.0</td>\n",
       "      <td>0.0</td>\n",
       "      <td>1505018862</td>\n",
       "      <td>6z6gx4</td>\n",
       "      <td>NaN</td>\n",
       "    </tr>\n",
       "    <tr>\n",
       "      <th>17</th>\n",
       "      <td>What's he building in there?</td>\n",
       "      <td>[deleted]</td>\n",
       "      <td>[deleted]</td>\n",
       "      <td>0.0</td>\n",
       "      <td>0.0</td>\n",
       "      <td>1505015606</td>\n",
       "      <td>6z68jo</td>\n",
       "      <td>NaN</td>\n",
       "    </tr>\n",
       "    <tr>\n",
       "      <th>32</th>\n",
       "      <td>Someone better come get their filthy free rang...</td>\n",
       "      <td>[deleted]</td>\n",
       "      <td>[deleted]</td>\n",
       "      <td>5.0</td>\n",
       "      <td>3.0</td>\n",
       "      <td>1505004950</td>\n",
       "      <td>6z5fax</td>\n",
       "      <td>NaN</td>\n",
       "    </tr>\n",
       "    <tr>\n",
       "      <th>33</th>\n",
       "      <td>Turn this up, and go outside. Sweet, sweet man...</td>\n",
       "      <td>[deleted]</td>\n",
       "      <td>[deleted]</td>\n",
       "      <td>0.0</td>\n",
       "      <td>1.0</td>\n",
       "      <td>1505004827</td>\n",
       "      <td>6z5eyr</td>\n",
       "      <td>NaN</td>\n",
       "    </tr>\n",
       "    <tr>\n",
       "      <th>...</th>\n",
       "      <td>...</td>\n",
       "      <td>...</td>\n",
       "      <td>...</td>\n",
       "      <td>...</td>\n",
       "      <td>...</td>\n",
       "      <td>...</td>\n",
       "      <td>...</td>\n",
       "      <td>...</td>\n",
       "    </tr>\n",
       "    <tr>\n",
       "      <th>64</th>\n",
       "      <td>Selling my scooter, Buddy 150 if anyone is int...</td>\n",
       "      <td>[deleted]</td>\n",
       "      <td>[deleted]</td>\n",
       "      <td>1.0</td>\n",
       "      <td>1.0</td>\n",
       "      <td>1504812304</td>\n",
       "      <td>6yph16</td>\n",
       "      <td>NaN</td>\n",
       "    </tr>\n",
       "    <tr>\n",
       "      <th>79</th>\n",
       "      <td>Payback, but how many will return?</td>\n",
       "      <td>[deleted]</td>\n",
       "      <td>[deleted]</td>\n",
       "      <td>0.0</td>\n",
       "      <td>2.0</td>\n",
       "      <td>1504800502</td>\n",
       "      <td>6yo6l0</td>\n",
       "      <td>NaN</td>\n",
       "    </tr>\n",
       "    <tr>\n",
       "      <th>92</th>\n",
       "      <td>Probably best to stay indoors actually.</td>\n",
       "      <td>[deleted]</td>\n",
       "      <td>[deleted]</td>\n",
       "      <td>0.0</td>\n",
       "      <td>0.0</td>\n",
       "      <td>1504767647</td>\n",
       "      <td>6ylme7</td>\n",
       "      <td>NaN</td>\n",
       "    </tr>\n",
       "    <tr>\n",
       "      <th>93</th>\n",
       "      <td>Photos from last Saturday (before the fire)</td>\n",
       "      <td>[deleted]</td>\n",
       "      <td>[deleted]</td>\n",
       "      <td>1.0</td>\n",
       "      <td>0.0</td>\n",
       "      <td>1504765502</td>\n",
       "      <td>6ylhkw</td>\n",
       "      <td>NaN</td>\n",
       "    </tr>\n",
       "    <tr>\n",
       "      <th>97</th>\n",
       "      <td>The \"Bye mom, Going hiking with friends\" Start...</td>\n",
       "      <td>[deleted]</td>\n",
       "      <td>[deleted]</td>\n",
       "      <td>4.0</td>\n",
       "      <td>4.0</td>\n",
       "      <td>1504761152</td>\n",
       "      <td>6yl6vn</td>\n",
       "      <td>NaN</td>\n",
       "    </tr>\n",
       "  </tbody>\n",
       "</table>\n",
       "<p>8682 rows × 8 columns</p>\n",
       "</div>"
      ],
      "text/plain": [
       "                                                title   selftext     author  \\\n",
       "2    Columbia River Gorge - Sept 2012 &amp; Sept 2017  [deleted]  [deleted]   \n",
       "5   Hey!! Visiting Portland for a dance event! Our...  [deleted]  [deleted]   \n",
       "17                       What's he building in there?  [deleted]  [deleted]   \n",
       "32  Someone better come get their filthy free rang...  [deleted]  [deleted]   \n",
       "33  Turn this up, and go outside. Sweet, sweet man...  [deleted]  [deleted]   \n",
       "..                                                ...        ...        ...   \n",
       "64  Selling my scooter, Buddy 150 if anyone is int...  [deleted]  [deleted]   \n",
       "79                 Payback, but how many will return?  [deleted]  [deleted]   \n",
       "92            Probably best to stay indoors actually.  [deleted]  [deleted]   \n",
       "93        Photos from last Saturday (before the fire)  [deleted]  [deleted]   \n",
       "97  The \"Bye mom, Going hiking with friends\" Start...  [deleted]  [deleted]   \n",
       "\n",
       "    num_comments  score created_utc      id  upvote_ratio  \n",
       "2            0.0    1.0  1505027081  6z6y6r           NaN  \n",
       "5            1.0    0.0  1505018862  6z6gx4           NaN  \n",
       "17           0.0    0.0  1505015606  6z68jo           NaN  \n",
       "32           5.0    3.0  1505004950  6z5fax           NaN  \n",
       "33           0.0    1.0  1505004827  6z5eyr           NaN  \n",
       "..           ...    ...         ...     ...           ...  \n",
       "64           1.0    1.0  1504812304  6yph16           NaN  \n",
       "79           0.0    2.0  1504800502  6yo6l0           NaN  \n",
       "92           0.0    0.0  1504767647  6ylme7           NaN  \n",
       "93           1.0    0.0  1504765502  6ylhkw           NaN  \n",
       "97           4.0    4.0  1504761152  6yl6vn           NaN  \n",
       "\n",
       "[8682 rows x 8 columns]"
      ]
     },
     "execution_count": 27,
     "metadata": {},
     "output_type": "execute_result"
    }
   ],
   "source": [
    "pdx[pdx['selftext']=='[deleted]']"
   ]
  },
  {
   "cell_type": "markdown",
   "id": "89cd70ad",
   "metadata": {},
   "source": [
    "We see that there are some removed and deleted comments in the mix.  We can consider using the titles only. These cases represent around 3.5% (`r/Seattle`), 5.9% (`r/SeattleWA`) and 5.7% (`r/Portland`) of the data with nonnull `selftext` field.  Traditionally we drop cases if they are less than 5% but here we do not have a choice to impute the values as the data have been deleted.   "
   ]
  },
  {
   "cell_type": "code",
   "execution_count": 28,
   "id": "b4de9bef",
   "metadata": {},
   "outputs": [
    {
     "data": {
      "text/plain": [
       "OnlineMemeArmy         3043\n",
       "[deleted]               961\n",
       "gharrity                645\n",
       "Display_Comfortable     587\n",
       "softwareseattle         398\n",
       "                       ... \n",
       "PlaneSurfers              1\n",
       "youcanbemysnackpack       1\n",
       "apathyontheeast           1\n",
       "scorpion-mother           1\n",
       "dyanepalomarizt           1\n",
       "Name: author, Length: 28312, dtype: int64"
      ]
     },
     "execution_count": 28,
     "metadata": {},
     "output_type": "execute_result"
    }
   ],
   "source": [
    "#users\n",
    "seattle['author'].value_counts()"
   ]
  },
  {
   "cell_type": "code",
   "execution_count": 29,
   "id": "64005df4",
   "metadata": {},
   "outputs": [
    {
     "data": {
      "text/plain": [
       "28312"
      ]
     },
     "execution_count": 29,
     "metadata": {},
     "output_type": "execute_result"
    }
   ],
   "source": [
    "#unique authors\n",
    "len(set(seattle['author']))"
   ]
  },
  {
   "cell_type": "code",
   "execution_count": 30,
   "id": "0c3c429b",
   "metadata": {
    "scrolled": true
   },
   "outputs": [
    {
     "data": {
      "text/plain": [
       "OnlineMemeArmy        3080\n",
       "Cosmo-DNA             2149\n",
       "ChefJoe98136          1937\n",
       "[deleted]             1032\n",
       "SeattleWARedditBot     961\n",
       "                      ... \n",
       "SoundersFansBike         1\n",
       "Regulator313             1\n",
       "Plants_n_Monsters        1\n",
       "marceloandradep          1\n",
       "Kidousen                 1\n",
       "Name: author, Length: 16119, dtype: int64"
      ]
     },
     "execution_count": 30,
     "metadata": {},
     "output_type": "execute_result"
    }
   ],
   "source": [
    "#authors\n",
    "seattlewa['author'].value_counts()"
   ]
  },
  {
   "cell_type": "code",
   "execution_count": 31,
   "id": "552f0bc3",
   "metadata": {},
   "outputs": [
    {
     "data": {
      "text/plain": [
       "16119"
      ]
     },
     "execution_count": 31,
     "metadata": {},
     "output_type": "execute_result"
    }
   ],
   "source": [
    "#unique authors for r/seattlewa\n",
    "len(set(seattlewa['author']))"
   ]
  },
  {
   "cell_type": "code",
   "execution_count": 66,
   "id": "5dccf492",
   "metadata": {},
   "outputs": [
    {
     "data": {
      "text/plain": [
       "39055"
      ]
     },
     "execution_count": 66,
     "metadata": {},
     "output_type": "execute_result"
    }
   ],
   "source": [
    "#unique authors across both seattle subreddits\n",
    "len(set(list(seattlewa['author'])+list(seattle['author'])))"
   ]
  },
  {
   "cell_type": "code",
   "execution_count": 32,
   "id": "9ac41190",
   "metadata": {
    "scrolled": false
   },
   "outputs": [
    {
     "data": {
      "text/plain": [
       "[deleted]           12350\n",
       "guanaco55            1906\n",
       "AutoModerator        1491\n",
       "MIZZKATHY74           847\n",
       "jr98664               745\n",
       "                    ...  \n",
       "TarkmanVanWa            1\n",
       "bownesspianogirl        1\n",
       "shmessica22             1\n",
       "johnkingtx              1\n",
       "Ironbonermom            1\n",
       "Name: author, Length: 46862, dtype: int64"
      ]
     },
     "execution_count": 32,
     "metadata": {},
     "output_type": "execute_result"
    }
   ],
   "source": [
    "pdx['author'].value_counts()"
   ]
  },
  {
   "cell_type": "code",
   "execution_count": 68,
   "id": "6f2ca465",
   "metadata": {},
   "outputs": [],
   "source": [
    "seattle_authors = set(list(seattle['author'])+list(seattlewa['author']))"
   ]
  },
  {
   "cell_type": "code",
   "execution_count": 33,
   "id": "31a77a2a",
   "metadata": {},
   "outputs": [
    {
     "data": {
      "text/plain": [
       "46863"
      ]
     },
     "execution_count": 33,
     "metadata": {},
     "output_type": "execute_result"
    }
   ],
   "source": [
    "# unique authors for Portland\n",
    "len(set(pdx['author']))"
   ]
  },
  {
   "cell_type": "code",
   "execution_count": 69,
   "id": "b1d9da02",
   "metadata": {},
   "outputs": [],
   "source": [
    "all_authors = set(list(seattle['author'])+list(seattlewa['author']) + list(pdx['author']))"
   ]
  },
  {
   "cell_type": "code",
   "execution_count": 70,
   "id": "e9e80420",
   "metadata": {},
   "outputs": [
    {
     "data": {
      "text/plain": [
       "84233"
      ]
     },
     "execution_count": 70,
     "metadata": {},
     "output_type": "execute_result"
    }
   ],
   "source": [
    "# unique authors cross referencing both reddits\n",
    "len(all_authors)"
   ]
  },
  {
   "cell_type": "markdown",
   "id": "508d5db9",
   "metadata": {},
   "source": [
    "The subreddits have a few prolific authors and many authors with a single post.  Interestingly the top poster in both Seattle groups is the same account that, by name, appears to be a meme poster. \n",
    "\n",
    "We see 39,055 unique authors for the Seattle-based reddits, 46,863 unique authors for the Portland reddit, and 85,918 unique authors across both.  Both of these reddits are active communities that represent a good marketing opportunity.  "
   ]
  },
  {
   "cell_type": "code",
   "execution_count": 34,
   "id": "03475415",
   "metadata": {},
   "outputs": [
    {
     "data": {
      "text/plain": [
       "0"
      ]
     },
     "execution_count": 34,
     "metadata": {},
     "output_type": "execute_result"
    }
   ],
   "source": [
    "seattle['num_comments'].isna().sum()"
   ]
  },
  {
   "cell_type": "code",
   "execution_count": 35,
   "id": "bfc35c61",
   "metadata": {},
   "outputs": [
    {
     "data": {
      "text/plain": [
       "0"
      ]
     },
     "execution_count": 35,
     "metadata": {},
     "output_type": "execute_result"
    }
   ],
   "source": [
    "seattlewa['num_comments'].isna().sum()"
   ]
  },
  {
   "cell_type": "code",
   "execution_count": 36,
   "id": "d4674e54",
   "metadata": {},
   "outputs": [
    {
     "data": {
      "text/plain": [
       "3"
      ]
     },
     "execution_count": 36,
     "metadata": {},
     "output_type": "execute_result"
    }
   ],
   "source": [
    "pdx['num_comments'].isna().sum()"
   ]
  },
  {
   "cell_type": "code",
   "execution_count": 37,
   "id": "6c136c3b",
   "metadata": {},
   "outputs": [],
   "source": [
    "#filling null num_comments with 0\n",
    "pdx['num_comments'] = pdx['num_comments'].fillna(0)"
   ]
  },
  {
   "cell_type": "code",
   "execution_count": 38,
   "id": "c0c83b9c",
   "metadata": {},
   "outputs": [
    {
     "data": {
      "text/plain": [
       "count    61181.000000\n",
       "mean        20.125055\n",
       "std         65.440629\n",
       "min          0.000000\n",
       "25%          2.000000\n",
       "50%          6.000000\n",
       "75%         17.000000\n",
       "max       6591.000000\n",
       "Name: num_comments, dtype: float64"
      ]
     },
     "execution_count": 38,
     "metadata": {},
     "output_type": "execute_result"
    }
   ],
   "source": [
    "#num comments\n",
    "seattle['num_comments'].describe()"
   ]
  },
  {
   "cell_type": "code",
   "execution_count": 39,
   "id": "cdf9f318",
   "metadata": {
    "scrolled": true
   },
   "outputs": [
    {
     "data": {
      "text/plain": [
       "count    59524.000000\n",
       "mean        31.800988\n",
       "std         73.243269\n",
       "min          0.000000\n",
       "25%          3.000000\n",
       "50%         10.000000\n",
       "75%         29.000000\n",
       "max       2390.000000\n",
       "Name: num_comments, dtype: float64"
      ]
     },
     "execution_count": 39,
     "metadata": {},
     "output_type": "execute_result"
    }
   ],
   "source": [
    "seattlewa['num_comments'].describe()"
   ]
  },
  {
   "cell_type": "code",
   "execution_count": 40,
   "id": "623dfee8",
   "metadata": {},
   "outputs": [
    {
     "data": {
      "text/plain": [
       "count    149899.000000\n",
       "mean         25.580684\n",
       "std          59.219577\n",
       "min           0.000000\n",
       "25%           3.000000\n",
       "50%          10.000000\n",
       "75%          25.000000\n",
       "max        5564.000000\n",
       "Name: num_comments, dtype: float64"
      ]
     },
     "execution_count": 40,
     "metadata": {},
     "output_type": "execute_result"
    }
   ],
   "source": [
    "#num comments\n",
    "pdx['num_comments'].describe()"
   ]
  },
  {
   "cell_type": "code",
   "execution_count": 41,
   "id": "d0f18eda",
   "metadata": {
    "scrolled": true
   },
   "outputs": [
    {
     "name": "stderr",
     "output_type": "stream",
     "text": [
      "/Users/mamabear/opt/anaconda3/lib/python3.8/site-packages/seaborn/_decorators.py:36: FutureWarning: Pass the following variable as a keyword arg: x. From version 0.12, the only valid positional argument will be `data`, and passing other arguments without an explicit keyword will result in an error or misinterpretation.\n",
      "  warnings.warn(\n"
     ]
    },
    {
     "data": {
      "image/png": "[encoded data removed]",
      "text/plain": [
       "<Figure size 432x288 with 1 Axes>"
      ]
     },
     "metadata": {
      "needs_background": "light"
     },
     "output_type": "display_data"
    }
   ],
   "source": [
    "sns.boxplot(seattle['num_comments']);"
   ]
  },
  {
   "cell_type": "code",
   "execution_count": 42,
   "id": "b6dfdcd9",
   "metadata": {
    "scrolled": true
   },
   "outputs": [
    {
     "name": "stderr",
     "output_type": "stream",
     "text": [
      "/Users/mamabear/opt/anaconda3/lib/python3.8/site-packages/seaborn/_decorators.py:36: FutureWarning: Pass the following variable as a keyword arg: x. From version 0.12, the only valid positional argument will be `data`, and passing other arguments without an explicit keyword will result in an error or misinterpretation.\n",
      "  warnings.warn(\n"
     ]
    },
    {
     "data": {
      "image/png": "[encoded data removed]",
      "text/plain": [
       "<Figure size 432x288 with 1 Axes>"
      ]
     },
     "metadata": {
      "needs_background": "light"
     },
     "output_type": "display_data"
    }
   ],
   "source": [
    "sns.boxplot(seattlewa['num_comments']);"
   ]
  },
  {
   "cell_type": "code",
   "execution_count": 43,
   "id": "ff5eb15d",
   "metadata": {},
   "outputs": [
    {
     "name": "stderr",
     "output_type": "stream",
     "text": [
      "/Users/mamabear/opt/anaconda3/lib/python3.8/site-packages/seaborn/_decorators.py:36: FutureWarning: Pass the following variable as a keyword arg: x. From version 0.12, the only valid positional argument will be `data`, and passing other arguments without an explicit keyword will result in an error or misinterpretation.\n",
      "  warnings.warn(\n"
     ]
    },
    {
     "data": {
      "image/png": "[encoded data removed]",
      "text/plain": [
       "<Figure size 432x288 with 1 Axes>"
      ]
     },
     "metadata": {
      "needs_background": "light"
     },
     "output_type": "display_data"
    }
   ],
   "source": [
    "sns.boxplot(pdx['num_comments']);"
   ]
  },
  {
   "cell_type": "markdown",
   "id": "2cd2b34e",
   "metadata": {},
   "source": [
    "The `num_comments` on the subreddits shows huge variance although the 75% cutoff is higher for `r/SeattleWA`.  Both have standard deviations that are at least double the mean.  This could be the effect of a few posts with large number of comments that we may want to remove if we use this column.  "
   ]
  },
  {
   "cell_type": "code",
   "execution_count": 44,
   "id": "3b8c9f3f",
   "metadata": {},
   "outputs": [
    {
     "data": {
      "text/plain": [
       "count    61181.000000\n",
       "mean        16.560223\n",
       "std        285.046181\n",
       "min          0.000000\n",
       "25%          1.000000\n",
       "50%          1.000000\n",
       "75%          1.000000\n",
       "max      62568.000000\n",
       "Name: score, dtype: float64"
      ]
     },
     "execution_count": 44,
     "metadata": {},
     "output_type": "execute_result"
    }
   ],
   "source": [
    "#score\n",
    "seattle['score'].describe()"
   ]
  },
  {
   "cell_type": "code",
   "execution_count": 45,
   "id": "93d1fe47",
   "metadata": {},
   "outputs": [
    {
     "data": {
      "text/plain": [
       "count    59524.000000\n",
       "mean        26.519673\n",
       "std        299.898479\n",
       "min          0.000000\n",
       "25%          1.000000\n",
       "50%          1.000000\n",
       "75%          5.000000\n",
       "max      41898.000000\n",
       "Name: score, dtype: float64"
      ]
     },
     "execution_count": 45,
     "metadata": {},
     "output_type": "execute_result"
    }
   ],
   "source": [
    "seattlewa['score'].describe()"
   ]
  },
  {
   "cell_type": "code",
   "execution_count": 46,
   "id": "e3a1620e",
   "metadata": {},
   "outputs": [
    {
     "data": {
      "text/plain": [
       "count    149896.000000\n",
       "mean         27.688271\n",
       "std         187.414920\n",
       "min           0.000000\n",
       "25%           1.000000\n",
       "50%           1.000000\n",
       "75%           9.000000\n",
       "max       42241.000000\n",
       "Name: score, dtype: float64"
      ]
     },
     "execution_count": 46,
     "metadata": {},
     "output_type": "execute_result"
    }
   ],
   "source": [
    "pdx['score'].describe()"
   ]
  },
  {
   "cell_type": "markdown",
   "id": "60032df2",
   "metadata": {},
   "source": [
    "For `score` we also see large standard deviations in all the subreddits.  Again, there is a slightly higher 75% cutoff for `r/SeattleWA` but this column is probably not usable given the huge standard deviation relative to the differences.  "
   ]
  },
  {
   "cell_type": "code",
   "execution_count": 47,
   "id": "3d80bc5d",
   "metadata": {},
   "outputs": [
    {
     "data": {
      "text/plain": [
       "21648"
      ]
     },
     "execution_count": 47,
     "metadata": {},
     "output_type": "execute_result"
    }
   ],
   "source": [
    "seattle['upvote_ratio'].isna().sum()"
   ]
  },
  {
   "cell_type": "code",
   "execution_count": 48,
   "id": "5230034d",
   "metadata": {},
   "outputs": [
    {
     "data": {
      "text/plain": [
       "37176"
      ]
     },
     "execution_count": 48,
     "metadata": {},
     "output_type": "execute_result"
    }
   ],
   "source": [
    "seattlewa['upvote_ratio'].isna().sum()"
   ]
  },
  {
   "cell_type": "code",
   "execution_count": 49,
   "id": "d6466311",
   "metadata": {},
   "outputs": [
    {
     "data": {
      "text/plain": [
       "96918"
      ]
     },
     "execution_count": 49,
     "metadata": {},
     "output_type": "execute_result"
    }
   ],
   "source": [
    "pdx['upvote_ratio'].isna().sum()"
   ]
  },
  {
   "cell_type": "code",
   "execution_count": 50,
   "id": "d52a6342",
   "metadata": {},
   "outputs": [
    {
     "data": {
      "text/plain": [
       "count    39533.000000\n",
       "mean         0.949403\n",
       "std          0.154108\n",
       "min          0.040000\n",
       "25%          1.000000\n",
       "50%          1.000000\n",
       "75%          1.000000\n",
       "max          1.000000\n",
       "Name: upvote_ratio, dtype: float64"
      ]
     },
     "execution_count": 50,
     "metadata": {},
     "output_type": "execute_result"
    }
   ],
   "source": [
    "seattle['upvote_ratio'].describe()"
   ]
  },
  {
   "cell_type": "code",
   "execution_count": 51,
   "id": "94c96103",
   "metadata": {
    "scrolled": false
   },
   "outputs": [
    {
     "data": {
      "text/plain": [
       "count    22348.000000\n",
       "mean         0.950555\n",
       "std          0.145788\n",
       "min          0.060000\n",
       "25%          1.000000\n",
       "50%          1.000000\n",
       "75%          1.000000\n",
       "max          1.000000\n",
       "Name: upvote_ratio, dtype: float64"
      ]
     },
     "execution_count": 51,
     "metadata": {},
     "output_type": "execute_result"
    }
   ],
   "source": [
    "seattlewa['upvote_ratio'].describe()"
   ]
  },
  {
   "cell_type": "code",
   "execution_count": 52,
   "id": "226092a1",
   "metadata": {},
   "outputs": [
    {
     "data": {
      "text/plain": [
       "count    52981.000000\n",
       "mean         0.945388\n",
       "std          0.155450\n",
       "min          0.050000\n",
       "25%          1.000000\n",
       "50%          1.000000\n",
       "75%          1.000000\n",
       "max          1.000000\n",
       "Name: upvote_ratio, dtype: float64"
      ]
     },
     "execution_count": 52,
     "metadata": {},
     "output_type": "execute_result"
    }
   ],
   "source": [
    "pdx['upvote_ratio'].describe()"
   ]
  },
  {
   "cell_type": "markdown",
   "id": "e9163687",
   "metadata": {},
   "source": [
    "Same large standard deviation for `upvote_ratio` and no obviously actionable information.  Almsot half of these entries are also null.  This column is best dropped.  \n"
   ]
  },
  {
   "cell_type": "code",
   "execution_count": 53,
   "id": "36f74b5f",
   "metadata": {
    "scrolled": true
   },
   "outputs": [
    {
     "data": {
      "text/plain": [
       "['title',\n",
       " 'selftext',\n",
       " 'author',\n",
       " 'num_comments',\n",
       " 'score',\n",
       " 'created_utc',\n",
       " 'id',\n",
       " 'upvote_ratio']"
      ]
     },
     "execution_count": 53,
     "metadata": {},
     "output_type": "execute_result"
    }
   ],
   "source": [
    "features"
   ]
  },
  {
   "cell_type": "code",
   "execution_count": 54,
   "id": "9c0955b1",
   "metadata": {},
   "outputs": [
    {
     "data": {
      "text/plain": [
       "0"
      ]
     },
     "execution_count": 54,
     "metadata": {},
     "output_type": "execute_result"
    }
   ],
   "source": [
    "seattle['title'].isna().sum()"
   ]
  },
  {
   "cell_type": "code",
   "execution_count": 55,
   "id": "5a5a4ca4",
   "metadata": {},
   "outputs": [
    {
     "data": {
      "text/plain": [
       "0"
      ]
     },
     "execution_count": 55,
     "metadata": {},
     "output_type": "execute_result"
    }
   ],
   "source": [
    "seattlewa['title'].isna().sum()"
   ]
  },
  {
   "cell_type": "code",
   "execution_count": 56,
   "id": "7333ea65",
   "metadata": {
    "scrolled": true
   },
   "outputs": [
    {
     "data": {
      "text/plain": [
       "4"
      ]
     },
     "execution_count": 56,
     "metadata": {},
     "output_type": "execute_result"
    }
   ],
   "source": [
    "pdx['title'].isna().sum()"
   ]
  },
  {
   "cell_type": "code",
   "execution_count": 57,
   "id": "c7107ce3",
   "metadata": {},
   "outputs": [],
   "source": [
    "#dropping posts with null titles\n",
    "pdx = pdx[pdx['title'].notnull() == True]"
   ]
  },
  {
   "cell_type": "markdown",
   "id": "dd632286",
   "metadata": {},
   "source": [
    "For the Seattle subreddits the `title` column has no nulls because it is a required field.  The Portland subreddit has 4 nulls, which we drop.  Even removed entries have titles.  This information could be used in combination with the `selftext` to form the entirety of the submission text.  "
   ]
  },
  {
   "cell_type": "code",
   "execution_count": 58,
   "id": "f2708052",
   "metadata": {},
   "outputs": [
    {
     "name": "stdout",
     "output_type": "stream",
     "text": [
      "61181 61181\n"
     ]
    }
   ],
   "source": [
    "print(len(set(seattle['id'])), len(seattle['id']))"
   ]
  },
  {
   "cell_type": "code",
   "execution_count": 59,
   "id": "e97622cd",
   "metadata": {},
   "outputs": [
    {
     "name": "stdout",
     "output_type": "stream",
     "text": [
      "59524 59524\n"
     ]
    }
   ],
   "source": [
    "print(len(set(seattlewa['id'])), len(seattlewa['id']))"
   ]
  },
  {
   "cell_type": "code",
   "execution_count": 60,
   "id": "eb5b37da",
   "metadata": {},
   "outputs": [
    {
     "name": "stdout",
     "output_type": "stream",
     "text": [
      "149895 149895\n"
     ]
    }
   ],
   "source": [
    "print(len(set(pdx['id'])), len(pdx['id']))"
   ]
  },
  {
   "cell_type": "markdown",
   "id": "bd533ddf",
   "metadata": {},
   "source": [
    "The `id` is a unique id that can be referenced to make sure that we do not duplicate data.  "
   ]
  },
  {
   "cell_type": "code",
   "execution_count": 61,
   "id": "b6eb792d",
   "metadata": {},
   "outputs": [
    {
     "data": {
      "text/plain": [
       "['title',\n",
       " 'selftext',\n",
       " 'author',\n",
       " 'num_comments',\n",
       " 'score',\n",
       " 'created_utc',\n",
       " 'id',\n",
       " 'upvote_ratio']"
      ]
     },
     "execution_count": 61,
     "metadata": {},
     "output_type": "execute_result"
    }
   ],
   "source": [
    "features\n"
   ]
  },
  {
   "cell_type": "code",
   "execution_count": 62,
   "id": "edb3ac66",
   "metadata": {},
   "outputs": [],
   "source": [
    "#save the cleaned data frames to their respective directories in the data directory\n",
    "def save_cleaned_data(df,sub):\n",
    "    final_features = ['selftext','title','author','id',]\n",
    "    df[final_features].to_csv(f'./data/{sub}/{sub}_cleaned.csv')\n",
    "    \n",
    "save_cleaned_data(seattle,'Seattle')\n",
    "\n",
    "save_cleaned_data(seattlewa,'SeattleWA')  \n",
    "\n",
    "save_cleaned_data(pdx,'Portland')"
   ]
  },
  {
   "cell_type": "markdown",
   "id": "f4409dca",
   "metadata": {},
   "source": [
    "#### Next steps\n",
    "After running this notebook we can move on to [exploratory data analysis](./03-exploratory-data-anlaysis.ipynb) "
   ]
  }
 ],
 "metadata": {
  "kernelspec": {
   "display_name": "Python 3",
   "language": "python",
   "name": "python3"
  },
  "language_info": {
   "codemirror_mode": {
    "name": "ipython",
    "version": 3
   },
   "file_extension": ".py",
   "mimetype": "text/x-python",
   "name": "python",
   "nbconvert_exporter": "python",
   "pygments_lexer": "ipython3",
   "version": "3.8.8"
  }
 },
 "nbformat": 4,
 "nbformat_minor": 5
}
